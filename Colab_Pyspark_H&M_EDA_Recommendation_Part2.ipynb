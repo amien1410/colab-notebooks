{
  "nbformat": 4,
  "nbformat_minor": 0,
  "metadata": {
    "colab": {
      "provenance": [],
      "authorship_tag": "ABX9TyMW75yXj8jBSOcb8JEpogBh",
      "include_colab_link": true
    },
    "kernelspec": {
      "name": "python3",
      "display_name": "Python 3"
    },
    "language_info": {
      "name": "python"
    }
  },
  "cells": [
    {
      "cell_type": "markdown",
      "metadata": {
        "id": "view-in-github",
        "colab_type": "text"
      },
      "source": [
        "<a href=\"https://colab.research.google.com/github/amien1410/colab-notebooks/blob/main/Colab_Pyspark_H%26M_EDA_Recommendation_Part2.ipynb\" target=\"_parent\"><img src=\"https://colab.research.google.com/assets/colab-badge.svg\" alt=\"Open In Colab\"/></a>"
      ]
    },
    {
      "cell_type": "code",
      "execution_count": 1,
      "metadata": {
        "colab": {
          "base_uri": "https://localhost:8080/"
        },
        "id": "gTQe5CRCR7GG",
        "outputId": "eacfe5db-0966-4a73-a897-fc86a27b5ce6"
      },
      "outputs": [
        {
          "output_type": "stream",
          "name": "stdout",
          "text": [
            "Mounted at /content/drive\n",
            "Requirement already satisfied: kaggle in /usr/local/lib/python3.11/dist-packages (1.7.4.5)\n",
            "Requirement already satisfied: bleach in /usr/local/lib/python3.11/dist-packages (from kaggle) (6.2.0)\n",
            "Requirement already satisfied: certifi>=14.05.14 in /usr/local/lib/python3.11/dist-packages (from kaggle) (2025.6.15)\n",
            "Requirement already satisfied: charset-normalizer in /usr/local/lib/python3.11/dist-packages (from kaggle) (3.4.2)\n",
            "Requirement already satisfied: idna in /usr/local/lib/python3.11/dist-packages (from kaggle) (3.10)\n",
            "Requirement already satisfied: protobuf in /usr/local/lib/python3.11/dist-packages (from kaggle) (5.29.5)\n",
            "Requirement already satisfied: python-dateutil>=2.5.3 in /usr/local/lib/python3.11/dist-packages (from kaggle) (2.9.0.post0)\n",
            "Requirement already satisfied: python-slugify in /usr/local/lib/python3.11/dist-packages (from kaggle) (8.0.4)\n",
            "Requirement already satisfied: requests in /usr/local/lib/python3.11/dist-packages (from kaggle) (2.32.3)\n",
            "Requirement already satisfied: setuptools>=21.0.0 in /usr/local/lib/python3.11/dist-packages (from kaggle) (75.2.0)\n",
            "Requirement already satisfied: six>=1.10 in /usr/local/lib/python3.11/dist-packages (from kaggle) (1.17.0)\n",
            "Requirement already satisfied: text-unidecode in /usr/local/lib/python3.11/dist-packages (from kaggle) (1.3)\n",
            "Requirement already satisfied: tqdm in /usr/local/lib/python3.11/dist-packages (from kaggle) (4.67.1)\n",
            "Requirement already satisfied: urllib3>=1.15.1 in /usr/local/lib/python3.11/dist-packages (from kaggle) (2.4.0)\n",
            "Requirement already satisfied: webencodings in /usr/local/lib/python3.11/dist-packages (from kaggle) (0.5.1)\n",
            "Dataset URL: https://www.kaggle.com/datasets/odins0n/hm256x256\n",
            "License(s): other\n",
            "Downloading hm256x256.zip to /content\n",
            " 96% 2.05G/2.13G [00:12<00:02, 36.4MB/s]\n",
            "100% 2.13G/2.13G [00:12<00:00, 182MB/s] \n"
          ]
        }
      ],
      "source": [
        "#@title Install Kaggle modules and download the dataset\n",
        "\n",
        "from google.colab import drive\n",
        "drive.mount('/content/drive')\n",
        "\n",
        "!pip install kaggle\n",
        "import os\n",
        "os.environ['KAGGLE_CONFIG_DIR'] = '/content/drive/MyDrive/kaggle'\n",
        "!kaggle datasets download -d odins0n/hm256x256\n",
        "!unzip -q \"/content/hm256x256.zip\""
      ]
    },
    {
      "cell_type": "code",
      "source": [],
      "metadata": {
        "id": "ql-SBs27TI3k"
      },
      "execution_count": null,
      "outputs": []
    },
    {
      "cell_type": "markdown",
      "metadata": {
        "id": "d7646018"
      },
      "source": [
        "✨ **Getting Started** ✨\n",
        "\n",
        "Before we dive into building our recommendation system, we need to set up our environment. This involves installing the necessary libraries and downloading the dataset we'll be working with."
      ]
    },
    {
      "cell_type": "code",
      "metadata": {
        "colab": {
          "base_uri": "https://localhost:8080/"
        },
        "id": "4669dfce",
        "outputId": "d4c98c3f-da98-4ccf-9774-3541c68a16e8"
      },
      "source": [
        "!pip install pyspark"
      ],
      "execution_count": 2,
      "outputs": [
        {
          "output_type": "stream",
          "name": "stdout",
          "text": [
            "Requirement already satisfied: pyspark in /usr/local/lib/python3.11/dist-packages (3.5.1)\n",
            "Requirement already satisfied: py4j==0.10.9.7 in /usr/local/lib/python3.11/dist-packages (from pyspark) (0.10.9.7)\n"
          ]
        }
      ]
    },
    {
      "cell_type": "markdown",
      "metadata": {
        "id": "8282150d"
      },
      "source": [
        "⚙️ **Setting up Spark** ⚙️\n",
        "\n",
        "Before we can use PySpark, we need to start a Spark session. We'll also import some useful libraries that will help us work with data and build our recommendation model."
      ]
    },
    {
      "cell_type": "code",
      "source": [
        "import pyspark\n",
        "from pyspark.sql import SparkSession\n",
        "from pyspark.sql.types import StructType,StructField, StringType, IntegerType\n",
        "from pyspark.sql.types import ArrayType, DoubleType, BooleanType\n",
        "from pyspark.sql.functions import col,array_contains\n",
        "from pyspark.sql import SQLContext\n",
        "from pyspark.ml.recommendation import ALS\n",
        "from pyspark.sql.functions import udf,col,when\n",
        "from pyspark.sql.functions import to_timestamp,date_format\n",
        "import numpy as np\n",
        "import pandas as pd\n",
        "from pyspark.sql.types import *\n",
        "from pyspark.sql.functions import *\n",
        "from pyspark.sql.window import *\n",
        "\n",
        "sc = SparkSession.builder.appName(\"Recommendations\").config(\"spark.sql.files.maxPartitionBytes\", 5000000).getOrCreate()\n",
        "spark = SparkSession(sc)"
      ],
      "metadata": {
        "id": "lUuDA2AYTg9X"
      },
      "execution_count": 3,
      "outputs": []
    },
    {
      "cell_type": "markdown",
      "metadata": {
        "id": "d62a1c74"
      },
      "source": [
        "💾 **Loading the Transaction Data** 💾\n",
        "\n",
        "We'll load the transaction data into a Spark DataFrame. This dataset contains all the purchase information, which is super important for our recommendation system."
      ]
    },
    {
      "cell_type": "code",
      "source": [
        "transaction = spark.read.option(\"header\",True) \\\n",
        "              .csv(\"/content/transactions_train.csv\")\n",
        "transaction.printSchema()"
      ],
      "metadata": {
        "colab": {
          "base_uri": "https://localhost:8080/"
        },
        "id": "g00yZvVnTuIS",
        "outputId": "a26a0122-08b9-41f2-c212-4eb253dd22c0"
      },
      "execution_count": 4,
      "outputs": [
        {
          "output_type": "stream",
          "name": "stdout",
          "text": [
            "root\n",
            " |-- t_dat: string (nullable = true)\n",
            " |-- customer_id: string (nullable = true)\n",
            " |-- article_id: string (nullable = true)\n",
            " |-- price: string (nullable = true)\n",
            " |-- sales_channel_id: string (nullable = true)\n",
            "\n"
          ]
        }
      ]
    },
    {
      "cell_type": "markdown",
      "metadata": {
        "id": "4d1ccef8"
      },
      "source": [
        "📅 **Checking the Date Range** 📅\n",
        "\n",
        "It's always good to know the time period our data covers. Let's find the earliest and latest transaction dates in the dataset."
      ]
    },
    {
      "cell_type": "code",
      "source": [
        "from pyspark.sql.functions import min, max\n",
        "from pyspark.sql.functions import unix_timestamp, lit\n",
        "min_date, max_date = transaction.select(min(\"t_dat\"), max(\"t_dat\")).first()\n",
        "min_date, max_date"
      ],
      "metadata": {
        "colab": {
          "base_uri": "https://localhost:8080/"
        },
        "id": "SYUlKdr-T9To",
        "outputId": "1f97a9a4-46db-449f-e027-5582424b7060"
      },
      "execution_count": 5,
      "outputs": [
        {
          "output_type": "execute_result",
          "data": {
            "text/plain": [
              "('2018-09-20', '2020-09-22')"
            ]
          },
          "metadata": {},
          "execution_count": 5
        }
      ]
    },
    {
      "cell_type": "code",
      "source": [
        "from pyspark.sql.functions import min as min_, max as max_\n",
        "\n",
        "# Cache the DataFrame if reused multiple times\n",
        "transaction.cache()\n",
        "\n",
        "# Aggregate min and max in one pass\n",
        "date_range = transaction.agg(\n",
        "    min_(\"t_dat\").alias(\"min_date\"),\n",
        "    max_(\"t_dat\").alias(\"max_date\")\n",
        ").collect()[0]\n",
        "\n",
        "min_date = date_range['min_date']\n",
        "max_date = date_range['max_date']\n",
        "print(min_date, max_date)"
      ],
      "metadata": {
        "colab": {
          "base_uri": "https://localhost:8080/"
        },
        "id": "6vLkkVSgUi4K",
        "outputId": "87a0ccc6-38dd-4e9f-cc6d-882239bb35f7"
      },
      "execution_count": 6,
      "outputs": [
        {
          "output_type": "stream",
          "name": "stdout",
          "text": [
            "2018-09-20 2020-09-22\n"
          ]
        }
      ]
    },
    {
      "cell_type": "markdown",
      "metadata": {
        "id": "1ea85cb8"
      },
      "source": [
        "🧹 **Preparing the Data** 🧹\n",
        "\n",
        "We'll clean and transform the transaction data to get it ready for our recommendation system. This includes filtering by date and counting how many times each customer bought a specific article."
      ]
    },
    {
      "cell_type": "code",
      "metadata": {
        "colab": {
          "base_uri": "https://localhost:8080/"
        },
        "id": "a527e48b",
        "outputId": "574555f5-5049-4c01-f099-b050e9d1f516"
      },
      "source": [
        "hm =  transaction.withColumn('t_dat', transaction['t_dat'].cast('string'))\n",
        "hm = hm.withColumn('date', from_unixtime(unix_timestamp('t_dat', 'yyyy-MM-dd')))\n",
        "hm = hm.withColumn('year', year(col('date')))\n",
        "hm = hm.withColumn('month', month(col('date')))\n",
        "hm = hm.withColumn('day', date_format(col('date'), \"d\"))\n",
        "\n",
        "hm = hm[hm['year'] == 2020]\n",
        "hm = hm[hm['month'] == 9]\n",
        "hm = hm[hm['day'] == 22]\n",
        "transaction.unpersist()\n",
        "\n",
        "# Prepare the dataset\n",
        "hm = hm.groupby('customer_id', 'article_id').count()\n",
        "hm.show(5)"
      ],
      "execution_count": 7,
      "outputs": [
        {
          "output_type": "stream",
          "name": "stdout",
          "text": [
            "+--------------------+----------+-----+\n",
            "|         customer_id|article_id|count|\n",
            "+--------------------+----------+-----+\n",
            "|00f7bc5c0df4c615b...|0780418013|    1|\n",
            "|02094817e46f3b692...|0791587001|    1|\n",
            "|0333e5dda0257e9f4...|0839332002|    2|\n",
            "|07c7a1172caf8fb97...|0573085043|    1|\n",
            "|081373184e601470c...|0714790020|    1|\n",
            "+--------------------+----------+-----+\n",
            "only showing top 5 rows\n",
            "\n"
          ]
        }
      ]
    },
    {
      "cell_type": "code",
      "source": [
        "print((hm.count(), len(hm.columns)))"
      ],
      "metadata": {
        "colab": {
          "base_uri": "https://localhost:8080/"
        },
        "id": "LpHhtE9ii68h",
        "outputId": "5afa216e-5bf0-44a5-aa37-312c8722f461"
      },
      "execution_count": 8,
      "outputs": [
        {
          "output_type": "stream",
          "name": "stdout",
          "text": [
            "(29486, 3)\n"
          ]
        }
      ]
    },
    {
      "cell_type": "markdown",
      "metadata": {
        "id": "c24da4cc"
      },
      "source": [
        "🔍 **Checking Data Sparsity** 🔍\n",
        "\n",
        "Sparsity is a fancy word that tells us how \"empty\" our data is. In our case, it's about how many possible customer-article purchases didn't actually happen. Knowing this helps us understand our data better."
      ]
    },
    {
      "cell_type": "code",
      "metadata": {
        "colab": {
          "base_uri": "https://localhost:8080/"
        },
        "id": "a2c60f4a",
        "outputId": "9e15a349-bbf8-4d76-b80b-3402460d2988"
      },
      "source": [
        "# Count the total number of article in the dataset\n",
        "numerator = hm.select(\"count\").count()\n",
        "\n",
        "# Count the number of distinct customerid and distinct articleid\n",
        "num_users = hm.select(\"customer_id\").distinct().count()\n",
        "num_articles = hm.select(\"article_id\").distinct().count()\n",
        "\n",
        "# Set the denominator equal to the number of customer multiplied by the number of articles\n",
        "denominator = num_users * num_articles\n",
        "\n",
        "# Divide the numerator by the denominator\n",
        "sparsity = (1.0 - (numerator *1.0)/denominator)*100\n",
        "print(\"Sparsity: \", \"%.2f\" % sparsity + \"%.\")"
      ],
      "execution_count": 9,
      "outputs": [
        {
          "output_type": "stream",
          "name": "stdout",
          "text": [
            "Sparsity:  99.96%.\n"
          ]
        }
      ]
    },
    {
      "cell_type": "markdown",
      "metadata": {
        "id": "c43bd449"
      },
      "source": [
        "📊 **Analyzing Customer Activity** 📊\n",
        "\n",
        "It's interesting to see how often our customers make purchases. Let's count the number of transactions for each customer and see which customers are the most active."
      ]
    },
    {
      "cell_type": "code",
      "metadata": {
        "colab": {
          "base_uri": "https://localhost:8080/"
        },
        "id": "8bc06790",
        "outputId": "7e56b99a-df2b-4570-f10f-f4606d73ac1b"
      },
      "source": [
        "userId_count = hm.groupBy(\"customer_id\").count().orderBy('count', ascending=False)\n",
        "userId_count.show()"
      ],
      "execution_count": 10,
      "outputs": [
        {
          "output_type": "stream",
          "name": "stdout",
          "text": [
            "+--------------------+-----+\n",
            "|         customer_id|count|\n",
            "+--------------------+-----+\n",
            "|30b6056bacc5f5c9d...|   28|\n",
            "|5e8fb4d457fdffc61...|   28|\n",
            "|dc1b173e541f8d3c1...|   27|\n",
            "|6335d496ef463bc40...|   25|\n",
            "|1796e87fd2e88932b...|   25|\n",
            "|f50287d9cf052d4b4...|   24|\n",
            "|54e8ebd39543b5a4d...|   23|\n",
            "|fd5ce8716faf00f6a...|   23|\n",
            "|850ec77661a417d27...|   22|\n",
            "|32f3a6a7ce63d302c...|   21|\n",
            "|fc783381f1ea2174c...|   21|\n",
            "|ad3663a848dccbdda...|   21|\n",
            "|b606fe5786c00151a...|   21|\n",
            "|298523b6637340717...|   21|\n",
            "|a08e284bb18add2d7...|   21|\n",
            "|383e1b07e2c1fe169...|   21|\n",
            "|b49647f84a99ced53...|   21|\n",
            "|3ca77aab50ae4532b...|   20|\n",
            "|2a721767cd9864ed5...|   20|\n",
            "|af5166e0f89b0d433...|   19|\n",
            "+--------------------+-----+\n",
            "only showing top 20 rows\n",
            "\n"
          ]
        }
      ]
    },
    {
      "cell_type": "markdown",
      "metadata": {
        "id": "22e1866e"
      },
      "source": [
        "👚 **Analyzing Article Popularity** 👖\n",
        "\n",
        "Let's see which articles are flying off the shelves! We'll count how many times each article has been purchased to find the most popular items."
      ]
    },
    {
      "cell_type": "code",
      "metadata": {
        "colab": {
          "base_uri": "https://localhost:8080/"
        },
        "id": "7e4e9473",
        "outputId": "3e48a027-985e-44bd-a646-0fdba7769a53"
      },
      "source": [
        "articleId_count = hm.groupBy(\"article_id\").count().orderBy('count', ascending=False)\n",
        "articleId_count.show()"
      ],
      "execution_count": 11,
      "outputs": [
        {
          "output_type": "stream",
          "name": "stdout",
          "text": [
            "+----------+-----+\n",
            "|article_id|count|\n",
            "+----------+-----+\n",
            "|0924243002|   91|\n",
            "|0918522001|   88|\n",
            "|0866731001|   78|\n",
            "|0751471001|   75|\n",
            "|0448509014|   73|\n",
            "|0714790020|   72|\n",
            "|0762846027|   68|\n",
            "|0928206001|   67|\n",
            "|0893432002|   66|\n",
            "|0918292001|   65|\n",
            "|0915529005|   64|\n",
            "|0788575004|   63|\n",
            "|0915529003|   63|\n",
            "|0863583001|   60|\n",
            "|0930380001|   59|\n",
            "|0573085028|   59|\n",
            "|0919273002|   58|\n",
            "|0850917001|   57|\n",
            "|0573085042|   56|\n",
            "|0874110016|   53|\n",
            "+----------+-----+\n",
            "only showing top 20 rows\n",
            "\n"
          ]
        }
      ]
    },
    {
      "cell_type": "markdown",
      "metadata": {
        "id": "ee6d76db"
      },
      "source": [
        "📇 **Indexing Customer and Article IDs** 📇\n",
        "\n",
        "Before we can train our recommendation model, we need to convert the customer and article IDs into numerical indexes. This helps the model work efficiently. We'll use a `StringIndexer` for this."
      ]
    },
    {
      "cell_type": "code",
      "metadata": {
        "colab": {
          "base_uri": "https://localhost:8080/"
        },
        "id": "90e970e5",
        "outputId": "50f02c24-9717-4a71-cc2e-e6da33bb4353"
      },
      "source": [
        "from pyspark.ml.evaluation import RegressionEvaluator\n",
        "from pyspark.ml.recommendation import ALS\n",
        "\n",
        "from pyspark.ml.feature import StringIndexer\n",
        "from pyspark.ml import Pipeline\n",
        "from pyspark.sql.functions import col\n",
        "indexer = [StringIndexer(inputCol=column, outputCol=column+\"_index\") for column in list(set(hm.columns)-set(['count'])) ]\n",
        "pipeline = Pipeline(stages=indexer)\n",
        "transformed = pipeline.fit(hm).transform(hm)\n",
        "transformed.show()"
      ],
      "execution_count": 12,
      "outputs": [
        {
          "output_type": "stream",
          "name": "stdout",
          "text": [
            "+--------------------+----------+-----+-----------------+----------------+\n",
            "|         customer_id|article_id|count|customer_id_index|article_id_index|\n",
            "+--------------------+----------+-----+-----------------+----------------+\n",
            "|00f7bc5c0df4c615b...|0780418013|    1|            783.0|          2237.0|\n",
            "|02094817e46f3b692...|0791587001|    1|            785.0|            35.0|\n",
            "|0333e5dda0257e9f4...|0839332002|    2|           4098.0|           732.0|\n",
            "|07c7a1172caf8fb97...|0573085043|    1|           1702.0|            44.0|\n",
            "|081373184e601470c...|0714790020|    1|           4146.0|             5.0|\n",
            "|09bec2a61046ccbea...|0860336002|    1|           6792.0|          2368.0|\n",
            "|0be4f1ecce204ee32...|0573085028|    1|            799.0|            14.0|\n",
            "|0c4b30343292b5101...|0918522001|    1|           6825.0|             1.0|\n",
            "|0e10e02358875468b...|0579541001|    1|           2689.0|            53.0|\n",
            "|0fc371e67e61a31d7...|0907170001|    1|           1737.0|          1978.0|\n",
            "|10817b19177f6a53e...|0718278019|    1|            805.0|           419.0|\n",
            "|10ac90988da6052dd...|0934212003|    1|            806.0|          2058.0|\n",
            "|14a298482fa7f9d52...|0894353002|    1|             87.0|          3772.0|\n",
            "|14f4b1b17991c32d2...|0803685001|    1|           1184.0|           725.0|\n",
            "|1601fa3c3f39aa623...|0730683001|    1|           4284.0|          2994.0|\n",
            "|164e1a251f0e3d764...|0831267001|    1|           4287.0|          5979.0|\n",
            "|165d2c0b0128d5619...|0909081004|    1|             88.0|          1293.0|\n",
            "|166546028742fe655...|0767423013|    1|            814.0|           974.0|\n",
            "|189b7275c513a84c8...|0877711001|    1|            204.0|          6890.0|\n",
            "|1918933afff08e955...|0914672001|    1|            285.0|          7685.0|\n",
            "+--------------------+----------+-----+-----------------+----------------+\n",
            "only showing top 20 rows\n",
            "\n"
          ]
        }
      ]
    },
    {
      "cell_type": "markdown",
      "metadata": {
        "id": "2994d842"
      },
      "source": [
        "✂️ **Splitting the Data** ✂️\n",
        "\n",
        "To evaluate how well our recommendation model works, we'll split our indexed data into two sets: a training set to teach the model and a testing set to see how accurately it makes predictions on data it hasn't seen before."
      ]
    },
    {
      "cell_type": "code",
      "metadata": {
        "id": "327d567c"
      },
      "source": [
        "(training,test)=transformed.randomSplit([0.8, 0.2])"
      ],
      "execution_count": 13,
      "outputs": []
    },
    {
      "cell_type": "markdown",
      "metadata": {
        "id": "c93dd0b0"
      },
      "source": [
        "🏋️‍♀️ **Training the Recommendation Model** 🏋️‍♀️\n",
        "\n",
        "Now for the core of our recommendation system! We'll train an ALS model using our training data. We'll also use cross-validation to find the best settings for our model so it can make accurate recommendations."
      ]
    },
    {
      "cell_type": "code",
      "metadata": {
        "colab": {
          "base_uri": "https://localhost:8080/"
        },
        "id": "cf95d6c1",
        "outputId": "469baad2-1fa1-48bd-d359-6f2e2dda3d51"
      },
      "source": [
        "from pyspark.ml.recommendation import ALS\n",
        "from pyspark.ml.evaluation import RegressionEvaluator\n",
        "from pyspark.ml.tuning import ParamGridBuilder, TrainValidationSplit\n",
        "\n",
        "# ✅ Step 1: Cache your training data to prevent recomputation\n",
        "training.cache()\n",
        "\n",
        "# ✅ Step 2: Create ALS model with cold start handling\n",
        "als = ALS(\n",
        "    userCol=\"customer_id_index\",\n",
        "    itemCol=\"article_id_index\",\n",
        "    ratingCol=\"count\",\n",
        "    coldStartStrategy=\"drop\",  # drops NaN predictions\n",
        "    nonnegative=True,\n",
        "    implicitPrefs=False  # if explicit feedback; set True for implicit feedback\n",
        ")\n",
        "\n",
        "# ✅ Step 3: Build a smaller, faster hyperparameter grid\n",
        "param_grid = ParamGridBuilder()\\\n",
        "    .addGrid(als.rank, [10, 20])\\\n",
        "    .addGrid(als.maxIter, [10])\\\n",
        "    .addGrid(als.regParam, [0.1, 0.15])\\\n",
        "    .build()\n",
        "\n",
        "# ✅ Step 4: Use RMSE for evaluation\n",
        "evaluator = RegressionEvaluator(\n",
        "    metricName=\"rmse\",\n",
        "    labelCol=\"count\",\n",
        "    predictionCol=\"prediction\"\n",
        ")\n",
        "\n",
        "# ✅ Step 5: Use TrainValidationSplit for faster tuning\n",
        "tvs = TrainValidationSplit(\n",
        "    estimator=als,\n",
        "    estimatorParamMaps=param_grid,\n",
        "    evaluator=evaluator,\n",
        "    trainRatio=0.8,  # 80% train / 20% validation\n",
        "    parallelism=4    # run up to 4 models in parallel (tune based on your cluster)\n",
        ")\n",
        "\n",
        "# ✅ Step 6: Train the model (this will take much less time now)\n",
        "model = tvs.fit(training)\n",
        "\n",
        "# ✅ Step 7: Best model retrieval and evaluation\n",
        "best_model = model.bestModel\n",
        "print(\"Best rank:\", best_model.rank)\n",
        "print(\"Best regParam:\", best_model._java_obj.parent().getRegParam())\n",
        "print(\"Best maxIter:\", best_model._java_obj.parent().getMaxIter())"
      ],
      "execution_count": 16,
      "outputs": [
        {
          "output_type": "stream",
          "name": "stdout",
          "text": [
            "Best rank: 20\n",
            "Best regParam: 0.1\n",
            "Best maxIter: 10\n"
          ]
        }
      ]
    },
    {
      "cell_type": "markdown",
      "metadata": {
        "id": "967b971e"
      },
      "source": [
        "🔬 **Evaluating the Model** 🔬\n",
        "\n",
        "Now that we have our best model, let's see how well it predicts! We'll use the test data to generate recommendations and then measure the accuracy using RMSE (Root Mean Squared Error). A lower RMSE means better predictions!"
      ]
    },
    {
      "cell_type": "code",
      "metadata": {
        "id": "f4d9478f"
      },
      "source": [
        "#Generate predictions and evaluate using RMSE\n",
        "predictions = best_model.transform(test)\n",
        "rmse = evaluator.evaluate(predictions)"
      ],
      "execution_count": 17,
      "outputs": []
    },
    {
      "cell_type": "code",
      "source": [
        "print(\"RMSE =\" + str(rmse))"
      ],
      "metadata": {
        "colab": {
          "base_uri": "https://localhost:8080/"
        },
        "id": "7Q1xfv6oZM3L",
        "outputId": "f6a79787-e2a2-43ad-ccfb-b0498d11086f"
      },
      "execution_count": 18,
      "outputs": [
        {
          "output_type": "stream",
          "name": "stdout",
          "text": [
            "RMSE =0.20660370130920125\n"
          ]
        }
      ]
    },
    {
      "cell_type": "markdown",
      "metadata": {
        "id": "b4491b60"
      },
      "source": [
        "👍 **Generating Recommendations** 👍\n",
        "\n",
        "With our trained model, we can now generate recommendations for our customers. We can ask the model to predict which articles a customer is most likely to be interested in."
      ]
    },
    {
      "cell_type": "code",
      "metadata": {
        "colab": {
          "base_uri": "https://localhost:8080/"
        },
        "id": "e1b70b6a",
        "outputId": "65074df3-8f3f-445d-bbac-9abbe2ed9d30"
      },
      "source": [
        "user_recs=best_model.recommendForAllItems(10).show(10)"
      ],
      "execution_count": 19,
      "outputs": [
        {
          "output_type": "stream",
          "name": "stdout",
          "text": [
            "+----------------+--------------------+\n",
            "|article_id_index|     recommendations|\n",
            "+----------------+--------------------+\n",
            "|               1|[{9001, 5.1390114...|\n",
            "|               3|[{9001, 6.4745083...|\n",
            "|               5|[{4907, 5.561627}...|\n",
            "|               6|[{4907, 5.64958},...|\n",
            "|               9|[{9001, 4.6373963...|\n",
            "|              12|[{4907, 4.751717}...|\n",
            "|              13|[{9001, 5.167022}...|\n",
            "|              15|[{4907, 6.066818}...|\n",
            "|              16|[{9001, 5.2180023...|\n",
            "|              17|[{4907, 5.821047}...|\n",
            "+----------------+--------------------+\n",
            "only showing top 10 rows\n",
            "\n"
          ]
        }
      ]
    },
    {
      "cell_type": "markdown",
      "metadata": {
        "id": "3ee2157f"
      },
      "source": [
        "👥 **Recommendations for All Users** 👥\n",
        "\n",
        "Instead of just looking at item recommendations for a few users, we can generate recommendations for everyone! This gives us a comprehensive list of what each customer might like."
      ]
    },
    {
      "cell_type": "code",
      "metadata": {
        "colab": {
          "base_uri": "https://localhost:8080/"
        },
        "id": "960d638a",
        "outputId": "65aba5e0-499f-45a3-e05b-9cdaecd43875"
      },
      "source": [
        "df_recom = best_model.recommendForAllUsers(10)\n",
        "df_recom.show(10)"
      ],
      "execution_count": 20,
      "outputs": [
        {
          "output_type": "stream",
          "name": "stdout",
          "text": [
            "+-----------------+--------------------+\n",
            "|customer_id_index|     recommendations|\n",
            "+-----------------+--------------------+\n",
            "|                1|[{1661, 2.5185127...|\n",
            "|                3|[{1661, 2.822737}...|\n",
            "|                5|[{1661, 3.1315286...|\n",
            "|                6|[{1661, 5.926103}...|\n",
            "|                9|[{1661, 2.3304753...|\n",
            "|               12|[{1661, 2.6639178...|\n",
            "|               13|[{1661, 3.0723724...|\n",
            "|               15|[{1661, 2.4710696...|\n",
            "|               16|[{1661, 2.6907763...|\n",
            "|               17|[{1661, 2.535876}...|\n",
            "+-----------------+--------------------+\n",
            "only showing top 10 rows\n",
            "\n"
          ]
        }
      ]
    },
    {
      "cell_type": "markdown",
      "metadata": {
        "id": "527dbe2f"
      },
      "source": [
        "🔄 **Transforming Recommendations** 🔄\n",
        "\n",
        "We'll select the customer and article indexes from the recommendations and then convert the Spark DataFrame to a pandas DataFrame. This can make it easier to work with if you prefer pandas for certain tasks."
      ]
    },
    {
      "cell_type": "code",
      "metadata": {
        "colab": {
          "base_uri": "https://localhost:8080/"
        },
        "id": "b53aa1c0",
        "outputId": "d76dba02-2b14-4a54-cba3-b5707fde30f5"
      },
      "source": [
        "df_recom = df_recom.select(\"customer_id_index\",\"recommendations.article_id_index\")\n",
        "df_recom.show(10)\n",
        "df_recom = df_recom.toPandas()"
      ],
      "execution_count": 21,
      "outputs": [
        {
          "output_type": "stream",
          "name": "stdout",
          "text": [
            "+-----------------+--------------------+\n",
            "|customer_id_index|    article_id_index|\n",
            "+-----------------+--------------------+\n",
            "|                1|[1661, 5111, 1891...|\n",
            "|                3|[1661, 5111, 4249...|\n",
            "|                5|[1661, 1891, 5111...|\n",
            "|                6|[1661, 1910, 6383...|\n",
            "|                9|[1661, 5111, 1221...|\n",
            "|               12|[1661, 1891, 5111...|\n",
            "|               13|[1661, 5111, 1891...|\n",
            "|               15|[1661, 5111, 1891...|\n",
            "|               16|[1661, 5111, 1891...|\n",
            "|               17|[1661, 1891, 5111...|\n",
            "+-----------------+--------------------+\n",
            "only showing top 10 rows\n",
            "\n"
          ]
        }
      ]
    },
    {
      "cell_type": "code",
      "metadata": {
        "colab": {
          "base_uri": "https://localhost:8080/",
          "height": 423
        },
        "id": "a0eae2c1",
        "outputId": "dc467dcb-e8cc-4932-a4b6-5c5db05c1561"
      },
      "source": [
        "df_recom.sort_values('customer_id_index')"
      ],
      "execution_count": 22,
      "outputs": [
        {
          "output_type": "execute_result",
          "data": {
            "text/plain": [
              "      customer_id_index                                   article_id_index\n",
              "4821                  0  [1661, 5111, 1891, 1221, 4249, 3870, 3950, 707...\n",
              "0                     1  [1661, 5111, 1891, 1221, 1035, 4405, 3950, 424...\n",
              "4822                  2  [1661, 1891, 4405, 3870, 5111, 1035, 1221, 251...\n",
              "1                     3  [1661, 5111, 4249, 4039, 7073, 4405, 2511, 395...\n",
              "4823                  4  [1661, 3870, 1221, 5111, 1035, 1891, 5891, 638...\n",
              "...                 ...                                                ...\n",
              "9648              10521  [1661, 4405, 5111, 1035, 5891, 7074, 3018, 327...\n",
              "9649              10522  [1661, 5111, 6383, 5040, 4405, 1221, 4249, 395...\n",
              "4818              10524  [1661, 1891, 1221, 3870, 1035, 5111, 1765, 589...\n",
              "4819              10526  [3870, 4405, 1661, 5702, 4894, 1035, 4808, 386...\n",
              "4820              10527  [1661, 3870, 1221, 6383, 5040, 5111, 4249, 189...\n",
              "\n",
              "[9650 rows x 2 columns]"
            ],
            "text/html": [
              "\n",
              "  <div id=\"df-2fded838-ce94-4cb3-a3bd-fe9b1c6ab59e\" class=\"colab-df-container\">\n",
              "    <div>\n",
              "<style scoped>\n",
              "    .dataframe tbody tr th:only-of-type {\n",
              "        vertical-align: middle;\n",
              "    }\n",
              "\n",
              "    .dataframe tbody tr th {\n",
              "        vertical-align: top;\n",
              "    }\n",
              "\n",
              "    .dataframe thead th {\n",
              "        text-align: right;\n",
              "    }\n",
              "</style>\n",
              "<table border=\"1\" class=\"dataframe\">\n",
              "  <thead>\n",
              "    <tr style=\"text-align: right;\">\n",
              "      <th></th>\n",
              "      <th>customer_id_index</th>\n",
              "      <th>article_id_index</th>\n",
              "    </tr>\n",
              "  </thead>\n",
              "  <tbody>\n",
              "    <tr>\n",
              "      <th>4821</th>\n",
              "      <td>0</td>\n",
              "      <td>[1661, 5111, 1891, 1221, 4249, 3870, 3950, 707...</td>\n",
              "    </tr>\n",
              "    <tr>\n",
              "      <th>0</th>\n",
              "      <td>1</td>\n",
              "      <td>[1661, 5111, 1891, 1221, 1035, 4405, 3950, 424...</td>\n",
              "    </tr>\n",
              "    <tr>\n",
              "      <th>4822</th>\n",
              "      <td>2</td>\n",
              "      <td>[1661, 1891, 4405, 3870, 5111, 1035, 1221, 251...</td>\n",
              "    </tr>\n",
              "    <tr>\n",
              "      <th>1</th>\n",
              "      <td>3</td>\n",
              "      <td>[1661, 5111, 4249, 4039, 7073, 4405, 2511, 395...</td>\n",
              "    </tr>\n",
              "    <tr>\n",
              "      <th>4823</th>\n",
              "      <td>4</td>\n",
              "      <td>[1661, 3870, 1221, 5111, 1035, 1891, 5891, 638...</td>\n",
              "    </tr>\n",
              "    <tr>\n",
              "      <th>...</th>\n",
              "      <td>...</td>\n",
              "      <td>...</td>\n",
              "    </tr>\n",
              "    <tr>\n",
              "      <th>9648</th>\n",
              "      <td>10521</td>\n",
              "      <td>[1661, 4405, 5111, 1035, 5891, 7074, 3018, 327...</td>\n",
              "    </tr>\n",
              "    <tr>\n",
              "      <th>9649</th>\n",
              "      <td>10522</td>\n",
              "      <td>[1661, 5111, 6383, 5040, 4405, 1221, 4249, 395...</td>\n",
              "    </tr>\n",
              "    <tr>\n",
              "      <th>4818</th>\n",
              "      <td>10524</td>\n",
              "      <td>[1661, 1891, 1221, 3870, 1035, 5111, 1765, 589...</td>\n",
              "    </tr>\n",
              "    <tr>\n",
              "      <th>4819</th>\n",
              "      <td>10526</td>\n",
              "      <td>[3870, 4405, 1661, 5702, 4894, 1035, 4808, 386...</td>\n",
              "    </tr>\n",
              "    <tr>\n",
              "      <th>4820</th>\n",
              "      <td>10527</td>\n",
              "      <td>[1661, 3870, 1221, 6383, 5040, 5111, 4249, 189...</td>\n",
              "    </tr>\n",
              "  </tbody>\n",
              "</table>\n",
              "<p>9650 rows × 2 columns</p>\n",
              "</div>\n",
              "    <div class=\"colab-df-buttons\">\n",
              "\n",
              "  <div class=\"colab-df-container\">\n",
              "    <button class=\"colab-df-convert\" onclick=\"convertToInteractive('df-2fded838-ce94-4cb3-a3bd-fe9b1c6ab59e')\"\n",
              "            title=\"Convert this dataframe to an interactive table.\"\n",
              "            style=\"display:none;\">\n",
              "\n",
              "  <svg xmlns=\"http://www.w3.org/2000/svg\" height=\"24px\" viewBox=\"0 -960 960 960\">\n",
              "    <path d=\"M120-120v-720h720v720H120Zm60-500h600v-160H180v160Zm220 220h160v-160H400v160Zm0 220h160v-160H400v160ZM180-400h160v-160H180v160Zm440 0h160v-160H620v160ZM180-180h160v-160H180v160Zm440 0h160v-160H620v160Z\"/>\n",
              "  </svg>\n",
              "    </button>\n",
              "\n",
              "  <style>\n",
              "    .colab-df-container {\n",
              "      display:flex;\n",
              "      gap: 12px;\n",
              "    }\n",
              "\n",
              "    .colab-df-convert {\n",
              "      background-color: #E8F0FE;\n",
              "      border: none;\n",
              "      border-radius: 50%;\n",
              "      cursor: pointer;\n",
              "      display: none;\n",
              "      fill: #1967D2;\n",
              "      height: 32px;\n",
              "      padding: 0 0 0 0;\n",
              "      width: 32px;\n",
              "    }\n",
              "\n",
              "    .colab-df-convert:hover {\n",
              "      background-color: #E2EBFA;\n",
              "      box-shadow: 0px 1px 2px rgba(60, 64, 67, 0.3), 0px 1px 3px 1px rgba(60, 64, 67, 0.15);\n",
              "      fill: #174EA6;\n",
              "    }\n",
              "\n",
              "    .colab-df-buttons div {\n",
              "      margin-bottom: 4px;\n",
              "    }\n",
              "\n",
              "    [theme=dark] .colab-df-convert {\n",
              "      background-color: #3B4455;\n",
              "      fill: #D2E3FC;\n",
              "    }\n",
              "\n",
              "    [theme=dark] .colab-df-convert:hover {\n",
              "      background-color: #434B5C;\n",
              "      box-shadow: 0px 1px 3px 1px rgba(0, 0, 0, 0.15);\n",
              "      filter: drop-shadow(0px 1px 2px rgba(0, 0, 0, 0.3));\n",
              "      fill: #FFFFFF;\n",
              "    }\n",
              "  </style>\n",
              "\n",
              "    <script>\n",
              "      const buttonEl =\n",
              "        document.querySelector('#df-2fded838-ce94-4cb3-a3bd-fe9b1c6ab59e button.colab-df-convert');\n",
              "      buttonEl.style.display =\n",
              "        google.colab.kernel.accessAllowed ? 'block' : 'none';\n",
              "\n",
              "      async function convertToInteractive(key) {\n",
              "        const element = document.querySelector('#df-2fded838-ce94-4cb3-a3bd-fe9b1c6ab59e');\n",
              "        const dataTable =\n",
              "          await google.colab.kernel.invokeFunction('convertToInteractive',\n",
              "                                                    [key], {});\n",
              "        if (!dataTable) return;\n",
              "\n",
              "        const docLinkHtml = 'Like what you see? Visit the ' +\n",
              "          '<a target=\"_blank\" href=https://colab.research.google.com/notebooks/data_table.ipynb>data table notebook</a>'\n",
              "          + ' to learn more about interactive tables.';\n",
              "        element.innerHTML = '';\n",
              "        dataTable['output_type'] = 'display_data';\n",
              "        await google.colab.output.renderOutput(dataTable, element);\n",
              "        const docLink = document.createElement('div');\n",
              "        docLink.innerHTML = docLinkHtml;\n",
              "        element.appendChild(docLink);\n",
              "      }\n",
              "    </script>\n",
              "  </div>\n",
              "\n",
              "\n",
              "    <div id=\"df-05c53916-f7dc-4bcc-a1a6-e169621be110\">\n",
              "      <button class=\"colab-df-quickchart\" onclick=\"quickchart('df-05c53916-f7dc-4bcc-a1a6-e169621be110')\"\n",
              "                title=\"Suggest charts\"\n",
              "                style=\"display:none;\">\n",
              "\n",
              "<svg xmlns=\"http://www.w3.org/2000/svg\" height=\"24px\"viewBox=\"0 0 24 24\"\n",
              "     width=\"24px\">\n",
              "    <g>\n",
              "        <path d=\"M19 3H5c-1.1 0-2 .9-2 2v14c0 1.1.9 2 2 2h14c1.1 0 2-.9 2-2V5c0-1.1-.9-2-2-2zM9 17H7v-7h2v7zm4 0h-2V7h2v10zm4 0h-2v-4h2v4z\"/>\n",
              "    </g>\n",
              "</svg>\n",
              "      </button>\n",
              "\n",
              "<style>\n",
              "  .colab-df-quickchart {\n",
              "      --bg-color: #E8F0FE;\n",
              "      --fill-color: #1967D2;\n",
              "      --hover-bg-color: #E2EBFA;\n",
              "      --hover-fill-color: #174EA6;\n",
              "      --disabled-fill-color: #AAA;\n",
              "      --disabled-bg-color: #DDD;\n",
              "  }\n",
              "\n",
              "  [theme=dark] .colab-df-quickchart {\n",
              "      --bg-color: #3B4455;\n",
              "      --fill-color: #D2E3FC;\n",
              "      --hover-bg-color: #434B5C;\n",
              "      --hover-fill-color: #FFFFFF;\n",
              "      --disabled-bg-color: #3B4455;\n",
              "      --disabled-fill-color: #666;\n",
              "  }\n",
              "\n",
              "  .colab-df-quickchart {\n",
              "    background-color: var(--bg-color);\n",
              "    border: none;\n",
              "    border-radius: 50%;\n",
              "    cursor: pointer;\n",
              "    display: none;\n",
              "    fill: var(--fill-color);\n",
              "    height: 32px;\n",
              "    padding: 0;\n",
              "    width: 32px;\n",
              "  }\n",
              "\n",
              "  .colab-df-quickchart:hover {\n",
              "    background-color: var(--hover-bg-color);\n",
              "    box-shadow: 0 1px 2px rgba(60, 64, 67, 0.3), 0 1px 3px 1px rgba(60, 64, 67, 0.15);\n",
              "    fill: var(--button-hover-fill-color);\n",
              "  }\n",
              "\n",
              "  .colab-df-quickchart-complete:disabled,\n",
              "  .colab-df-quickchart-complete:disabled:hover {\n",
              "    background-color: var(--disabled-bg-color);\n",
              "    fill: var(--disabled-fill-color);\n",
              "    box-shadow: none;\n",
              "  }\n",
              "\n",
              "  .colab-df-spinner {\n",
              "    border: 2px solid var(--fill-color);\n",
              "    border-color: transparent;\n",
              "    border-bottom-color: var(--fill-color);\n",
              "    animation:\n",
              "      spin 1s steps(1) infinite;\n",
              "  }\n",
              "\n",
              "  @keyframes spin {\n",
              "    0% {\n",
              "      border-color: transparent;\n",
              "      border-bottom-color: var(--fill-color);\n",
              "      border-left-color: var(--fill-color);\n",
              "    }\n",
              "    20% {\n",
              "      border-color: transparent;\n",
              "      border-left-color: var(--fill-color);\n",
              "      border-top-color: var(--fill-color);\n",
              "    }\n",
              "    30% {\n",
              "      border-color: transparent;\n",
              "      border-left-color: var(--fill-color);\n",
              "      border-top-color: var(--fill-color);\n",
              "      border-right-color: var(--fill-color);\n",
              "    }\n",
              "    40% {\n",
              "      border-color: transparent;\n",
              "      border-right-color: var(--fill-color);\n",
              "      border-top-color: var(--fill-color);\n",
              "    }\n",
              "    60% {\n",
              "      border-color: transparent;\n",
              "      border-right-color: var(--fill-color);\n",
              "    }\n",
              "    80% {\n",
              "      border-color: transparent;\n",
              "      border-right-color: var(--fill-color);\n",
              "      border-bottom-color: var(--fill-color);\n",
              "    }\n",
              "    90% {\n",
              "      border-color: transparent;\n",
              "      border-bottom-color: var(--fill-color);\n",
              "    }\n",
              "  }\n",
              "</style>\n",
              "\n",
              "      <script>\n",
              "        async function quickchart(key) {\n",
              "          const quickchartButtonEl =\n",
              "            document.querySelector('#' + key + ' button');\n",
              "          quickchartButtonEl.disabled = true;  // To prevent multiple clicks.\n",
              "          quickchartButtonEl.classList.add('colab-df-spinner');\n",
              "          try {\n",
              "            const charts = await google.colab.kernel.invokeFunction(\n",
              "                'suggestCharts', [key], {});\n",
              "          } catch (error) {\n",
              "            console.error('Error during call to suggestCharts:', error);\n",
              "          }\n",
              "          quickchartButtonEl.classList.remove('colab-df-spinner');\n",
              "          quickchartButtonEl.classList.add('colab-df-quickchart-complete');\n",
              "        }\n",
              "        (() => {\n",
              "          let quickchartButtonEl =\n",
              "            document.querySelector('#df-05c53916-f7dc-4bcc-a1a6-e169621be110 button');\n",
              "          quickchartButtonEl.style.display =\n",
              "            google.colab.kernel.accessAllowed ? 'block' : 'none';\n",
              "        })();\n",
              "      </script>\n",
              "    </div>\n",
              "\n",
              "    </div>\n",
              "  </div>\n"
            ],
            "application/vnd.google.colaboratory.intrinsic+json": {
              "type": "dataframe",
              "summary": "{\n  \"name\": \"df_recom\",\n  \"rows\": 9650,\n  \"fields\": [\n    {\n      \"column\": \"customer_id_index\",\n      \"properties\": {\n        \"dtype\": \"int32\",\n        \"num_unique_values\": 9650,\n        \"samples\": [\n          3783,\n          4063,\n          4181\n        ],\n        \"semantic_type\": \"\",\n        \"description\": \"\"\n      }\n    },\n    {\n      \"column\": \"article_id_index\",\n      \"properties\": {\n        \"dtype\": \"object\",\n        \"semantic_type\": \"\",\n        \"description\": \"\"\n      }\n    }\n  ]\n}"
            }
          },
          "metadata": {},
          "execution_count": 22
        }
      ]
    },
    {
      "cell_type": "markdown",
      "metadata": {
        "id": "f49e38dc"
      },
      "source": [
        "🗺️ **Mapping IDs** 🗺️\n",
        "\n",
        "To make our recommendations more understandable, we need a way to convert the indexed customer and article IDs back to their original values. We'll create a mapping DataFrame for this."
      ]
    },
    {
      "cell_type": "code",
      "metadata": {
        "id": "de36627c"
      },
      "source": [
        "from pyspark.ml.evaluation import RegressionEvaluator\n",
        "from pyspark.ml.recommendation import ALS\n",
        "from pyspark.sql import Row\n",
        "import pandas as pd\n",
        "md=transformed.select(transformed['article_id'],transformed['article_id_index'],transformed['customer_id'],transformed['customer_id_index'])\n",
        "md=md.toPandas()\n",
        "md"
      ],
      "execution_count": null,
      "outputs": []
    }
  ]
}