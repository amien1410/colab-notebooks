{
  "nbformat": 4,
  "nbformat_minor": 0,
  "metadata": {
    "colab": {
      "provenance": [],
      "authorship_tag": "ABX9TyO77nEb68zBSFoLeKk6d3SR",
      "include_colab_link": true
    },
    "kernelspec": {
      "name": "python3",
      "display_name": "Python 3"
    },
    "language_info": {
      "name": "python"
    }
  },
  "cells": [
    {
      "cell_type": "markdown",
      "metadata": {
        "id": "view-in-github",
        "colab_type": "text"
      },
      "source": [
        "<a href=\"https://colab.research.google.com/github/amien1410/colab-notebooks/blob/main/Colab_Pyspark_Linear_Regression.ipynb\" target=\"_parent\"><img src=\"https://colab.research.google.com/assets/colab-badge.svg\" alt=\"Open In Colab\"/></a>"
      ]
    },
    {
      "cell_type": "code",
      "execution_count": 1,
      "metadata": {
        "colab": {
          "base_uri": "https://localhost:8080/"
        },
        "id": "5myhze3zSZEb",
        "outputId": "b3d06c9a-2d40-4c7c-e098-6b365f5ae2be"
      },
      "outputs": [
        {
          "output_type": "stream",
          "name": "stdout",
          "text": [
            "--2025-06-26 14:57:05--  https://archive.ics.uci.edu/static/public/222/bank+marketing.zip\n",
            "Resolving archive.ics.uci.edu (archive.ics.uci.edu)... 128.195.10.252\n",
            "Connecting to archive.ics.uci.edu (archive.ics.uci.edu)|128.195.10.252|:443... connected.\n",
            "HTTP request sent, awaiting response... 200 OK\n",
            "Length: unspecified\n",
            "Saving to: ‘bank+marketing.zip’\n",
            "\n",
            "bank+marketing.zip      [ <=>                ] 999.85K  6.00MB/s    in 0.2s    \n",
            "\n",
            "2025-06-26 14:57:05 (6.00 MB/s) - ‘bank+marketing.zip’ saved [1023843]\n",
            "\n"
          ]
        }
      ],
      "source": [
        "#@title Download the dataset\n",
        "!wget https://archive.ics.uci.edu/static/public/222/bank+marketing.zip\n",
        "!unzip -q \"/content/bank+marketing.zip\"\n",
        "!unzip -q \"/content/bank.zip\""
      ]
    }
  ]
}