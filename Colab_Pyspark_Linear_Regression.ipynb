{
  "nbformat": 4,
  "nbformat_minor": 0,
  "metadata": {
    "colab": {
      "provenance": [],
      "authorship_tag": "ABX9TyPu2iR8uFViwuo5b2n6rRZe",
      "include_colab_link": true
    },
    "kernelspec": {
      "name": "python3",
      "display_name": "Python 3"
    },
    "language_info": {
      "name": "python"
    }
  },
  "cells": [
    {
      "cell_type": "markdown",
      "metadata": {
        "id": "view-in-github",
        "colab_type": "text"
      },
      "source": [
        "<a href=\"https://colab.research.google.com/github/amien1410/colab-notebooks/blob/main/Colab_Pyspark_Linear_Regression.ipynb\" target=\"_parent\"><img src=\"https://colab.research.google.com/assets/colab-badge.svg\" alt=\"Open In Colab\"/></a>"
      ]
    },
    {
      "cell_type": "code",
      "execution_count": 1,
      "metadata": {
        "colab": {
          "base_uri": "https://localhost:8080/"
        },
        "id": "5myhze3zSZEb",
        "outputId": "b3d06c9a-2d40-4c7c-e098-6b365f5ae2be"
      },
      "outputs": [
        {
          "output_type": "stream",
          "name": "stdout",
          "text": [
            "--2025-06-26 14:57:05--  https://archive.ics.uci.edu/static/public/222/bank+marketing.zip\n",
            "Resolving archive.ics.uci.edu (archive.ics.uci.edu)... 128.195.10.252\n",
            "Connecting to archive.ics.uci.edu (archive.ics.uci.edu)|128.195.10.252|:443... connected.\n",
            "HTTP request sent, awaiting response... 200 OK\n",
            "Length: unspecified\n",
            "Saving to: ‘bank+marketing.zip’\n",
            "\n",
            "bank+marketing.zip      [ <=>                ] 999.85K  6.00MB/s    in 0.2s    \n",
            "\n",
            "2025-06-26 14:57:05 (6.00 MB/s) - ‘bank+marketing.zip’ saved [1023843]\n",
            "\n"
          ]
        }
      ],
      "source": [
        "#@title Download the dataset\n",
        "!wget https://archive.ics.uci.edu/static/public/222/bank+marketing.zip\n",
        "!unzip -q \"/content/bank+marketing.zip\"\n",
        "!unzip -q \"/content/bank.zip\""
      ]
    },
    {
      "cell_type": "code",
      "source": [
        "from pyspark.sql import SparkSession\n",
        "from pyspark.ml.feature import VectorAssembler\n",
        "from pyspark.ml import Pipeline\n",
        "from pyspark.ml.regression import LinearRegression\n",
        "import pandas as pd\n",
        "\n",
        "# 1. Start Spark session and read the data\n",
        "filename = \"/content/bank-full.csv\"\n",
        "spark = SparkSession.builder.getOrCreate()\n",
        "data = spark.read.csv(filename, header=True, inferSchema=True, sep=';')\n",
        "data.show()\n",
        "\n",
        "# 2. Define a function to assemble feature vectors\n",
        "def assemble_vectors(df, features_list, target_variable_name):\n",
        "    assembler = VectorAssembler(inputCols=features_list, outputCol='features')\n",
        "    pipeline = Pipeline(stages=[assembler])\n",
        "\n",
        "    # Fit and transform data using the pipeline\n",
        "    model = pipeline.fit(df)\n",
        "    df_transformed = model.transform(df)\n",
        "\n",
        "    # Select only necessary columns\n",
        "    selectedCols = [target_variable_name, 'features'] + features_list\n",
        "    return df_transformed.select(selectedCols)\n",
        "\n",
        "# 3. Select numeric columns for regression\n",
        "linear_df = data.select(['age', 'balance', 'day', 'duration', 'campaign', 'pdays', 'previous'])\n",
        "target_variable_name = 'balance'\n",
        "features_list = linear_df.columns\n",
        "features_list.remove(target_variable_name)  # Exclude the target\n",
        "\n",
        "# 4. Assemble the feature vectors\n",
        "df = assemble_vectors(linear_df, features_list, target_variable_name)\n",
        "\n",
        "# 5. Fit a linear regression model\n",
        "reg = LinearRegression(featuresCol='features', labelCol='balance')\n",
        "reg_model = reg.fit(df)\n",
        "\n",
        "# 6. View coefficients and intercept\n",
        "for k, v in df.schema['features'].metadata['ml_attr']['attrs'].items():\n",
        "    features_df = pd.DataFrame(v)\n",
        "    features_df['coefficients'] = reg_model.coefficients[:len(features_df)]\n",
        "    print(features_df)\n",
        "\n",
        "print(f\"Intercept: {reg_model.intercept}\")\n",
        "\n",
        "# 7. Predict results on the same dataset\n",
        "pred_result = reg_model.transform(df)\n",
        "pred_result.show()"
      ],
      "metadata": {
        "colab": {
          "base_uri": "https://localhost:8080/"
        },
        "id": "6M6Or2IowRUd",
        "outputId": "d40ca5e9-93de-4be7-f144-39e27bc8464c"
      },
      "execution_count": 2,
      "outputs": [
        {
          "output_type": "stream",
          "name": "stdout",
          "text": [
            "+---+------------+--------+---------+-------+-------+-------+----+-------+---+-----+--------+--------+-----+--------+--------+---+\n",
            "|age|         job| marital|education|default|balance|housing|loan|contact|day|month|duration|campaign|pdays|previous|poutcome|  y|\n",
            "+---+------------+--------+---------+-------+-------+-------+----+-------+---+-----+--------+--------+-----+--------+--------+---+\n",
            "| 58|  management| married| tertiary|     no|   2143|    yes|  no|unknown|  5|  may|     261|       1|   -1|       0| unknown| no|\n",
            "| 44|  technician|  single|secondary|     no|     29|    yes|  no|unknown|  5|  may|     151|       1|   -1|       0| unknown| no|\n",
            "| 33|entrepreneur| married|secondary|     no|      2|    yes| yes|unknown|  5|  may|      76|       1|   -1|       0| unknown| no|\n",
            "| 47| blue-collar| married|  unknown|     no|   1506|    yes|  no|unknown|  5|  may|      92|       1|   -1|       0| unknown| no|\n",
            "| 33|     unknown|  single|  unknown|     no|      1|     no|  no|unknown|  5|  may|     198|       1|   -1|       0| unknown| no|\n",
            "| 35|  management| married| tertiary|     no|    231|    yes|  no|unknown|  5|  may|     139|       1|   -1|       0| unknown| no|\n",
            "| 28|  management|  single| tertiary|     no|    447|    yes| yes|unknown|  5|  may|     217|       1|   -1|       0| unknown| no|\n",
            "| 42|entrepreneur|divorced| tertiary|    yes|      2|    yes|  no|unknown|  5|  may|     380|       1|   -1|       0| unknown| no|\n",
            "| 58|     retired| married|  primary|     no|    121|    yes|  no|unknown|  5|  may|      50|       1|   -1|       0| unknown| no|\n",
            "| 43|  technician|  single|secondary|     no|    593|    yes|  no|unknown|  5|  may|      55|       1|   -1|       0| unknown| no|\n",
            "| 41|      admin.|divorced|secondary|     no|    270|    yes|  no|unknown|  5|  may|     222|       1|   -1|       0| unknown| no|\n",
            "| 29|      admin.|  single|secondary|     no|    390|    yes|  no|unknown|  5|  may|     137|       1|   -1|       0| unknown| no|\n",
            "| 53|  technician| married|secondary|     no|      6|    yes|  no|unknown|  5|  may|     517|       1|   -1|       0| unknown| no|\n",
            "| 58|  technician| married|  unknown|     no|     71|    yes|  no|unknown|  5|  may|      71|       1|   -1|       0| unknown| no|\n",
            "| 57|    services| married|secondary|     no|    162|    yes|  no|unknown|  5|  may|     174|       1|   -1|       0| unknown| no|\n",
            "| 51|     retired| married|  primary|     no|    229|    yes|  no|unknown|  5|  may|     353|       1|   -1|       0| unknown| no|\n",
            "| 45|      admin.|  single|  unknown|     no|     13|    yes|  no|unknown|  5|  may|      98|       1|   -1|       0| unknown| no|\n",
            "| 57| blue-collar| married|  primary|     no|     52|    yes|  no|unknown|  5|  may|      38|       1|   -1|       0| unknown| no|\n",
            "| 60|     retired| married|  primary|     no|     60|    yes|  no|unknown|  5|  may|     219|       1|   -1|       0| unknown| no|\n",
            "| 33|    services| married|secondary|     no|      0|    yes|  no|unknown|  5|  may|      54|       1|   -1|       0| unknown| no|\n",
            "+---+------------+--------+---------+-------+-------+-------+----+-------+---+-----+--------+--------+-----+--------+--------+---+\n",
            "only showing top 20 rows\n",
            "\n",
            "   idx      name  coefficients\n",
            "0    0       age     28.083973\n",
            "1    1       day      3.305546\n",
            "2    2  duration      0.248828\n",
            "3    3  campaign    -14.142676\n",
            "4    4     pdays     -0.082488\n",
            "5    5  previous     23.462993\n",
            "Intercept: 124.9213009281818\n",
            "+-------+--------------------+---+---+--------+--------+-----+--------+------------------+\n",
            "|balance|            features|age|day|duration|campaign|pdays|previous|        prediction|\n",
            "+-------+--------------------+---+---+--------+--------+-----+--------+------------------+\n",
            "|   2143|[58.0,5.0,261.0,1...| 58|  5|     261|       1|   -1|       0|1821.2034908050941|\n",
            "|     29|[44.0,5.0,151.0,1...| 44|  5|     151|       1|   -1|       0|1400.6567439120818|\n",
            "|      2|[33.0,5.0,76.0,1....| 33|  5|      76|       1|   -1|       0|1073.0709104356752|\n",
            "|   1506|[47.0,5.0,92.0,1....| 47|  5|      92|       1|   -1|       0|  1470.22778587604|\n",
            "|      1|[33.0,5.0,198.0,1...| 33|  5|     198|       1|   -1|       0|1103.4279776401754|\n",
            "|    231|[35.0,5.0,139.0,1...| 35|  5|     139|       1|   -1|       0|1144.9150466952035|\n",
            "|    447|[28.0,5.0,217.0,1...| 28|  5|     217|       1|   -1|       0| 967.7358530699967|\n",
            "|      2|[42.0,5.0,380.0,1...| 42|  5|     380|       1|   -1|       0| 1401.470506207587|\n",
            "|    121|[58.0,5.0,50.0,1....| 58|  5|      50|       1|   -1|       0|1768.7006942464914|\n",
            "|    593|[43.0,5.0,55.0,1....| 43|  5|      55|       1|   -1|       0| 1348.685242711086|\n",
            "|    270|[41.0,5.0,222.0,1...| 41|  5|     222|       1|   -1|       0| 1334.071642984632|\n",
            "|    390|[29.0,5.0,137.0,1...| 29|  5|     137|       1|   -1|       0| 975.9135524022053|\n",
            "|      6|[53.0,5.0,517.0,1...| 53|  5|     517|       1|   -1|       0|1744.4837017059529|\n",
            "|     71|[58.0,5.0,71.0,1....| 58|  5|      71|       1|   -1|       0|1773.9260910603807|\n",
            "|    162|[57.0,5.0,174.0,1...| 57|  5|     174|       1|   -1|       0|1771.4714453814795|\n",
            "|    229|[51.0,5.0,353.0,1...| 51|  5|     353|       1|   -1|       0|1647.5078950558138|\n",
            "|     13|[45.0,5.0,98.0,1....| 45|  5|      98|       1|   -1|       0|1415.5528105764338|\n",
            "|     52|[57.0,5.0,38.0,1....| 57|  5|      38|       1|   -1|       0| 1737.630780301053|\n",
            "|     60|[60.0,5.0,219.0,1...| 60|  5|     219|       1|   -1|       0|1866.9206429951755|\n",
            "|      0|[33.0,5.0,54.0,1....| 33|  5|      54|       1|   -1|       0|1067.5966852020767|\n",
            "+-------+--------------------+---+---+--------+--------+-----+--------+------------------+\n",
            "only showing top 20 rows\n",
            "\n"
          ]
        }
      ]
    }
  ]
}