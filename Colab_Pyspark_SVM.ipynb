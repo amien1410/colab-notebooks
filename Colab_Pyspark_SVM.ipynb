{
  "nbformat": 4,
  "nbformat_minor": 0,
  "metadata": {
    "colab": {
      "provenance": [],
      "authorship_tag": "ABX9TyNU5JvARL4UienbPHqFZxsW",
      "include_colab_link": true
    },
    "kernelspec": {
      "name": "python3",
      "display_name": "Python 3"
    },
    "language_info": {
      "name": "python"
    }
  },
  "cells": [
    {
      "cell_type": "markdown",
      "metadata": {
        "id": "view-in-github",
        "colab_type": "text"
      },
      "source": [
        "<a href=\"https://colab.research.google.com/github/amien1410/colab-notebooks/blob/main/Colab_Pyspark_SVM.ipynb\" target=\"_parent\"><img src=\"https://colab.research.google.com/assets/colab-badge.svg\" alt=\"Open In Colab\"/></a>"
      ]
    },
    {
      "cell_type": "code",
      "execution_count": 1,
      "metadata": {
        "colab": {
          "base_uri": "https://localhost:8080/"
        },
        "id": "2KnnR7M67p78",
        "outputId": "6a82067e-507c-4a22-a439-989682fcc26d"
      },
      "outputs": [
        {
          "output_type": "stream",
          "name": "stdout",
          "text": [
            "Mounted at /content/drive\n",
            "Requirement already satisfied: kaggle in /usr/local/lib/python3.11/dist-packages (1.7.4.5)\n",
            "Requirement already satisfied: bleach in /usr/local/lib/python3.11/dist-packages (from kaggle) (6.2.0)\n",
            "Requirement already satisfied: certifi>=14.05.14 in /usr/local/lib/python3.11/dist-packages (from kaggle) (2025.6.15)\n",
            "Requirement already satisfied: charset-normalizer in /usr/local/lib/python3.11/dist-packages (from kaggle) (3.4.2)\n",
            "Requirement already satisfied: idna in /usr/local/lib/python3.11/dist-packages (from kaggle) (3.10)\n",
            "Requirement already satisfied: protobuf in /usr/local/lib/python3.11/dist-packages (from kaggle) (5.29.5)\n",
            "Requirement already satisfied: python-dateutil>=2.5.3 in /usr/local/lib/python3.11/dist-packages (from kaggle) (2.9.0.post0)\n",
            "Requirement already satisfied: python-slugify in /usr/local/lib/python3.11/dist-packages (from kaggle) (8.0.4)\n",
            "Requirement already satisfied: requests in /usr/local/lib/python3.11/dist-packages (from kaggle) (2.32.3)\n",
            "Requirement already satisfied: setuptools>=21.0.0 in /usr/local/lib/python3.11/dist-packages (from kaggle) (75.2.0)\n",
            "Requirement already satisfied: six>=1.10 in /usr/local/lib/python3.11/dist-packages (from kaggle) (1.17.0)\n",
            "Requirement already satisfied: text-unidecode in /usr/local/lib/python3.11/dist-packages (from kaggle) (1.3)\n",
            "Requirement already satisfied: tqdm in /usr/local/lib/python3.11/dist-packages (from kaggle) (4.67.1)\n",
            "Requirement already satisfied: urllib3>=1.15.1 in /usr/local/lib/python3.11/dist-packages (from kaggle) (2.4.0)\n",
            "Requirement already satisfied: webencodings in /usr/local/lib/python3.11/dist-packages (from kaggle) (0.5.1)\n",
            "Downloading predict-student-performance-from-game-play.zip to /content\n",
            " 99% 960M/968M [00:11<00:00, 117MB/s] \n",
            "100% 968M/968M [00:11<00:00, 89.0MB/s]\n"
          ]
        }
      ],
      "source": [
        "#@title Install Kaggle modules and download the dataset\n",
        "\n",
        "from google.colab import drive\n",
        "drive.mount('/content/drive')\n",
        "\n",
        "!pip install kaggle\n",
        "import os\n",
        "os.environ['KAGGLE_CONFIG_DIR'] = '/content/drive/MyDrive/kaggle'\n",
        "!kaggle competitions download -c predict-student-performance-from-game-play\n",
        "!unzip -q \"/content/predict-student-performance-from-game-play.zip\""
      ]
    },
    {
      "cell_type": "code",
      "source": [
        "from pyspark.sql import SparkSession\n",
        "from pyspark.sql.functions import udf, split, struct\n",
        "from pyspark.sql.types import *\n",
        "\n",
        "from pyspark.ml.feature import StringIndexer\n",
        "from pyspark.ml.feature import StandardScaler\n",
        "\n",
        "from pyspark.sql.functions import *\n",
        "from pyspark.sql.types import *\n",
        "\n",
        "\n",
        "from xgboost import XGBClassifier\n",
        "import xgboost as xgb\n",
        "\n",
        "\n",
        "import gc\n",
        "\n",
        "from sklearn.model_selection import train_test_split\n",
        "from sklearn.metrics import accuracy_score, precision_score, recall_score, f1_score\n",
        "from sklearn.preprocessing import MinMaxScaler\n",
        "import pickle\n",
        "\n",
        "import pandas as pd\n",
        "import numpy as np\n",
        "import matplotlib.pyplot as plt\n",
        "\n",
        "\n",
        "import warnings\n",
        "warnings.filterwarnings(\"ignore\")"
      ],
      "metadata": {
        "id": "dMLcwRWF7yh2"
      },
      "execution_count": 4,
      "outputs": []
    },
    {
      "cell_type": "code",
      "source": [
        "# Create a SparkSession\n",
        "spark = SparkSession.builder.appName(\"MyApp\").getOrCreate()\n",
        "\n",
        "# Define schema for train.csv\n",
        "train_schema = StructType([\n",
        "    StructField(\"session_id\", LongType(), True),\n",
        "    StructField(\"index\", ShortType(), True),\n",
        "    StructField(\"elapsed_time\", IntegerType(), True),\n",
        "    StructField(\"event_name\", StringType(), True),\n",
        "    StructField(\"name\", StringType(), True),\n",
        "    StructField(\"level\", ByteType(), True),\n",
        "    StructField(\"page\", IntegerType(), True),\n",
        "    StructField(\"room_coor_x\", DoubleType(), True),\n",
        "    StructField(\"room_coor_y\", DoubleType(), True),\n",
        "    StructField(\"screen_coor_x\", DoubleType(), True),\n",
        "    StructField(\"screen_coor_y\", DoubleType(), True),\n",
        "    StructField(\"hover_duration\", DoubleType(), True),\n",
        "    StructField(\"text\", StringType(), True),\n",
        "    StructField(\"fqid\", StringType(), True),\n",
        "    StructField(\"room_fqid\", StringType(), True),\n",
        "    StructField(\"text_fqid\", StringType(), True),\n",
        "    StructField(\"fullscreen\", ByteType(), True),\n",
        "    StructField(\"hq\", ByteType(), True),\n",
        "    StructField(\"music\", ByteType(), True),\n",
        "    StructField(\"level_group\", StringType(), True)\n",
        "])\n",
        "\n",
        "# Load train.csv\n",
        "df_train = spark.read.format(\"csv\").option(\"header\", True).schema(train_schema).load(\"/content/train.csv\")\n",
        "print ('**** output: df_train ****')"
      ],
      "metadata": {
        "colab": {
          "base_uri": "https://localhost:8080/"
        },
        "id": "hCfGjtOT8Tar",
        "outputId": "a65eb57f-2af5-49a8-b5bf-21748c3385fb"
      },
      "execution_count": 5,
      "outputs": [
        {
          "output_type": "stream",
          "name": "stdout",
          "text": [
            "**** output: df_train ****\n"
          ]
        }
      ]
    },
    {
      "cell_type": "code",
      "source": [
        "def data_transformation(df):\n",
        "    # Select the numeric columns of the dataframe, excluding \"page\"\n",
        "    numeric_cols = [c for c, dtype in df.dtypes if dtype == 'double' and c != 'page']\n",
        "\n",
        "    # Calculate the mean of the values in each numeric column, except \"page\"\n",
        "    means = df.agg(*(mean(c).alias(c) for c in numeric_cols)).first().asDict()\n",
        "\n",
        "    # Define the fill value for the \"page\" column as zero\n",
        "    fill_values = means\n",
        "    fill_values['page'] = 0\n",
        "\n",
        "    # Fill missing values with fill values\n",
        "    filled = df.fillna(fill_values)\n",
        "\n",
        "    # Fill missing data in hover_duration column with 0\n",
        "    filled = filled.fillna(0, subset=['hover_duration'])\n",
        "\n",
        "    # Drop rows with missing values in \"level_group\" column\n",
        "    filled = filled.na.drop(subset=[\"level_group\"])\n",
        "\n",
        "    # Check categorical columns and fill with 0\n",
        "    categorical_cols = [c for c, dtype in df.dtypes if dtype == 'string']\n",
        "    filled = filled.fillna('0', subset=categorical_cols)\n",
        "\n",
        "    # Transform categorical data into numerical data using StringIndexer\n",
        "    indexer = StringIndexer(inputCols=['event_name', 'name', 'fqid', 'text', 'room_fqid', 'text_fqid'],\n",
        "                            outputCols=['event_name_idx', 'name_idx', 'fqid_idx', 'text_idx', 'room_fqid_idx', 'text_fqid_idx'])\n",
        "    indexed = indexer.fit(filled).transform(filled)\n",
        "\n",
        "    categorical_cols = [c for c, dtype in indexed.dtypes if dtype == 'string' and c != 'level_group']\n",
        "    all_cols = indexed.columns\n",
        "    numeric_cols = [col_name for col_name in all_cols if col_name not in categorical_cols]\n",
        "    df_numeric = indexed.select(numeric_cols)\n",
        "\n",
        "    # Group the data by the specified column combination and calculate the mean of the remaining numeric columns\n",
        "    cols_for_group = ['elapsed_time', 'page', 'room_coor_x', 'room_coor_y', 'screen_coor_x',\n",
        "                      'screen_coor_y', 'hover_duration', 'fullscreen', 'hq', 'music','event_name_idx', 'name_idx',\n",
        "                      'fqid_idx', 'text_idx', 'room_fqid_idx', 'text_fqid_idx']\n",
        "    grouped = df_numeric.groupby(['session_id', 'level_group']).agg(*(avg(col(c)).alias(c) for c in cols_for_group))\n",
        "\n",
        "    # Define a mapping of old column names to new ones\n",
        "    column_mapping = {\n",
        "        'event_name_idx': 'event_name',\n",
        "        'name_idx': 'name',\n",
        "        'text_idx': 'text',\n",
        "        'fqid_idx': 'fqid',\n",
        "        'room_fqid_idx': 'room_fqid',\n",
        "        'text_fqid_idx': 'text_fqid',\n",
        "        'fullscreen': 'fullscreen',\n",
        "    }\n",
        "\n",
        "    # Rename columns using the mapping defined above\n",
        "    grouped = grouped.toDF(*[column_mapping.get(col, col) for col in grouped.columns])\n",
        "\n",
        "    # Transform pyspark dataframe to pandas datraframe\n",
        "    df_pandas = grouped.toPandas()\n",
        "    print('************** Done!!! ***************')\n",
        "\n",
        "    return df_pandas\n",
        "\n",
        "dftrain = data_transformation(df_train)"
      ],
      "metadata": {
        "id": "kr-ktmjr84_V"
      },
      "execution_count": null,
      "outputs": []
    },
    {
      "cell_type": "code",
      "source": [
        "from sklearn.impute import SimpleImputer\n",
        "from sklearn.preprocessing import LabelEncoder\n",
        "\n",
        "\n",
        "\n",
        "def data_transformation_test(df):\n",
        "    # Seleciona as colunas numéricas do dataframe, excluindo \"page\"\n",
        "    numeric_cols = df.select_dtypes(include=np.number).columns.tolist()\n",
        "    numeric_cols = numeric_cols[2:]\n",
        "    numeric_cols.remove('page')\n",
        "\n",
        "\n",
        "    # Preenche os valores faltantes com a média\n",
        "    imputer = SimpleImputer(missing_values=np.nan, strategy='mean')\n",
        "    df[numeric_cols] = imputer.fit_transform(df[numeric_cols])\n",
        "\n",
        "    # Preenche os valores faltantes em hover_duration com 0\n",
        "    df['hover_duration'] = df['hover_duration'].fillna(0)\n",
        "    df['page'] = df['page'].fillna(0)\n",
        "\n",
        "    # Seleciona as colunas categóricas do dataframe\n",
        "    categorical_cols = df.select_dtypes(include=['object']).columns.tolist()\n",
        "\n",
        "    # Preenche os valores faltantes em cada coluna categórica com \"0\"\n",
        "    df[categorical_cols] = df[categorical_cols].fillna('0')\n",
        "\n",
        "    # Transforma dados categóricos em dados numéricos usando LabelEncoder\n",
        "    le = LabelEncoder()\n",
        "    for col in categorical_cols:\n",
        "        df[col] = le.fit_transform(df[col])\n",
        "\n",
        "    df = df.drop(columns=['index'])\n",
        "    #df = df.set_index('session_id')\n",
        "\n",
        "    \"\"\"\n",
        "    Cria uma nova coluna \"level_group\" com base na coluna \"question\" do DataFrame df.\n",
        "    \"\"\"\n",
        "    # Define as condições para a criação da nova coluna \"level_group\"\n",
        "    conditions = [\n",
        "        (df[\"level_group\"] == 0),\n",
        "        (df[\"level_group\"] == 1),\n",
        "        (df[\"level_group\"] == 2)\n",
        "    ]\n",
        "\n",
        "    # Define os valores a serem atribuídos à nova coluna \"level_group\" de acordo com as condições\n",
        "    values = [\"0-4\", \"5-12\", \"13-22\"]\n",
        "\n",
        "    # Cria a nova coluna \"level_group\"\n",
        "    df[\"level_group\"] = pd.Series(np.select(conditions, values))\n",
        "#     # Criar um dicionário que mapeia os valores de \"level_group\" para seus respectivos valores numéricos\n",
        "#     level_group_dict = {'0-4': 0, '5-12': 1, '13-22': 2}\n",
        "#     df['level_group'] = df['level_group'].apply(lambda x: level_group_dict.get(x, 0))\n",
        "\n",
        "    return df\n",
        "\n",
        "df_test  = pd.read_csv(PATH_FOLDER +'test.csv')\n",
        "test_df = data_transformation_test(df_test)\n",
        "print ('******* output: test_df ********')"
      ],
      "metadata": {
        "id": "OGQfGY149IFw"
      },
      "execution_count": null,
      "outputs": []
    }
  ]
}