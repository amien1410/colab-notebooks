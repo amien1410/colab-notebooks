{
  "nbformat": 4,
  "nbformat_minor": 0,
  "metadata": {
    "colab": {
      "provenance": [],
      "authorship_tag": "ABX9TyO8+5IYHnYKoz/9FegzZdym",
      "include_colab_link": true
    },
    "kernelspec": {
      "name": "python3",
      "display_name": "Python 3"
    },
    "language_info": {
      "name": "python"
    }
  },
  "cells": [
    {
      "cell_type": "markdown",
      "metadata": {
        "id": "view-in-github",
        "colab_type": "text"
      },
      "source": [
        "<a href=\"https://colab.research.google.com/github/amien1410/colab-notebooks/blob/main/Colab_Pyspark_Basics.ipynb\" target=\"_parent\"><img src=\"https://colab.research.google.com/assets/colab-badge.svg\" alt=\"Open In Colab\"/></a>"
      ]
    },
    {
      "cell_type": "code",
      "execution_count": 1,
      "metadata": {
        "colab": {
          "base_uri": "https://localhost:8080/"
        },
        "id": "wwvHZyCdYK11",
        "outputId": "8d36f208-053b-4e3f-93fb-c9b5ba26032e"
      },
      "outputs": [
        {
          "output_type": "stream",
          "name": "stdout",
          "text": [
            "Requirement already satisfied: pyspark in /usr/local/lib/python3.11/dist-packages (3.5.1)\n",
            "Requirement already satisfied: py4j==0.10.9.7 in /usr/local/lib/python3.11/dist-packages (from pyspark) (0.10.9.7)\n",
            "--2025-06-10 05:59:32--  https://raw.githubusercontent.com/Shahadat9886/Mall_Customers.csv/refs/heads/main/Thu%20H%C3%A0%20Tr%E1%BA%A7n%20-%20Mall_Customers.csv\n",
            "Resolving raw.githubusercontent.com (raw.githubusercontent.com)... 185.199.111.133, 185.199.108.133, 185.199.110.133, ...\n",
            "Connecting to raw.githubusercontent.com (raw.githubusercontent.com)|185.199.111.133|:443... connected.\n",
            "HTTP request sent, awaiting response... 200 OK\n",
            "Length: 4286 (4.2K) [text/plain]\n",
            "Saving to: ‘Mall_Customers.csv’\n",
            "\n",
            "Mall_Customers.csv  100%[===================>]   4.19K  --.-KB/s    in 0s      \n",
            "\n",
            "2025-06-10 05:59:33 (49.8 MB/s) - ‘Mall_Customers.csv’ saved [4286/4286]\n",
            "\n"
          ]
        },
        {
          "output_type": "execute_result",
          "data": {
            "text/plain": [
              "DataFrame[CustomerID: int, Genre: string, Age: int, Annual Income (k$): int, Spending Score (1-100): int]"
            ]
          },
          "metadata": {},
          "execution_count": 1
        }
      ],
      "source": [
        "# install pyspark\n",
        "!pip install pyspark\n",
        "\n",
        "# initiate pyspark\n",
        "from pyspark.sql import SparkSession\n",
        "spark = SparkSession.builder\\\n",
        "        .master(\"local\")\\\n",
        "        .appName(\"Colab\")\\\n",
        "        .config('spark.ui.port', '4050')\\\n",
        "        .getOrCreate()\n",
        "\n",
        "# download sample\n",
        "!wget -O Mall_Customers.csv \"https://raw.githubusercontent.com/Shahadat9886/Mall_Customers.csv/refs/heads/main/Thu%20H%C3%A0%20Tr%E1%BA%A7n%20-%20Mall_Customers.csv\"\n",
        "\n",
        "# load csv\n",
        "df = spark.read.csv(\"/content/Mall_Customers.csv\", header=True, inferSchema=True)\n",
        "df"
      ]
    },
    {
      "cell_type": "code",
      "source": [
        "# use spark.sql\n",
        "df2 = spark.sql(\"select 'spark' as hello \")\n",
        "df2.show()"
      ],
      "metadata": {
        "colab": {
          "base_uri": "https://localhost:8080/"
        },
        "id": "yLKIdevAfh8C",
        "outputId": "1ecd7fb5-18de-4c6d-9ec3-30e23ccb8bce"
      },
      "execution_count": 2,
      "outputs": [
        {
          "output_type": "stream",
          "name": "stdout",
          "text": [
            "+-----+\n",
            "|hello|\n",
            "+-----+\n",
            "|spark|\n",
            "+-----+\n",
            "\n"
          ]
        }
      ]
    },
    {
      "cell_type": "code",
      "source": [
        "# !wget -O movies.csv \"https://raw.githubusercontent.com/Apress/applied-data-science-using-pyspark/refs/heads/main/Ch02/Chapter2_Data/movie_data_part1.csv\"\n",
        "df = spark.read.csv(\"movies.csv\", header=True, sep='|', inferSchema=False)\n",
        "df.show(10)"
      ],
      "metadata": {
        "colab": {
          "base_uri": "https://localhost:8080/"
        },
        "id": "uIN187Jpg_NS",
        "outputId": "9276e35e-8d80-4336-e9df-dded3ef49407"
      },
      "execution_count": 11,
      "outputs": [
        {
          "output_type": "stream",
          "name": "stdout",
          "text": [
            "+---------------------+------+-----+-----------------+--------------------+--------------------+----------+--------------------+--------------------+------------+-------+-------+--------+--------------------+--------------------+------------+\n",
            "|belongs_to_collection|budget|   id|original_language|      original_title|            overview|popularity|production_companies|production_countries|release_date|revenue|runtime|  status|             tagline|               title|vote_average|\n",
            "+---------------------+------+-----+-----------------+--------------------+--------------------+----------+--------------------+--------------------+------------+-------+-------+--------+--------------------+--------------------+------------+\n",
            "|                 NULL|     0|43000|               fr|  Le Caporal épinglé|The story serves ...|     2.503|[{'id': 16059, 'l...|[{'iso_3166_1': '...|  1962-05-23|      0|     90|Released|                NULL|The Elusive Corporal|         5.9|\n",
            "|                 NULL|     0|43001|               fr|Cybèle ou les dim...|The tragic story ...|      5.51|[{'id': 7808, 'lo...|[{'iso_3166_1': '...|  1962-11-12|      0|    110|Released|                NULL|  Sundays and Cybele|         7.4|\n",
            "|                 NULL|     0|43002|               en|Lonely Are the Brave|A fiercely indepe...|      5.62|[{'id': 3810, 'lo...|[{'iso_3166_1': '...|  1962-05-24|      0|    107|Released|Life can never ca...|Lonely Are the Brave|         7.5|\n",
            "|                 NULL|     0|43003|               fr|Vérités et Mensonges|Documents the liv...|     7.159|[{'id': 36547, 'l...|[{'iso_3166_1': '...|  1975-03-12|      0|     89|Released|                NULL|          F for Fake|         7.5|\n",
            "|                 NULL|500000|43004|               en|Long Day's Journe...|The film follows ...|     3.988|[{'id': 77598, 'l...|[{'iso_3166_1': '...|  1962-10-09|      0|    174|Released|PRIDE...POWER...P...|Long Day's Journe...|         6.8|\n",
            "|                 NULL|     0|43006|               en|           My Geisha|\"A director's (Yv...|     3.194|[{'id': 82939, 'l...|[{'iso_3166_1': '...|  1962-03-09|      0|    119|Released|                NULL|           My Geisha|         6.1|\n",
            "|                 NULL|     0|43007|               en|Period of Adjustment|George Haverstick...|     2.689|[{'id': 13359, 'l...|[{'iso_3166_1': '...|  1962-10-31|      0|    112|Released|The agonizing pau...|Period of Adjustment|         6.4|\n",
            "|                 NULL|     0|43008|               en|    The Hanging Tree|Character study o...|     6.537|[{'id': 14248, 'l...|[{'iso_3166_1': '...|  1959-03-13|      0|    107|Released|From The Prize No...|    The Hanging Tree|         6.6|\n",
            "|                 NULL|     0|43010|               de|Sherlock Holmes u...|Sherlock Holmes a...|     4.297|[{'id': 1787, 'lo...|[{'iso_3166_1': '...|  1962-01-01|      0|     87|Released|                NULL|Sherlock Holmes a...|         5.5|\n",
            "|                 NULL|     0|43011|               en|  Sodom and Gomorrah|Sex, torture and ...|     4.417|[{'id': 8894, 'lo...|[{'iso_3166_1': '...|  1962-01-01|      0|    154|Released|The cities that m...|  Sodom and Gomorrah|         5.4|\n",
            "+---------------------+------+-----+-----------------+--------------------+--------------------+----------+--------------------+--------------------+------------+-------+-------+--------+--------------------+--------------------+------------+\n",
            "only showing top 10 rows\n",
            "\n"
          ]
        }
      ]
    },
    {
      "cell_type": "code",
      "source": [
        "# Importing the SparkContext module from PySpark\n",
        "from pyspark import SparkContext\n",
        "\n",
        "# Creating a SparkContext object\n",
        "sc = SparkContext.getOrCreate()\n",
        "\n",
        "# Importing the random module\n",
        "import random\n",
        "NUM_SAMPLES = 100000000 # Define the samples\n",
        "\n",
        "# Function to check if a point lies inside\n",
        "def inside(p):\n",
        "  x, y = random.random(), random.random()\n",
        "  return x*x + y*y < 1\n",
        "\n",
        "# parallelize the computation\n",
        "count = sc.parallelize(range(0, NUM_SAMPLES)).filter(inside).count()\n",
        "\n",
        "# calculate the estimate value of pi\n",
        "pi = 4 * count / NUM_SAMPLES\n",
        "print(\"Pi is roughly\", pi)"
      ],
      "metadata": {
        "colab": {
          "base_uri": "https://localhost:8080/"
        },
        "id": "TpGA3Ki-hdgD",
        "outputId": "9ba4031c-a19f-4cd6-b3ec-73826d52a69e"
      },
      "execution_count": 5,
      "outputs": [
        {
          "output_type": "stream",
          "name": "stdout",
          "text": [
            "Pi is roughly 3.14192564\n"
          ]
        }
      ]
    },
    {
      "cell_type": "code",
      "source": [
        "df.printSchema()"
      ],
      "metadata": {
        "colab": {
          "base_uri": "https://localhost:8080/"
        },
        "id": "5npWK52sjOJj",
        "outputId": "f8cd8058-67d1-496b-e42f-6f473336dfa4"
      },
      "execution_count": 12,
      "outputs": [
        {
          "output_type": "stream",
          "name": "stdout",
          "text": [
            "root\n",
            " |-- belongs_to_collection: string (nullable = true)\n",
            " |-- budget: string (nullable = true)\n",
            " |-- id: string (nullable = true)\n",
            " |-- original_language: string (nullable = true)\n",
            " |-- original_title: string (nullable = true)\n",
            " |-- overview: string (nullable = true)\n",
            " |-- popularity: string (nullable = true)\n",
            " |-- production_companies: string (nullable = true)\n",
            " |-- production_countries: string (nullable = true)\n",
            " |-- release_date: string (nullable = true)\n",
            " |-- revenue: string (nullable = true)\n",
            " |-- runtime: string (nullable = true)\n",
            " |-- status: string (nullable = true)\n",
            " |-- tagline: string (nullable = true)\n",
            " |-- title: string (nullable = true)\n",
            " |-- vote_average: string (nullable = true)\n",
            "\n"
          ]
        }
      ]
    },
    {
      "cell_type": "code",
      "source": [
        "df.dtypes"
      ],
      "metadata": {
        "colab": {
          "base_uri": "https://localhost:8080/"
        },
        "id": "45QYzoYZjSVh",
        "outputId": "7ee3df04-77eb-40b1-fac5-aff2f9a06fea"
      },
      "execution_count": 13,
      "outputs": [
        {
          "output_type": "execute_result",
          "data": {
            "text/plain": [
              "[('belongs_to_collection', 'string'),\n",
              " ('budget', 'string'),\n",
              " ('id', 'string'),\n",
              " ('original_language', 'string'),\n",
              " ('original_title', 'string'),\n",
              " ('overview', 'string'),\n",
              " ('popularity', 'string'),\n",
              " ('production_companies', 'string'),\n",
              " ('production_countries', 'string'),\n",
              " ('release_date', 'string'),\n",
              " ('revenue', 'string'),\n",
              " ('runtime', 'string'),\n",
              " ('status', 'string'),\n",
              " ('tagline', 'string'),\n",
              " ('title', 'string'),\n",
              " ('vote_average', 'string')]"
            ]
          },
          "metadata": {},
          "execution_count": 13
        }
      ]
    },
    {
      "cell_type": "code",
      "source": [
        "print('The total number of records in the movie dataset is '+str(df.count()))"
      ],
      "metadata": {
        "colab": {
          "base_uri": "https://localhost:8080/"
        },
        "id": "HRvV8CxejYKZ",
        "outputId": "530fb006-fcaa-4d9b-d74c-ce6496d925ab"
      },
      "execution_count": 14,
      "outputs": [
        {
          "output_type": "stream",
          "name": "stdout",
          "text": [
            "The total number of records in the movie dataset is 43998\n"
          ]
        }
      ]
    },
    {
      "cell_type": "code",
      "source": [
        "#@title Subset Columns\n",
        "\n",
        "# Defining a list to subset the required columns\n",
        "select_columns=['id', 'budget', 'popularity', 'release_date', 'revenue','title']\n",
        "\n",
        "# Subsetting the required columns from the DataFrame\n",
        "df=df.select(*select_columns)\n",
        "\n",
        "# The following command displays the data; by default it shows top 20 rows\n",
        "df.show()"
      ],
      "metadata": {
        "colab": {
          "base_uri": "https://localhost:8080/"
        },
        "id": "gJlYNiN0kdx6",
        "outputId": "326ad731-1ab9-46c2-a44a-bb0e760c5f45"
      },
      "execution_count": 15,
      "outputs": [
        {
          "output_type": "stream",
          "name": "stdout",
          "text": [
            "+-----+-------+------------------+------------+-------+--------------------+\n",
            "|   id| budget|        popularity|release_date|revenue|               title|\n",
            "+-----+-------+------------------+------------+-------+--------------------+\n",
            "|43000|      0|             2.503|  1962-05-23|      0|The Elusive Corporal|\n",
            "|43001|      0|              5.51|  1962-11-12|      0|  Sundays and Cybele|\n",
            "|43002|      0|              5.62|  1962-05-24|      0|Lonely Are the Brave|\n",
            "|43003|      0|             7.159|  1975-03-12|      0|          F for Fake|\n",
            "|43004| 500000|             3.988|  1962-10-09|      0|Long Day's Journe...|\n",
            "|43006|      0|             3.194|  1962-03-09|      0|           My Geisha|\n",
            "|43007|      0|             2.689|  1962-10-31|      0|Period of Adjustment|\n",
            "|43008|      0|             6.537|  1959-03-13|      0|    The Hanging Tree|\n",
            "|43010|      0|             4.297|  1962-01-01|      0|Sherlock Holmes a...|\n",
            "|43011|      0|             4.417|  1962-01-01|      0|  Sodom and Gomorrah|\n",
            "|43012|7000000|4.7219999999999995|  1962-11-21|4000000|         Taras Bulba|\n",
            "|43013|      0|             2.543|  1962-04-17|      0|The Counterfeit T...|\n",
            "|43014|      0|             4.303|  1962-10-24|      0|     Tower of London|\n",
            "|43015|      0|             3.493|  1962-12-07|      0|Varan the Unbelie...|\n",
            "|43016|      0|             2.851|  1962-01-01|      0|Waltz of the Tore...|\n",
            "|43017|      0|             4.047|  1961-10-11|      0|         Back Street|\n",
            "|43018|      0|             2.661|  1961-06-02|      0|Gidget Goes Hawaiian|\n",
            "|43019|      0|             3.225|  2010-05-28|      0|Schuks Tshabalala...|\n",
            "|43020|      0|              5.72|  1961-06-15|      0|The Colossus of R...|\n",
            "|43021|      0|             3.292|  2008-08-22|      0|          Sex Galaxy|\n",
            "+-----+-------+------------------+------------+-------+--------------------+\n",
            "only showing top 20 rows\n",
            "\n"
          ]
        }
      ]
    },
    {
      "cell_type": "code",
      "source": [
        "#@title Missing Values\n",
        "\n",
        "from pyspark.sql.functions import *\n",
        "\n",
        "df = spark.read.csv(\"movies.csv\", header=True, sep='|', inferSchema=False)\n",
        "df.filter((df['popularity']=='')|df['popularity'].isNull()|isnan(df['popularity'])).count()"
      ],
      "metadata": {
        "colab": {
          "base_uri": "https://localhost:8080/"
        },
        "id": "BYmW6MGRly-y",
        "outputId": "0a26b575-a6bc-4688-a6d7-898142bed3bf"
      },
      "execution_count": 33,
      "outputs": [
        {
          "output_type": "execute_result",
          "data": {
            "text/plain": [
              "215"
            ]
          },
          "metadata": {},
          "execution_count": 33
        }
      ]
    },
    {
      "cell_type": "code",
      "source": [
        "df.select([count(when((col(c)=='') | col(c).isNull() |isnan(c), c)).alias(c)\n",
        "for c in df.columns]).show()"
      ],
      "metadata": {
        "colab": {
          "base_uri": "https://localhost:8080/"
        },
        "id": "BBuOXlEwmIxN",
        "outputId": "28aa5d97-f2f8-4f9b-b917-3885d01d6b30"
      },
      "execution_count": 17,
      "outputs": [
        {
          "output_type": "stream",
          "name": "stdout",
          "text": [
            "+---------------------+------+---+-----------------+--------------+--------+----------+--------------------+--------------------+------------+-------+-------+------+-------+-----+------------+\n",
            "|belongs_to_collection|budget| id|original_language|original_title|overview|popularity|production_companies|production_countries|release_date|revenue|runtime|status|tagline|title|vote_average|\n",
            "+---------------------+------+---+-----------------+--------------+--------+----------+--------------------+--------------------+------------+-------+-------+------+-------+-----+------------+\n",
            "|                38313|   125|125|              125|           125|     749|       215|                 215|                 283|         221|    215|    304|   304|  23967|  304|         304|\n",
            "+---------------------+------+---+-----------------+--------------+--------+----------+--------------------+--------------------+------------+-------+-------+------+-------+-----+------------+\n",
            "\n"
          ]
        }
      ]
    },
    {
      "cell_type": "code",
      "source": [
        "df.groupBy(df['title']).count().show()"
      ],
      "metadata": {
        "colab": {
          "base_uri": "https://localhost:8080/"
        },
        "id": "wPr2fd9Zmtb5",
        "outputId": "640ea977-4a5c-451c-a77f-25542bdd391d"
      },
      "execution_count": 18,
      "outputs": [
        {
          "output_type": "stream",
          "name": "stdout",
          "text": [
            "+--------------------+-----+\n",
            "|               title|count|\n",
            "+--------------------+-----+\n",
            "|   The Corn Is Green|    1|\n",
            "|Meet The Browns -...|    1|\n",
            "|Morenita, El Esca...|    1|\n",
            "| Father Takes a Wife|    1|\n",
            "|The Werewolf of W...|    1|\n",
            "|My Wife Is a Gang...|    1|\n",
            "|Depeche Mode: Tou...|    1|\n",
            "|  A Woman Is a Woman|    1|\n",
            "|History Is Made a...|    1|\n",
            "|      Colombian Love|    1|\n",
            "|        Ace Attorney|    1|\n",
            "|     Not Like Others|    1|\n",
            "|40 Guns to Apache...|    1|\n",
            "|          Middle Men|    1|\n",
            "|         It's a Gift|    1|\n",
            "|    La Vie de Bohème|    1|\n",
            "|Rasputin: The Mad...|    1|\n",
            "|The Ballad of Jac...|    1|\n",
            "|         How to Deal|    1|\n",
            "|             Freaked|    1|\n",
            "+--------------------+-----+\n",
            "only showing top 20 rows\n",
            "\n"
          ]
        }
      ]
    },
    {
      "cell_type": "code",
      "source": [
        "df.groupby(df['title']).count().sort(desc(\"count\")).show(10, False)"
      ],
      "metadata": {
        "colab": {
          "base_uri": "https://localhost:8080/"
        },
        "id": "RVtPJVhEmwXX",
        "outputId": "4fbb2214-712a-4e19-d41b-0d48a8d33028"
      },
      "execution_count": 19,
      "outputs": [
        {
          "output_type": "stream",
          "name": "stdout",
          "text": [
            "+--------------------+-----+\n",
            "|title               |count|\n",
            "+--------------------+-----+\n",
            "|NULL                |304  |\n",
            "|Les Misérables      |8    |\n",
            "|The Three Musketeers|8    |\n",
            "|Cinderella          |8    |\n",
            "|A Christmas Carol   |7    |\n",
            "|The Island          |7    |\n",
            "|Dracula             |7    |\n",
            "|Hamlet              |7    |\n",
            "|Frankenstein        |7    |\n",
            "|Cleopatra           |6    |\n",
            "+--------------------+-----+\n",
            "only showing top 10 rows\n",
            "\n"
          ]
        }
      ]
    },
    {
      "cell_type": "code",
      "source": [
        "# Subsetting and creating a temporary DataFrame to eliminate any missing values\n",
        "df_temp = df.filter((df['title']!='')&(df['title'].isNotNull()) & (~isnan(df['title'])))\n",
        "\n",
        "# Group by 'title', count occurrences, filter titles occurring more than four times, sort in descending order, and display top results\n",
        "df_temp.groupby(df_temp['title']).count().filter(\"`count` >4\").sort(col(\"count\").desc()).show(10,False)"
      ],
      "metadata": {
        "colab": {
          "base_uri": "https://localhost:8080/"
        },
        "id": "UXYDAfqdm_V0",
        "outputId": "f94a3895-dfc7-415c-f1c8-0a31a72e0704"
      },
      "execution_count": 23,
      "outputs": [
        {
          "output_type": "stream",
          "name": "stdout",
          "text": [
            "+--------------------+-----+\n",
            "|title               |count|\n",
            "+--------------------+-----+\n",
            "|Les Misérables      |8    |\n",
            "|The Three Musketeers|8    |\n",
            "|Cinderella          |8    |\n",
            "|A Christmas Carol   |7    |\n",
            "|The Island          |7    |\n",
            "|Frankenstein        |7    |\n",
            "|Dracula             |7    |\n",
            "|Hamlet              |7    |\n",
            "|Treasure Island     |6    |\n",
            "|The Lost World      |6    |\n",
            "+--------------------+-----+\n",
            "only showing top 10 rows\n",
            "\n"
          ]
        }
      ]
    },
    {
      "cell_type": "code",
      "source": [
        "# The following command is to find the number of titles that are repeated four times or more\n",
        "df_temp.groupby(df_temp['title']).count().filter(\"`count` >=4\").sort(col(\"count\").desc()).count()"
      ],
      "metadata": {
        "colab": {
          "base_uri": "https://localhost:8080/"
        },
        "id": "Ohh7AOLfntvK",
        "outputId": "69194108-3a7f-4406-8322-f644fcbd524c"
      },
      "execution_count": 21,
      "outputs": [
        {
          "output_type": "execute_result",
          "data": {
            "text/plain": [
              "111"
            ]
          },
          "metadata": {},
          "execution_count": 21
        }
      ]
    },
    {
      "cell_type": "code",
      "source": [
        "# The following command is to delete any temporary DataFrames that we created in the process\n",
        "del df_temp"
      ],
      "metadata": {
        "id": "QSjKky2Mn1yu"
      },
      "execution_count": 25,
      "outputs": []
    },
    {
      "cell_type": "code",
      "source": [
        "#@title Casting Variables\n",
        "\n",
        "#Casting\n",
        "df = df.withColumn('budget',df['budget'].cast(\"float\"))\n",
        "\n",
        "#After Casting\n",
        "df.dtypes"
      ],
      "metadata": {
        "colab": {
          "base_uri": "https://localhost:8080/"
        },
        "id": "LAHu_GdcoRzS",
        "outputId": "77ceef16-2fe3-4e57-e9b4-1d9846f0f2a5"
      },
      "execution_count": 26,
      "outputs": [
        {
          "output_type": "execute_result",
          "data": {
            "text/plain": [
              "[('belongs_to_collection', 'string'),\n",
              " ('budget', 'float'),\n",
              " ('id', 'string'),\n",
              " ('original_language', 'string'),\n",
              " ('original_title', 'string'),\n",
              " ('overview', 'string'),\n",
              " ('popularity', 'string'),\n",
              " ('production_companies', 'string'),\n",
              " ('production_countries', 'string'),\n",
              " ('release_date', 'string'),\n",
              " ('revenue', 'string'),\n",
              " ('runtime', 'string'),\n",
              " ('status', 'string'),\n",
              " ('tagline', 'string'),\n",
              " ('title', 'string'),\n",
              " ('vote_average', 'string')]"
            ]
          },
          "metadata": {},
          "execution_count": 26
        }
      ]
    },
    {
      "cell_type": "code",
      "source": [
        "#@title Casting Multiple Columns\n",
        "\n",
        "#Importing necessary libraries\n",
        "from pyspark.sql.types import *\n",
        "\n",
        "#Identifying and assigning lists of variables\n",
        "int_vars=['id']\n",
        "float_vars=['budget', 'popularity', 'revenue']\n",
        "date_vars=['release_date']\n",
        "\n",
        "#Converting integer variables\n",
        "for column in int_vars:\n",
        "  df = df.withColumn(column,df[column].cast(IntegerType()))\n",
        "\n",
        "# Converting float variables\n",
        "for column in float_vars:\n",
        "  df=df.withColumn(column,df[column].cast(FloatType()))\n",
        "\n",
        "# Converting float variables\n",
        "for column in date_vars:\n",
        "  df=df.withColumn(column,df[column].cast(DateType()))\n",
        "\n",
        "df.dtypes"
      ],
      "metadata": {
        "colab": {
          "base_uri": "https://localhost:8080/"
        },
        "id": "CnwR3H12oaf1",
        "outputId": "bc23a8aa-87be-49e9-f29d-6560b640df59"
      },
      "execution_count": 35,
      "outputs": [
        {
          "output_type": "execute_result",
          "data": {
            "text/plain": [
              "[('belongs_to_collection', 'string'),\n",
              " ('budget', 'float'),\n",
              " ('id', 'int'),\n",
              " ('original_language', 'string'),\n",
              " ('original_title', 'string'),\n",
              " ('overview', 'string'),\n",
              " ('popularity', 'float'),\n",
              " ('production_companies', 'string'),\n",
              " ('production_countries', 'string'),\n",
              " ('release_date', 'date'),\n",
              " ('revenue', 'float'),\n",
              " ('runtime', 'string'),\n",
              " ('status', 'string'),\n",
              " ('tagline', 'string'),\n",
              " ('title', 'string'),\n",
              " ('vote_average', 'string')]"
            ]
          },
          "metadata": {},
          "execution_count": 35
        }
      ]
    },
    {
      "cell_type": "code",
      "source": [
        "df.show(10, False)"
      ],
      "metadata": {
        "colab": {
          "base_uri": "https://localhost:8080/"
        },
        "id": "R9LXzX2Ftfb1",
        "outputId": "3bf9e615-de1e-4491-81b5-f0a0dc17f7dd"
      },
      "execution_count": 28,
      "outputs": [
        {
          "output_type": "stream",
          "name": "stdout",
          "text": [
            "+---------------------+--------+-----+-----------------+------------------------------------------+----------------------------------------------------------------------------------------------------------------------------------------------------------------------------------------------------------------------------------------------------------------------------------------------------------------------------------------------------------------------------------------------------------------------------------------------------------------------------------------------+----------+--------------------------------------------------------------------------------------------------------------------------------------------------------------------------------------------------------------------------------------------------------------------------------------------------------------------------------------------------------------------+-----------------------------------------------------------------------------------------------------------------------------------------+------------+-------+-------+--------+----------------------------------------------------------------------------------------+---------------------------------------+------------+\n",
            "|belongs_to_collection|budget  |id   |original_language|original_title                            |overview                                                                                                                                                                                                                                                                                                                                                                                                                                                                                      |popularity|production_companies                                                                                                                                                                                                                                                                                                                                                |production_countries                                                                                                                     |release_date|revenue|runtime|status  |tagline                                                                                 |title                                  |vote_average|\n",
            "+---------------------+--------+-----+-----------------+------------------------------------------+----------------------------------------------------------------------------------------------------------------------------------------------------------------------------------------------------------------------------------------------------------------------------------------------------------------------------------------------------------------------------------------------------------------------------------------------------------------------------------------------+----------+--------------------------------------------------------------------------------------------------------------------------------------------------------------------------------------------------------------------------------------------------------------------------------------------------------------------------------------------------------------------+-----------------------------------------------------------------------------------------------------------------------------------------+------------+-------+-------+--------+----------------------------------------------------------------------------------------+---------------------------------------+------------+\n",
            "|NULL                 |0.0     |43000|fr               |Le Caporal épinglé                        |The story serves as a companion piece to Renoir's 1937 film, Grand Illusion, once more bringing together men from across the broad social spectrum of French society to depict one man's Sisyphean efforts to escape captivity in a German POW camp.                                                                                                                                                                                                                                          |2.503     |[{'id': 16059, 'logo_path': None, 'name': 'Les Films du Cyclope', 'origin_country': 'FR'}]                                                                                                                                                                                                                                                                          |[{'iso_3166_1': 'FR', 'name': 'France'}]                                                                                                 |1962-05-23  |0.0    |90     |Released|NULL                                                                                    |The Elusive Corporal                   |5.9         |\n",
            "|NULL                 |0.0     |43001|fr               |Cybèle ou les dimanches de ville d'Avray  |The tragic story of a young orphan girl who is befriended by an innocent but emotionally disabled veteran of the French Indochina War.                                                                                                                                                                                                                                                                                                                                                        |5.51      |[{'id': 7808, 'logo_path': None, 'name': 'Fidès', 'origin_country': ''}, {'id': 101713, 'logo_path': None, 'name': 'Les Films Trocadero', 'origin_country': ''}, {'id': 2325, 'logo_path': None, 'name': 'Orsay Films', 'origin_country': ''}]                                                                                                                      |[{'iso_3166_1': 'AT', 'name': 'Austria'}, {'iso_3166_1': 'FR', 'name': 'France'}]                                                        |1962-11-12  |0.0    |110    |Released|NULL                                                                                    |Sundays and Cybele                     |7.4         |\n",
            "|NULL                 |0.0     |43002|en               |Lonely Are the Brave                      |A fiercely independent cowboy arranges to have himself locked up in jail in order to then escape with an old friend who has been sentenced to the penitentiary.                                                                                                                                                                                                                                                                                                                               |5.62      |[{'id': 3810, 'logo_path': None, 'name': 'Joel Productions', 'origin_country': ''}]                                                                                                                                                                                                                                                                                 |[{'iso_3166_1': 'US', 'name': 'United States of America'}]                                                                               |1962-05-24  |0.0    |107    |Released|Life can never cage a man like this!                                                    |Lonely Are the Brave                   |7.5         |\n",
            "|NULL                 |0.0     |43003|fr               |Vérités et Mensonges                      |Documents the lives of infamous fakers Elmyr de Hory and Clifford Irving. De Hory, who later committed suicide to avoid more prison time, made his name by selling forged works of art by painters like Picasso and Matisse. Irving was infamous for writing a fake autobiography of Howard Hughes. Welles moves between documentary and fiction as he examines the fundamental elements of fraud and the people who commit fraud at the expense of others.                                   |7.159     |[{'id': 36547, 'logo_path': None, 'name': 'SACI', 'origin_country': 'IR'}, {'id': 533, 'logo_path': None, 'name': 'Janus Films', 'origin_country': ''}]                                                                                                                                                                                                             |[{'iso_3166_1': 'DE', 'name': 'Germany'}, {'iso_3166_1': 'FR', 'name': 'France'}, {'iso_3166_1': 'IR', 'name': 'Iran'}]                  |1975-03-12  |0.0    |89     |Released|NULL                                                                                    |F for Fake                             |7.5         |\n",
            "|NULL                 |500000.0|43004|en               |Long Day's Journey Into Night             |The film follows one day in the lives of the Tyrone family, each member is troubled and has been damaged by alcohol and/or drugs. In addition, they have issues with each other that lead to fights and an inability to reconcile completely with one another.                                                                                                                                                                                                                                |3.988     |[{'id': 77598, 'logo_path': None, 'name': 'First Company', 'origin_country': ''}]                                                                                                                                                                                                                                                                                   |[{'iso_3166_1': 'US', 'name': 'United States of America'}]                                                                               |1962-10-09  |0.0    |174    |Released|PRIDE...POWER...PASSION...PAIN!                                                         |Long Day's Journey Into Night          |6.8         |\n",
            "|NULL                 |0.0     |43006|en               |My Geisha                                 |\"A director's (Yves Montand) wife (Shirley MacLaine) poses as a geisha to win the lead in his Japanese production of \"\"Madame Butterfly.\"\"\"                                                                                                                                                                                                                                                                                                                                                   |3.194     |[{'id': 82939, 'logo_path': None, 'name': 'Sachiko', 'origin_country': ''}, {'id': 4, 'logo_path': '/fycMZt242LVjagMByZOLUGbCvv3.png', 'name': 'Paramount', 'origin_country': 'US'}]                                                                                                                                                                                |[{'iso_3166_1': 'US', 'name': 'United States of America'}]                                                                               |1962-03-09  |0.0    |119    |Released|NULL                                                                                    |My Geisha                              |6.1         |\n",
            "|NULL                 |0.0     |43007|en               |Period of Adjustment                      |George Haverstick, a Korean war veteran, hastily marries Isabel, whom he met in hospital while he was recovering from a nervous condition. To Isabel's horror, they drive to Florida on their honeymoon in an old hearse. They spend much of the time quarreling, and then, on Christmas eve, they visit George's war buddy, Ralph Baltz. However Ralph's wife Dorothea has just walked out on him, taking their child. Each couple then observes the marital difficulties of the other couple|2.689     |[{'id': 13359, 'logo_path': None, 'name': 'Marten Pictures', 'origin_country': ''}, {'id': 21, 'logo_path': '/mjofSXiHpG5t6KYmU4l4FrUhT7m.png', 'name': 'Metro-Goldwyn-Mayer', 'origin_country': 'US'}]                                                                                                                                                             |[{'iso_3166_1': 'US', 'name': 'United States of America'}]                                                                               |1962-10-31  |0.0    |112    |Released|The agonizing pause between the honeymoon and the marriage!                             |Period of Adjustment                   |6.4         |\n",
            "|NULL                 |0.0     |43008|en               |The Hanging Tree                          |Character study of a Doctor who saves a local criminal from a mob who are trying to hang him, but then tries to control the life of the young man, realising that he can exploit his secret.                                                                                                                                                                                                                                                                                                  |6.537     |[{'id': 14248, 'logo_path': None, 'name': 'Baroda', 'origin_country': ''}, {'id': 174, 'logo_path': '/IuAlhI9eVC9Z8UQWOIDdWRKSEJ.png', 'name': 'Warner Bros. Pictures', 'origin_country': 'US'}]                                                                                                                                                                    |[{'iso_3166_1': 'US', 'name': 'United States of America'}]                                                                               |1959-03-13  |0.0    |107    |Released|From The Prize Novel -- A Picture Of Thundering Power!                                  |The Hanging Tree                       |6.6         |\n",
            "|NULL                 |0.0     |43010|de               |Sherlock Holmes und das Halsband des Todes|Sherlock Holmes and Watson do battle with their nemesis, Professor Moriarity, over an ancient necklace attributed to Cleopatra.                                                                                                                                                                                                                                                                                                                                                               |4.297     |[{'id': 1787, 'logo_path': None, 'name': 'Central Cinema Company Film', 'origin_country': ''}, {'id': 12473, 'logo_path': None, 'name': 'Incei Film', 'origin_country': ''}, {'id': 20198, 'logo_path': None, 'name': 'Criterion Productions', 'origin_country': ''}, {'id': 132999, 'logo_path': None, 'name': 'Omnia Deutsche Film Export', 'origin_country': ''}]|[{'iso_3166_1': 'FR', 'name': 'France'}, {'iso_3166_1': 'IT', 'name': 'Italy'}, {'iso_3166_1': 'DE', 'name': 'Germany'}]                 |1962-01-01  |0.0    |87     |Released|NULL                                                                                    |Sherlock Holmes and the Deadly Necklace|5.5         |\n",
            "|NULL                 |0.0     |43011|en               |Sodom and Gomorrah                        |Sex, torture and betrayal in Biblical Sodom and Gomorrah. Lot, leader of the Hebrews, believes his people can co-exist with the Sodomites, a disastrous decision.                                                                                                                                                                                                                                                                                                                             |4.417     |[{'id': 8894, 'logo_path': None, 'name': 'Société Générale de Cinématographie (S.G.C.)', 'origin_country': ''}, {'id': 641, 'logo_path': None, 'name': 'Titanus', 'origin_country': 'IT'}, {'id': 220, 'logo_path': None, 'name': 'Pathé Consortium Cinéma', 'origin_country': 'FR'}]                                                                               |[{'iso_3166_1': 'FR', 'name': 'France'}, {'iso_3166_1': 'IT', 'name': 'Italy'}, {'iso_3166_1': 'US', 'name': 'United States of America'}]|1962-01-01  |0.0    |154    |Released|The cities that mocked the very name of God...The vengeance that tore the Earth asunder!|Sodom and Gomorrah                     |5.4         |\n",
            "+---------------------+--------+-----+-----------------+------------------------------------------+----------------------------------------------------------------------------------------------------------------------------------------------------------------------------------------------------------------------------------------------------------------------------------------------------------------------------------------------------------------------------------------------------------------------------------------------------------------------------------------------+----------+--------------------------------------------------------------------------------------------------------------------------------------------------------------------------------------------------------------------------------------------------------------------------------------------------------------------------------------------------------------------+-----------------------------------------------------------------------------------------------------------------------------------------+------------+-------+-------+--------+----------------------------------------------------------------------------------------+---------------------------------------+------------+\n",
            "only showing top 10 rows\n",
            "\n"
          ]
        }
      ]
    },
    {
      "cell_type": "code",
      "source": [
        "# Descriptive Statics\n",
        "df.describe().show()"
      ],
      "metadata": {
        "colab": {
          "base_uri": "https://localhost:8080/"
        },
        "id": "22LfXYwatsdz",
        "outputId": "57054925-b079-4fb6-f657-2ad0a4f11400"
      },
      "execution_count": 30,
      "outputs": [
        {
          "output_type": "stream",
          "name": "stdout",
          "text": [
            "+-------+---------------------+--------------------+------------------+-----------------+-----------------------------------+--------------------+-----------------+--------------------+--------------------+-------------------+------------------+--------+------------------+--------------------+------------------+\n",
            "|summary|belongs_to_collection|              budget|                id|original_language|                     original_title|            overview|       popularity|production_companies|production_countries|            revenue|           runtime|  status|           tagline|               title|      vote_average|\n",
            "+-------+---------------------+--------------------+------------------+-----------------+-----------------------------------+--------------------+-----------------+--------------------+--------------------+-------------------+------------------+--------+------------------+--------------------+------------------+\n",
            "|  count|                 5685|               43873|             43784|            43873|                              43873|               43249|            43783|               43783|               43715|              43783|             43694|   43694|             20031|               43694|             43694|\n",
            "|   mean|               1999.0|   3736901.834963166|44502.304312077475|             NULL|                           Infinity|  2503305.7191011235|5.295444259579189|                NULL|                NULL|  9697079.597382544|100.77543827527808|    NULL|         107919.25|            Infinity|5.9968714239939604|\n",
            "| stddev|                 NULL|1.5871814952777315E7|27189.646588626398|             NULL|                                NaN| 2.288561406647444E7|6.168030519208296|                NULL|                NULL|5.687938449628821E7|26.610571297084498|    NULL|214544.45116164157|                 NaN|1.2540414361739844|\n",
            "|    min|  \"\"Crime and Puni...|                 0.0|                 2|               []|               !Women Art Revolu...|                    |              0.6|\"[{'id': 10005, '...|\"A joyously excit...|                0.0|               100|Released|                  |!Women Art Revolu...|               0.5|\n",
            "|    max| |1.564|[]|[{'iso_...|               3.8E8|            100988|               zu|ＯＮＥ ＰＩＥＣＥ（ワンピース） ...|„White mouse“ Fri...|            180.0|[{'id': 9999, 'lo...|[{'iso_3166_1': '...|       2.78796518E9|                99|Released|          龍在少林|       시크릿 Secret|               9.8|\n",
            "+-------+---------------------+--------------------+------------------+-----------------+-----------------------------------+--------------------+-----------------+--------------------+--------------------+-------------------+------------------+--------+------------------+--------------------+------------------+\n",
            "\n"
          ]
        }
      ]
    },
    {
      "cell_type": "code",
      "source": [
        "#Since unknown values in budget are marked to be 0, let's filter out those values before calculating the median\n",
        "df_temp = df.filter((df['budget']!=0)&(df['budget'].isNotNull()) & (~isnan(df['budget'])))\n",
        "\n",
        "#Here the second parameter indicates the median value, which is 0.5; you can also try adjusting the value to calculate other percentiles\n",
        "median = df.approxQuantile('budget',[0.5],0.1)\n",
        "\n",
        "#Printing the Value\n",
        "print ('The median of budget is '+str(median))"
      ],
      "metadata": {
        "colab": {
          "base_uri": "https://localhost:8080/"
        },
        "id": "lyf3NAq-yKjo",
        "outputId": "306b2483-f553-4ce9-e891-cfcbc643c56d"
      },
      "execution_count": 36,
      "outputs": [
        {
          "output_type": "stream",
          "name": "stdout",
          "text": [
            "The median of budget is [0.0]\n"
          ]
        }
      ]
    },
    {
      "cell_type": "code",
      "source": [
        "#@title Unique/Distinct Values and Counts\n",
        "\n",
        "# Counts the distinct occurances of titles\n",
        "df.agg(countDistinct(col(\"title\")).alias(\"count\")).show()"
      ],
      "metadata": {
        "colab": {
          "base_uri": "https://localhost:8080/"
        },
        "id": "yPLpdUWiyuPM",
        "outputId": "911ad420-13a4-48d2-c4bd-59ca7fa13d51"
      },
      "execution_count": 37,
      "outputs": [
        {
          "output_type": "stream",
          "name": "stdout",
          "text": [
            "+-----+\n",
            "|count|\n",
            "+-----+\n",
            "|41138|\n",
            "+-----+\n",
            "\n"
          ]
        }
      ]
    },
    {
      "cell_type": "code",
      "source": [
        "# Counts the distinct occurrences of titles\n",
        "df.select('title').distinct().show(10,False)"
      ],
      "metadata": {
        "colab": {
          "base_uri": "https://localhost:8080/"
        },
        "id": "7zIrWI6ey3n0",
        "outputId": "2bff9401-4733-4b8d-9c48-f86deb3c28bd"
      },
      "execution_count": 38,
      "outputs": [
        {
          "output_type": "stream",
          "name": "stdout",
          "text": [
            "+---------------------------------------------+\n",
            "|title                                        |\n",
            "+---------------------------------------------+\n",
            "|The Corn Is Green                            |\n",
            "|Meet The Browns - The Play                   |\n",
            "|Morenita, El Escandalo                       |\n",
            "|Father Takes a Wife                          |\n",
            "|The Werewolf of Washington                   |\n",
            "|My Wife Is a Gangster                        |\n",
            "|Depeche Mode: Touring the Angel Live in Milan|\n",
            "|A Woman Is a Woman                           |\n",
            "|History Is Made at Night                     |\n",
            "|Colombian Love                               |\n",
            "+---------------------------------------------+\n",
            "only showing top 10 rows\n",
            "\n"
          ]
        }
      ]
    },
    {
      "cell_type": "code",
      "source": [
        "# Extracting year from the release date\n",
        "df_temp = df.withColumn('release_year',year('release_date'))\n",
        "\n",
        "# Extracting month\n",
        "df_temp=df_temp.withColumn('release_month',month('release_date'))\n",
        "\n",
        "# Extracting day of month\n",
        "df_temp=df_temp.withColumn('release_day',dayofmonth('release_date'))\n",
        "\n",
        "# Calculating the distinct counts by the year\n",
        "df_temp.groupBy(\"release_year\").agg(countDistinct(\"title\")).show(10,False)"
      ],
      "metadata": {
        "colab": {
          "base_uri": "https://localhost:8080/"
        },
        "id": "Nd9JzYB9zBfV",
        "outputId": "23932dda-ed2f-420f-82f0-1112fccfd286"
      },
      "execution_count": 39,
      "outputs": [
        {
          "output_type": "stream",
          "name": "stdout",
          "text": [
            "+------------+---------------------+\n",
            "|release_year|count(DISTINCT title)|\n",
            "+------------+---------------------+\n",
            "|1959        |271                  |\n",
            "|1990        |496                  |\n",
            "|1975        |365                  |\n",
            "|1977        |415                  |\n",
            "|1924        |19                   |\n",
            "|2003        |1199                 |\n",
            "|2007        |1896                 |\n",
            "|2018        |4                    |\n",
            "|1974        |434                  |\n",
            "|2015        |13                   |\n",
            "+------------+---------------------+\n",
            "only showing top 10 rows\n",
            "\n"
          ]
        }
      ]
    },
    {
      "cell_type": "code",
      "source": [
        "#@title Filtering\n",
        "\n",
        "df.filter(df['title'].like('Meet%')).show(10,False)"
      ],
      "metadata": {
        "colab": {
          "base_uri": "https://localhost:8080/"
        },
        "id": "Hu9EQ-FzzT_z",
        "outputId": "cc08c989-a5a9-41d5-f09c-237794cfe516"
      },
      "execution_count": 40,
      "outputs": [
        {
          "output_type": "stream",
          "name": "stdout",
          "text": [
            "+--------------------------------------------------------------------------------------+---------+-----+-----------------+--------------------------+------------------------------------------------------------------------------------------------------------------------------------------------------------------------------------------------------------------------------------------------------------------------------------------------------------------------------------------------------------------------------------------------------------------------------------------------------------------------------------------------------------------------------------------------------------------------------------------------------------------------------------------------------------------------------------------------------------------------------------------------------------------------------------------------------------------------------------+----------+--------------------------------------------------------------------------------------------------------------------------------------------------------------------------------------------------------------------------------------------------------------------------------------------------------------------------------------------------+----------------------------------------------------------+------------+-----------+-------+--------+-------------------------------------------------------------------------------------------------+--------------------------+------------+\n",
            "|belongs_to_collection                                                                 |budget   |id   |original_language|original_title            |overview                                                                                                                                                                                                                                                                                                                                                                                                                                                                                                                                                                                                                                                                                                                                                                                                                            |popularity|production_companies                                                                                                                                                                                                                                                                                                                              |production_countries                                      |release_date|revenue    |runtime|status  |tagline                                                                                          |title                     |vote_average|\n",
            "+--------------------------------------------------------------------------------------+---------+-----+-----------------+--------------------------+------------------------------------------------------------------------------------------------------------------------------------------------------------------------------------------------------------------------------------------------------------------------------------------------------------------------------------------------------------------------------------------------------------------------------------------------------------------------------------------------------------------------------------------------------------------------------------------------------------------------------------------------------------------------------------------------------------------------------------------------------------------------------------------------------------------------------------+----------+--------------------------------------------------------------------------------------------------------------------------------------------------------------------------------------------------------------------------------------------------------------------------------------------------------------------------------------------------+----------------------------------------------------------+------------+-----------+-------+--------+-------------------------------------------------------------------------------------------------+--------------------------+------------+\n",
            "|NULL                                                                                  |500000.0 |43957|en               |Meet The Browns - The Play|\"A funeral can be a time for laughter (and lessons) when the kooky Brown family gathers to bury Brown's 107-year-old father. It's a foot-stomping sound-stirring send-off and a great reminder--\"\"Ain't nothin' like family, ain't nothin' like love!\"\"\"                                                                                                                                                                                                                                                                                                                                                                                                                                                                                                                                                                            |2.649     |[{'id': 3096, 'logo_path': '/fkZTZ4veYYr3lwr2riVrVAOfeqD.png', 'name': 'Tyler Perry Studios', 'origin_country': 'US'}]                                                                                                                                                                                                                            |[{'iso_3166_1': 'US', 'name': 'United States of America'}]|2005-06-28  |1000000.0  |139    |Released|Good ol' Pop Brown lived to be 107 years old and he only left his family $400 to put him to rest.|Meet The Browns - The Play|4.3         |\n",
            "|NULL                                                                                  |0.0      |39997|en               |Meet the Hollowheads      |The Hollowheads are a strange, futuristic family that live in a Jetsons type world complete with many cool gadgets. Henry is hoping for a promotion at the slime factory in which he works and decides to bring his boss home for dinner and to meet the family. The horny, pervert, rude boss does not know what he is up against when he begins with his advances towards Mrs. Hollowhead and his abundance of rudeness.                                                                                                                                                                                                                                                                                                                                                                                                          |3.585     |[{'id': 74252, 'logo_path': None, 'name': 'Times Films', 'origin_country': ''}, {'id': 35839, 'logo_path': None, 'name': 'Moviestore Entertainment', 'origin_country': ''}, {'id': 74251, 'logo_path': None, 'name': 'Linden Productions', 'origin_country': ''}]                                                                                 |[{'iso_3166_1': 'US', 'name': 'United States of America'}]|1989-11-15  |0.0        |86     |Released|NULL                                                                                             |Meet the Hollowheads      |5.6         |\n",
            "|NULL                                                                                  |0.0      |16710|en               |Meet the Browns           |\"A single mother living in inner city Chicago, Brenda has been struggling for years to make ends meet and keep her three kids off the street.But when she's laid off with no warning, she starts losing hope for the first time - until a letter arrives announcing the death of a father she's never met.Desperate for any kind of help, Brenda takes her family to Georgia for the funeral. But nothing could have prepared her for the Browns, her father's fun-loving, crass Southern clan. In a small-town world full of long afternoons and country fairs, Brenda struggles to get to know the family she never knew existed...and finds a brand new romance that just might change her life.The story is adapted by Tyler Perry from his stage play \"\"Meet the Browns.\"\" Perry will portray Madea and Uncle Joe in the film.\"|11.495    |[{'id': 35, 'logo_path': '/wxrHa3nZ1K4zo65p56991INkGo6.png', 'name': 'Lions Gate Films', 'origin_country': 'US'}]                                                                                                                                                                                                                                 |[{'iso_3166_1': 'US', 'name': 'United States of America'}]|2008-03-21  |4.1939392E7|100    |Released|Check your baggage at the door.                                                                  |Meet the Browns           |6.4         |\n",
            "|NULL                                                                                  |0.0      |20430|en               |Meet Market               |Lonely aspirants on the LA dating scene hook up at thier local grocery store, where they can see and be seen by some of their dubiously eligible fellow singles, all the while hoping for that one magical relationship that will finally click.                                                                                                                                                                                                                                                                                                                                                                                                                                                                                                                                                                                    |3.614     |[{'id': 3777, 'logo_path': None, 'name': 'Madcap Entertainment', 'origin_country': ''}]                                                                                                                                                                                                                                                           |[{'iso_3166_1': 'US', 'name': 'United States of America'}]|2004-01-29  |0.0        |78     |Released|NULL                                                                                             |Meet Market               |3.8         |\n",
            "|{'id': 341357, 'name': 'Meet the In-Laws', 'poster_path': None, 'backdrop_path': None}|0.0      |76435|ko               |위험한 상견례             |When cartoonist Hyun-joon falls in love with Da-hong, one of his fans, it sets up the archetypal battle between their two families, who are from rival regions. Hyun-joon comes from the politically liberal Honam region (North and South Jeolla) while Da-hong comes from the conservative Yeongnam region (North and South Gyeongsang). When the two declare their intention to marry, they are confronted with a seemingly endless number of barriers that threaten their happiness.                                                                                                                                                                                                                                                                                                                                            |1.775     |[{'id': 20359, 'logo_path': None, 'name': 'The Pictures with a View', 'origin_country': 'KR'}, {'id': 7819, 'logo_path': '/ghFZAt4edln0M7BzDExyYMzUGX1.png', 'name': 'Lotte Entertainment', 'origin_country': 'KR'}]                                                                                                                              |[{'iso_3166_1': 'KR', 'name': 'South Korea'}]             |2011-03-31  |0.0        |118    |Released|NULL                                                                                             |Meet the In-Laws          |6.5         |\n",
            "|NULL                                                                                  |5000000.0|76516|en               |Meet the Applegates       |Giant preying mantis living in a south American jungle decide to move into suburban USA. Disguised as humans, the mantis are planning something.. Could it be connected to dad's job in the power station perhaps ?. One day the daughter mantis forgets WHAT she really is when she's with her boyfriend.. oops. Written by s jones                                                                                                                                                                                                                                                                                                                                                                                                                                                                                                |4.05      |[{'id': 10170, 'logo_path': None, 'name': 'Cinemarque Entertainment', 'origin_country': ''}, {'id': 1950, 'logo_path': None, 'name': 'New World Pictures', 'origin_country': ''}]                                                                                                                                                                 |[{'iso_3166_1': 'US', 'name': 'United States of America'}]|1990-11-08  |485772.0   |90     |Released|A new species of comedy                                                                          |Meet the Applegates       |5.6         |\n",
            "|NULL                                                                                  |3.0E7    |7278 |en               |Meet the Spartans         |From the creators of Scary Movie and Date Movie comes this tongue-in-cheek parody of the sword-and-sandal epics, dubbed Meet the Spartans. The 20th Century Fox production was written and directed by the filmmaking team of Jason Friedberg and Aaron Seltzer. Sure, Leonidas may have nothing more than a cape and some leather underwear to protect him from the razor-sharp swords of his Persian enemies,                                                                                                                                                                                                                                                                                                                                                                                                                     |11.116    |[{'id': 10104, 'logo_path': '/hNuGhsKVlmhnwSRcmOejDBDjh6w.png', 'name': 'New Regency Pictures', 'origin_country': 'US'}, {'id': 508, 'logo_path': '/7PzJdsLGlR7oW4J0J5Xcd0pHGRg.png', 'name': 'Regency Enterprises', 'origin_country': 'US'}, {'id': 19248, 'logo_path': None, 'name': '3 in the Box', 'origin_country': ''}]                     |[{'iso_3166_1': 'US', 'name': 'United States of America'}]|2008-01-24  |8.4646832E7|84     |Released|The Bigger the Hit, The Harder They Fall                                                         |Meet the Spartans         |3.8         |\n",
            "|NULL                                                                                  |0.0      |32574|en               |Meet John Doe             |\"As a parting shot, fired reporter Ann Mitchell prints a fake letter from unemployed \"\"John Doe,\"\" who threatens suicide in protest of social ills. The paper is forced to rehire Ann and hires John Willoughby to impersonate \"\"Doe.\"\" Ann and her bosses cynically milk the story for all it's worth, until the made-up \"\"John Doe\"\" philosophy starts a whole political movement.\"                                                                                                                                                                                                                                                                                                                                                                                                                                               |7.42      |[{'id': 9330, 'logo_path': None, 'name': 'Frank Capra Productions', 'origin_country': ''}, {'id': 174, 'logo_path': '/IuAlhI9eVC9Z8UQWOIDdWRKSEJ.png', 'name': 'Warner Bros. Pictures', 'origin_country': 'US'}]                                                                                                                                  |[{'iso_3166_1': 'US', 'name': 'United States of America'}]|1941-03-14  |0.0        |122    |Released|All America wants to meet the “Mr. Deeds” of 1941!                                               |Meet John Doe             |7.4         |\n",
            "|NULL                                                                                  |0.0      |40506|en               |Meet Wally Sparks         |Wally Sparks is a tabloid TV show reporter who's trying to boost ratings on his show. He goes to the governor's mansion to uncover a sex scandal.                                                                                                                                                                                                                                                                                                                                                                                                                                                                                                                                                                                                                                                                                   |4.814     |[{'id': 1644, 'logo_path': None, 'name': 'Largo Entertainment', 'origin_country': 'US'}, {'id': 30584, 'logo_path': None, 'name': 'Thinkfactory Media', 'origin_country': ''}, {'id': 182, 'logo_path': None, 'name': 'JVC', 'origin_country': 'JP'}, {'id': 133988, 'logo_path': None, 'name': 'Wally Sparks Productions', 'origin_country': ''}]|[{'iso_3166_1': 'US', 'name': 'United States of America'}]|1997-01-31  |0.0        |105    |Released|NULL                                                                                             |Meet Wally Sparks         |5.2         |\n",
            "|NULL                                                                                  |2.4E7    |40688|en               |Meet the Deedles          |Two surfers end up as Yellowstone park rangers and have to stop a former ranger who is out for revenge.                                                                                                                                                                                                                                                                                                                                                                                                                                                                                                                                                                                                                                                                                                                             |6.848     |[{'id': 2, 'logo_path': '/wdrCwmRnLFJhEoH8GSfymY85KHT.png', 'name': 'Walt Disney Pictures', 'origin_country': 'US'}, {'id': 62027, 'logo_path': None, 'name': 'Peak Productions', 'origin_country': ''}, {'id': 20477, 'logo_path': '/u0zjebYOFWdLcpR4hxE8o2zwHKQ.png', 'name': 'DiC Entertainment', 'origin_country': 'US'}]                     |[]                                                        |1998-03-27  |4562146.0  |93     |Released|Fish out of water...Surfers in Yellowstone                                                       |Meet the Deedles          |4.2         |\n",
            "+--------------------------------------------------------------------------------------+---------+-----+-----------------+--------------------------+------------------------------------------------------------------------------------------------------------------------------------------------------------------------------------------------------------------------------------------------------------------------------------------------------------------------------------------------------------------------------------------------------------------------------------------------------------------------------------------------------------------------------------------------------------------------------------------------------------------------------------------------------------------------------------------------------------------------------------------------------------------------------------------------------------------------------------+----------+--------------------------------------------------------------------------------------------------------------------------------------------------------------------------------------------------------------------------------------------------------------------------------------------------------------------------------------------------+----------------------------------------------------------+------------+-----------+-------+--------+-------------------------------------------------------------------------------------------------+--------------------------+------------+\n",
            "only showing top 10 rows\n",
            "\n"
          ]
        }
      ]
    },
    {
      "cell_type": "code",
      "source": [
        "# find the titles that do not end with an “s”\n",
        "df.filter(~df['title'].like('%s')).show(10,False)"
      ],
      "metadata": {
        "colab": {
          "base_uri": "https://localhost:8080/"
        },
        "id": "KsHoY2lizhKt",
        "outputId": "92b30f8a-5292-4675-8a2f-fa69bb90b4bb"
      },
      "execution_count": 41,
      "outputs": [
        {
          "output_type": "stream",
          "name": "stdout",
          "text": [
            "+---------------------+--------+-----+-----------------+------------------------------------------+----------------------------------------------------------------------------------------------------------------------------------------------------------------------------------------------------------------------------------------------------------------------------------------------------------------------------------------------------------------------------------------------------------------------------------------------------------------------------------------------+----------+--------------------------------------------------------------------------------------------------------------------------------------------------------------------------------------------------------------------------------------------------------------------------------------------------------------------------------------------------------------------+-----------------------------------------------------------------------------------------------------------------------------------------+------------+-------+-------+--------+----------------------------------------------------------------------------------------+---------------------------------------+------------+\n",
            "|belongs_to_collection|budget  |id   |original_language|original_title                            |overview                                                                                                                                                                                                                                                                                                                                                                                                                                                                                      |popularity|production_companies                                                                                                                                                                                                                                                                                                                                                |production_countries                                                                                                                     |release_date|revenue|runtime|status  |tagline                                                                                 |title                                  |vote_average|\n",
            "+---------------------+--------+-----+-----------------+------------------------------------------+----------------------------------------------------------------------------------------------------------------------------------------------------------------------------------------------------------------------------------------------------------------------------------------------------------------------------------------------------------------------------------------------------------------------------------------------------------------------------------------------+----------+--------------------------------------------------------------------------------------------------------------------------------------------------------------------------------------------------------------------------------------------------------------------------------------------------------------------------------------------------------------------+-----------------------------------------------------------------------------------------------------------------------------------------+------------+-------+-------+--------+----------------------------------------------------------------------------------------+---------------------------------------+------------+\n",
            "|NULL                 |0.0     |43000|fr               |Le Caporal épinglé                        |The story serves as a companion piece to Renoir's 1937 film, Grand Illusion, once more bringing together men from across the broad social spectrum of French society to depict one man's Sisyphean efforts to escape captivity in a German POW camp.                                                                                                                                                                                                                                          |2.503     |[{'id': 16059, 'logo_path': None, 'name': 'Les Films du Cyclope', 'origin_country': 'FR'}]                                                                                                                                                                                                                                                                          |[{'iso_3166_1': 'FR', 'name': 'France'}]                                                                                                 |1962-05-23  |0.0    |90     |Released|NULL                                                                                    |The Elusive Corporal                   |5.9         |\n",
            "|NULL                 |0.0     |43001|fr               |Cybèle ou les dimanches de ville d'Avray  |The tragic story of a young orphan girl who is befriended by an innocent but emotionally disabled veteran of the French Indochina War.                                                                                                                                                                                                                                                                                                                                                        |5.51      |[{'id': 7808, 'logo_path': None, 'name': 'Fidès', 'origin_country': ''}, {'id': 101713, 'logo_path': None, 'name': 'Les Films Trocadero', 'origin_country': ''}, {'id': 2325, 'logo_path': None, 'name': 'Orsay Films', 'origin_country': ''}]                                                                                                                      |[{'iso_3166_1': 'AT', 'name': 'Austria'}, {'iso_3166_1': 'FR', 'name': 'France'}]                                                        |1962-11-12  |0.0    |110    |Released|NULL                                                                                    |Sundays and Cybele                     |7.4         |\n",
            "|NULL                 |0.0     |43002|en               |Lonely Are the Brave                      |A fiercely independent cowboy arranges to have himself locked up in jail in order to then escape with an old friend who has been sentenced to the penitentiary.                                                                                                                                                                                                                                                                                                                               |5.62      |[{'id': 3810, 'logo_path': None, 'name': 'Joel Productions', 'origin_country': ''}]                                                                                                                                                                                                                                                                                 |[{'iso_3166_1': 'US', 'name': 'United States of America'}]                                                                               |1962-05-24  |0.0    |107    |Released|Life can never cage a man like this!                                                    |Lonely Are the Brave                   |7.5         |\n",
            "|NULL                 |0.0     |43003|fr               |Vérités et Mensonges                      |Documents the lives of infamous fakers Elmyr de Hory and Clifford Irving. De Hory, who later committed suicide to avoid more prison time, made his name by selling forged works of art by painters like Picasso and Matisse. Irving was infamous for writing a fake autobiography of Howard Hughes. Welles moves between documentary and fiction as he examines the fundamental elements of fraud and the people who commit fraud at the expense of others.                                   |7.159     |[{'id': 36547, 'logo_path': None, 'name': 'SACI', 'origin_country': 'IR'}, {'id': 533, 'logo_path': None, 'name': 'Janus Films', 'origin_country': ''}]                                                                                                                                                                                                             |[{'iso_3166_1': 'DE', 'name': 'Germany'}, {'iso_3166_1': 'FR', 'name': 'France'}, {'iso_3166_1': 'IR', 'name': 'Iran'}]                  |1975-03-12  |0.0    |89     |Released|NULL                                                                                    |F for Fake                             |7.5         |\n",
            "|NULL                 |500000.0|43004|en               |Long Day's Journey Into Night             |The film follows one day in the lives of the Tyrone family, each member is troubled and has been damaged by alcohol and/or drugs. In addition, they have issues with each other that lead to fights and an inability to reconcile completely with one another.                                                                                                                                                                                                                                |3.988     |[{'id': 77598, 'logo_path': None, 'name': 'First Company', 'origin_country': ''}]                                                                                                                                                                                                                                                                                   |[{'iso_3166_1': 'US', 'name': 'United States of America'}]                                                                               |1962-10-09  |0.0    |174    |Released|PRIDE...POWER...PASSION...PAIN!                                                         |Long Day's Journey Into Night          |6.8         |\n",
            "|NULL                 |0.0     |43006|en               |My Geisha                                 |\"A director's (Yves Montand) wife (Shirley MacLaine) poses as a geisha to win the lead in his Japanese production of \"\"Madame Butterfly.\"\"\"                                                                                                                                                                                                                                                                                                                                                   |3.194     |[{'id': 82939, 'logo_path': None, 'name': 'Sachiko', 'origin_country': ''}, {'id': 4, 'logo_path': '/fycMZt242LVjagMByZOLUGbCvv3.png', 'name': 'Paramount', 'origin_country': 'US'}]                                                                                                                                                                                |[{'iso_3166_1': 'US', 'name': 'United States of America'}]                                                                               |1962-03-09  |0.0    |119    |Released|NULL                                                                                    |My Geisha                              |6.1         |\n",
            "|NULL                 |0.0     |43007|en               |Period of Adjustment                      |George Haverstick, a Korean war veteran, hastily marries Isabel, whom he met in hospital while he was recovering from a nervous condition. To Isabel's horror, they drive to Florida on their honeymoon in an old hearse. They spend much of the time quarreling, and then, on Christmas eve, they visit George's war buddy, Ralph Baltz. However Ralph's wife Dorothea has just walked out on him, taking their child. Each couple then observes the marital difficulties of the other couple|2.689     |[{'id': 13359, 'logo_path': None, 'name': 'Marten Pictures', 'origin_country': ''}, {'id': 21, 'logo_path': '/mjofSXiHpG5t6KYmU4l4FrUhT7m.png', 'name': 'Metro-Goldwyn-Mayer', 'origin_country': 'US'}]                                                                                                                                                             |[{'iso_3166_1': 'US', 'name': 'United States of America'}]                                                                               |1962-10-31  |0.0    |112    |Released|The agonizing pause between the honeymoon and the marriage!                             |Period of Adjustment                   |6.4         |\n",
            "|NULL                 |0.0     |43008|en               |The Hanging Tree                          |Character study of a Doctor who saves a local criminal from a mob who are trying to hang him, but then tries to control the life of the young man, realising that he can exploit his secret.                                                                                                                                                                                                                                                                                                  |6.537     |[{'id': 14248, 'logo_path': None, 'name': 'Baroda', 'origin_country': ''}, {'id': 174, 'logo_path': '/IuAlhI9eVC9Z8UQWOIDdWRKSEJ.png', 'name': 'Warner Bros. Pictures', 'origin_country': 'US'}]                                                                                                                                                                    |[{'iso_3166_1': 'US', 'name': 'United States of America'}]                                                                               |1959-03-13  |0.0    |107    |Released|From The Prize Novel -- A Picture Of Thundering Power!                                  |The Hanging Tree                       |6.6         |\n",
            "|NULL                 |0.0     |43010|de               |Sherlock Holmes und das Halsband des Todes|Sherlock Holmes and Watson do battle with their nemesis, Professor Moriarity, over an ancient necklace attributed to Cleopatra.                                                                                                                                                                                                                                                                                                                                                               |4.297     |[{'id': 1787, 'logo_path': None, 'name': 'Central Cinema Company Film', 'origin_country': ''}, {'id': 12473, 'logo_path': None, 'name': 'Incei Film', 'origin_country': ''}, {'id': 20198, 'logo_path': None, 'name': 'Criterion Productions', 'origin_country': ''}, {'id': 132999, 'logo_path': None, 'name': 'Omnia Deutsche Film Export', 'origin_country': ''}]|[{'iso_3166_1': 'FR', 'name': 'France'}, {'iso_3166_1': 'IT', 'name': 'Italy'}, {'iso_3166_1': 'DE', 'name': 'Germany'}]                 |1962-01-01  |0.0    |87     |Released|NULL                                                                                    |Sherlock Holmes and the Deadly Necklace|5.5         |\n",
            "|NULL                 |0.0     |43011|en               |Sodom and Gomorrah                        |Sex, torture and betrayal in Biblical Sodom and Gomorrah. Lot, leader of the Hebrews, believes his people can co-exist with the Sodomites, a disastrous decision.                                                                                                                                                                                                                                                                                                                             |4.417     |[{'id': 8894, 'logo_path': None, 'name': 'Société Générale de Cinématographie (S.G.C.)', 'origin_country': ''}, {'id': 641, 'logo_path': None, 'name': 'Titanus', 'origin_country': 'IT'}, {'id': 220, 'logo_path': None, 'name': 'Pathé Consortium Cinéma', 'origin_country': 'FR'}]                                                                               |[{'iso_3166_1': 'FR', 'name': 'France'}, {'iso_3166_1': 'IT', 'name': 'Italy'}, {'iso_3166_1': 'US', 'name': 'United States of America'}]|1962-01-01  |0.0    |154    |Released|The cities that mocked the very name of God...The vengeance that tore the Earth asunder!|Sodom and Gomorrah                     |5.4         |\n",
            "+---------------------+--------+-----+-----------------+------------------------------------------+----------------------------------------------------------------------------------------------------------------------------------------------------------------------------------------------------------------------------------------------------------------------------------------------------------------------------------------------------------------------------------------------------------------------------------------------------------------------------------------------+----------+--------------------------------------------------------------------------------------------------------------------------------------------------------------------------------------------------------------------------------------------------------------------------------------------------------------------------------------------------------------------+-----------------------------------------------------------------------------------------------------------------------------------------+------------+-------+-------+--------+----------------------------------------------------------------------------------------+---------------------------------------+------------+\n",
            "only showing top 10 rows\n",
            "\n"
          ]
        }
      ]
    },
    {
      "cell_type": "code",
      "source": [
        "# find any title that contains “ove”\n",
        "df.filter(df['title'].rlike('\\w*ove')).show(10,False)"
      ],
      "metadata": {
        "colab": {
          "base_uri": "https://localhost:8080/"
        },
        "id": "WRzB9BMfzyKh",
        "outputId": "8db1e4f9-7ec0-4390-9e0a-770b2bb0131a"
      },
      "execution_count": 44,
      "outputs": [
        {
          "output_type": "stream",
          "name": "stdout",
          "text": [
            "+---------------------+------+-----+-----------------+------------------------+---------------------------------------------------------------------------------------------------------------------------------------------------------------------------------------------------------------------------------------------------------------------------------------------------------------------------------------------------------------------------------------------------------------------------------------------------------------------------------------------+----------+----------------------------------------------------------------------------------------------------------------------------------------------------------------------------------------------------------------------------------------------------------------------------------------------------------------------------------------------------------------------------------------------------------------------------------------------------------------------------------------------------------------------------------------------------------------------------------------------------------------------------------------------------------------------+----------------------------------------------------------------------------------+------------+------------+-------+--------+-----------------------------------------------------------------------------------------------+------------------------+------------+\n",
            "|belongs_to_collection|budget|id   |original_language|original_title          |overview                                                                                                                                                                                                                                                                                                                                                                                                                                                                                     |popularity|production_companies                                                                                                                                                                                                                                                                                                                                                                                                                                                                                                                                                                                                                                                  |production_countries                                                              |release_date|revenue     |runtime|status  |tagline                                                                                        |title                   |vote_average|\n",
            "+---------------------+------+-----+-----------------+------------------------+---------------------------------------------------------------------------------------------------------------------------------------------------------------------------------------------------------------------------------------------------------------------------------------------------------------------------------------------------------------------------------------------------------------------------------------------------------------------------------------------+----------+----------------------------------------------------------------------------------------------------------------------------------------------------------------------------------------------------------------------------------------------------------------------------------------------------------------------------------------------------------------------------------------------------------------------------------------------------------------------------------------------------------------------------------------------------------------------------------------------------------------------------------------------------------------------+----------------------------------------------------------------------------------+------------+------------+-------+--------+-----------------------------------------------------------------------------------------------+------------------------+------------+\n",
            "|NULL                 |0.0   |43100|it               |Il generale Della Rovere|The Gestapo forces con man Victorio Bardone (Vittorio De Sica) to impersonate a dead partisan general in order to extract information from his fellow inmates.                                                                                                                                                                                                                                                                                                                               |7.252     |[{'id': 22396, 'logo_path': None, 'name': 'Société Nouvelle des Établissements Gaumont (SNEG)', 'origin_country': ''}, {'id': 1664, 'logo_path': None, 'name': 'Zebra Film', 'origin_country': 'RU'}]                                                                                                                                                                                                                                                                                                                                                                                                                                                                 |[{'iso_3166_1': 'FR', 'name': 'France'}, {'iso_3166_1': 'IT', 'name': 'Italy'}]   |1959-10-07  |0.0         |132    |Released|NULL                                                                                           |General Della Rovere    |7.6         |\n",
            "|NULL                 |0.0   |43152|cn               |瘦身男女                |Mimi Mo, a young exchange student to Japan who met and fell in love with a budding pianist, Kurokawa. Kurokawa eventually leaves to study music in the USA and returns to Japan as a famous musician. Meanwhile, Mimi has dealt with her depression by eating and weights over 300lbs and Kurokawa doesn't recognize her. Mimi eventually meets Fatty who helps her lose the weight so she can fulfill her promise of meeting Kurokawa made 10 years earlier. But then they fall in love.....|5.126     |[{'id': 5632, 'logo_path': '/hJlG4OouIf7KXuP2M7Y1bGGZPni.png', 'name': 'Milkyway Image Company', 'origin_country': ''}]                                                                                                                                                                                                                                                                                                                                                                                                                                                                                                                                               |[{'iso_3166_1': 'HK', 'name': 'Hong Kong'}, {'iso_3166_1': 'JP', 'name': 'Japan'}]|2001-06-21  |0.0         |94     |Released|NULL                                                                                           |Love on a Diet          |5.7         |\n",
            "|NULL                 |0.0   |43191|en               |Beware, My Lovely       |A psychopath on the run takes a job as a handyman at the house of a lonely widow.                                                                                                                                                                                                                                                                                                                                                                                                            |4.921     |[{'id': 6, 'logo_path': '/n53F7K9scQWFXYbrCablqLKqJdp.png', 'name': 'RKO Radio Pictures', 'origin_country': 'US'}]                                                                                                                                                                                                                                                                                                                                                                                                                                                                                                                                                    |[{'iso_3166_1': 'US', 'name': 'United States of America'}]                        |1952-08-29  |0.0         |77     |Released|Trapped by a man beyond control!                                                               |Beware, My Lovely       |5.7         |\n",
            "|NULL                 |0.0   |43281|fr               |Un Monde sans pitié     |25 year-old Hippo doesn't have a job, doesn't study either but lives from the money his younger brother earns with dealing and from occasional Poker winnings.                                                                                                                                                                                                                                                                                                                               |2.411     |\"[{'id': 5869, 'logo_path': None, 'name': 'Les Productions Lazennec', 'origin_country': 'FR'}, {'id': 310, 'logo_path': '/4Gp5A4YdjPBfsHT47ngHMaXWmb9.png', 'name': \"\"Centre national du cinéma et de l'image animée\"\", 'origin_country': 'FR'}, {'id': 34852, 'logo_path': None, 'name': 'Christian Bourgois Productions', 'origin_country': ''}]\"                                                                                                                                                                                                                                                                                                                   |[{'iso_3166_1': 'FR', 'name': 'France'}]                                          |1989-11-22  |0.0         |84     |Released|NULL                                                                                           |Love Without Pity       |7.8         |\n",
            "|NULL                 |0.0   |43343|en               |Easy to Love            |Two men vie for the heart of a Cypress Gardens swimming star.                                                                                                                                                                                                                                                                                                                                                                                                                                |3.174     |[{'id': 21, 'logo_path': '/mjofSXiHpG5t6KYmU4l4FrUhT7m.png', 'name': 'Metro-Goldwyn-Mayer', 'origin_country': 'US'}]                                                                                                                                                                                                                                                                                                                                                                                                                                                                                                                                                  |[{'iso_3166_1': 'US', 'name': 'United States of America'}]                        |1953-12-25  |0.0         |96     |Released|MGM's spectacular Technicolor musical excitingly filmed in Florida's beautiful Cypress Gardens!|Easy to Love            |6.8         |\n",
            "|NULL                 |3.0E7 |43347|en               |Love & Other Drugs      |Maggie, an alluring free spirit who won't let anyone - or anything - tie her down. But she meets her match in Jamie, whose relentless and nearly infallible charm serve him well with the ladies and in the cutthroat world of pharmaceutical sales. Maggie and Jamie's evolving relationship takes them both by surprise, as they find themselves under the influence of the ultimate drug: love.                                                                                           |14.863    |[{'id': 711, 'logo_path': '/tEiIH5QesdheJmDAqQwvtN60727.png', 'name': 'Fox 2000 Pictures', 'origin_country': 'US'}, {'id': 508, 'logo_path': '/7PzJdsLGlR7oW4J0J5Xcd0pHGRg.png', 'name': 'Regency Enterprises', 'origin_country': 'US'}, {'id': 10104, 'logo_path': '/hNuGhsKVlmhnwSRcmOejDBDjh6w.png', 'name': 'New Regency Pictures', 'origin_country': 'US'}, {'id': 4403, 'logo_path': None, 'name': 'Stuber Productions', 'origin_country': ''}, {'id': 348, 'logo_path': None, 'name': 'Bedford Falls Productions', 'origin_country': 'US'}, {'id': 444, 'logo_path': '/42UPdZl6B2cFXgNUASR8hSt9mpS.png', 'name': 'Dune Entertainment', 'origin_country': 'US'}]|[{'iso_3166_1': 'US', 'name': 'United States of America'}]                        |2010-11-22  |1.02820008E8|112    |Released|Addicted to one-night stands or dependent on one another?                                      |Love & Other Drugs      |6.9         |\n",
            "|NULL                 |0.0   |43362|en               |Love Is Better Than Ever|The dancing teacher Anastasia falls in love with the smart theatre agent Jud. He likes her, too, but does not want to give up his solo life at all. Thus she plans a trap for him...                                                                                                                                                                                                                                                                                                         |1.705     |[{'id': 21, 'logo_path': '/mjofSXiHpG5t6KYmU4l4FrUhT7m.png', 'name': 'Metro-Goldwyn-Mayer', 'origin_country': 'US'}]                                                                                                                                                                                                                                                                                                                                                                                                                                                                                                                                                  |[{'iso_3166_1': 'US', 'name': 'United States of America'}]                        |1952-02-23  |0.0         |81     |Released|It's Liz in a Whiz of a Racy Romance!                                                          |Love Is Better Than Ever|3.0         |\n",
            "|NULL                 |0.0   |43363|en               |Lovely to Look At       |Three broke Broadway producers are desperately looking for backers for a new show. When they are about to give up, one of them discovers that they are an heir to a Parisian dress salon. Off to Paris they go!                                                                                                                                                                                                                                                                              |2.02      |[{'id': 21, 'logo_path': '/mjofSXiHpG5t6KYmU4l4FrUhT7m.png', 'name': 'Metro-Goldwyn-Mayer', 'origin_country': 'US'}]                                                                                                                                                                                                                                                                                                                                                                                                                                                                                                                                                  |[{'iso_3166_1': 'US', 'name': 'United States of America'}]                        |1952-05-29  |0.0         |103    |Released|M-G-M's TECHNICOLOR SPECTACLE! JEROME KERN'S MUSIC!                                            |Lovely to Look At       |3.0         |\n",
            "|NULL                 |0.0   |43395|en               |Two Weeks with Love     |The Robinson family are spending two weeks of summer vacation at a resort in the Catskills. Older daughter Patti vies with her friend, Valeria, for the affections of Demi Armendez but Patti is at a disadvantage because her parents think she is too young for boys. But with Patti singing at an amateur show and a dance, her adventures in quest of Armendez ends happily.                                                                                                             |4.758     |[{'id': 21, 'logo_path': '/mjofSXiHpG5t6KYmU4l4FrUhT7m.png', 'name': 'Metro-Goldwyn-Mayer', 'origin_country': 'US'}]                                                                                                                                                                                                                                                                                                                                                                                                                                                                                                                                                  |[{'iso_3166_1': 'US', 'name': 'United States of America'}]                        |1950-11-10  |0.0         |92     |Released|The Gayest LOVE STORY EVER FILMED!                                                             |Two Weeks with Love     |5.7         |\n",
            "|NULL                 |0.0   |43455|en               |The Loves of Carmen     |Gypsy Carmen drives men wild in 1820s Spain, especially the dragoon Don Jose.                                                                                                                                                                                                                                                                                                                                                                                                                |4.669     |[{'id': 5, 'logo_path': '/71BqEFAF4V3qjjMPCpLuyJFB9A.png', 'name': 'Columbia Pictures', 'origin_country': 'US'}]                                                                                                                                                                                                                                                                                                                                                                                                                                                                                                                                                      |[{'iso_3166_1': 'US', 'name': 'United States of America'}]                        |1948-08-23  |0.0         |99     |Released|NULL                                                                                           |The Loves of Carmen     |7.3         |\n",
            "+---------------------+------+-----+-----------------+------------------------+---------------------------------------------------------------------------------------------------------------------------------------------------------------------------------------------------------------------------------------------------------------------------------------------------------------------------------------------------------------------------------------------------------------------------------------------------------------------------------------------+----------+----------------------------------------------------------------------------------------------------------------------------------------------------------------------------------------------------------------------------------------------------------------------------------------------------------------------------------------------------------------------------------------------------------------------------------------------------------------------------------------------------------------------------------------------------------------------------------------------------------------------------------------------------------------------+----------------------------------------------------------------------------------+------------+------------+-------+--------+-----------------------------------------------------------------------------------------------+------------------------+------------+\n",
            "only showing top 10 rows\n",
            "\n"
          ]
        }
      ]
    }
  ]
}