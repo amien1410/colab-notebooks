{
  "nbformat": 4,
  "nbformat_minor": 0,
  "metadata": {
    "colab": {
      "provenance": [],
      "authorship_tag": "ABX9TyO36EHcnkfK2q9sd101HHlw",
      "include_colab_link": true
    },
    "kernelspec": {
      "name": "python3",
      "display_name": "Python 3"
    },
    "language_info": {
      "name": "python"
    }
  },
  "cells": [
    {
      "cell_type": "markdown",
      "metadata": {
        "id": "view-in-github",
        "colab_type": "text"
      },
      "source": [
        "<a href=\"https://colab.research.google.com/github/amien1410/colab-notebooks/blob/main/Colab_Pyspark_Basics.ipynb\" target=\"_parent\"><img src=\"https://colab.research.google.com/assets/colab-badge.svg\" alt=\"Open In Colab\"/></a>"
      ]
    },
    {
      "cell_type": "code",
      "execution_count": 1,
      "metadata": {
        "colab": {
          "base_uri": "https://localhost:8080/"
        },
        "id": "wwvHZyCdYK11",
        "outputId": "8d36f208-053b-4e3f-93fb-c9b5ba26032e"
      },
      "outputs": [
        {
          "output_type": "stream",
          "name": "stdout",
          "text": [
            "Requirement already satisfied: pyspark in /usr/local/lib/python3.11/dist-packages (3.5.1)\n",
            "Requirement already satisfied: py4j==0.10.9.7 in /usr/local/lib/python3.11/dist-packages (from pyspark) (0.10.9.7)\n",
            "--2025-06-10 05:59:32--  https://raw.githubusercontent.com/Shahadat9886/Mall_Customers.csv/refs/heads/main/Thu%20H%C3%A0%20Tr%E1%BA%A7n%20-%20Mall_Customers.csv\n",
            "Resolving raw.githubusercontent.com (raw.githubusercontent.com)... 185.199.111.133, 185.199.108.133, 185.199.110.133, ...\n",
            "Connecting to raw.githubusercontent.com (raw.githubusercontent.com)|185.199.111.133|:443... connected.\n",
            "HTTP request sent, awaiting response... 200 OK\n",
            "Length: 4286 (4.2K) [text/plain]\n",
            "Saving to: ‘Mall_Customers.csv’\n",
            "\n",
            "Mall_Customers.csv  100%[===================>]   4.19K  --.-KB/s    in 0s      \n",
            "\n",
            "2025-06-10 05:59:33 (49.8 MB/s) - ‘Mall_Customers.csv’ saved [4286/4286]\n",
            "\n"
          ]
        },
        {
          "output_type": "execute_result",
          "data": {
            "text/plain": [
              "DataFrame[CustomerID: int, Genre: string, Age: int, Annual Income (k$): int, Spending Score (1-100): int]"
            ]
          },
          "metadata": {},
          "execution_count": 1
        }
      ],
      "source": [
        "# install pyspark\n",
        "!pip install pyspark\n",
        "\n",
        "# initiate pyspark\n",
        "from pyspark.sql import SparkSession\n",
        "spark = SparkSession.builder\\\n",
        "        .master(\"local\")\\\n",
        "        .appName(\"Colab\")\\\n",
        "        .config('spark.ui.port', '4050')\\\n",
        "        .getOrCreate()\n",
        "\n",
        "# download sample\n",
        "!wget -O Mall_Customers.csv \"https://raw.githubusercontent.com/Shahadat9886/Mall_Customers.csv/refs/heads/main/Thu%20H%C3%A0%20Tr%E1%BA%A7n%20-%20Mall_Customers.csv\"\n",
        "\n",
        "# load csv\n",
        "df = spark.read.csv(\"/content/Mall_Customers.csv\", header=True, inferSchema=True)\n",
        "df"
      ]
    },
    {
      "cell_type": "code",
      "source": [
        "# use spark.sql\n",
        "df2 = spark.sql(\"select 'spark' as hello \")\n",
        "df2.show()"
      ],
      "metadata": {
        "colab": {
          "base_uri": "https://localhost:8080/"
        },
        "id": "yLKIdevAfh8C",
        "outputId": "1ecd7fb5-18de-4c6d-9ec3-30e23ccb8bce"
      },
      "execution_count": 2,
      "outputs": [
        {
          "output_type": "stream",
          "name": "stdout",
          "text": [
            "+-----+\n",
            "|hello|\n",
            "+-----+\n",
            "|spark|\n",
            "+-----+\n",
            "\n"
          ]
        }
      ]
    },
    {
      "cell_type": "code",
      "source": [
        "# !wget -O movies.csv \"https://raw.githubusercontent.com/Apress/applied-data-science-using-pyspark/refs/heads/main/Ch02/Chapter2_Data/movie_data_part1.csv\"\n",
        "df = spark.read.csv(\"movies.csv\", header=True, sep='|', inferSchema=False)\n",
        "df.show(10)"
      ],
      "metadata": {
        "colab": {
          "base_uri": "https://localhost:8080/"
        },
        "id": "uIN187Jpg_NS",
        "outputId": "9276e35e-8d80-4336-e9df-dded3ef49407"
      },
      "execution_count": 11,
      "outputs": [
        {
          "output_type": "stream",
          "name": "stdout",
          "text": [
            "+---------------------+------+-----+-----------------+--------------------+--------------------+----------+--------------------+--------------------+------------+-------+-------+--------+--------------------+--------------------+------------+\n",
            "|belongs_to_collection|budget|   id|original_language|      original_title|            overview|popularity|production_companies|production_countries|release_date|revenue|runtime|  status|             tagline|               title|vote_average|\n",
            "+---------------------+------+-----+-----------------+--------------------+--------------------+----------+--------------------+--------------------+------------+-------+-------+--------+--------------------+--------------------+------------+\n",
            "|                 NULL|     0|43000|               fr|  Le Caporal épinglé|The story serves ...|     2.503|[{'id': 16059, 'l...|[{'iso_3166_1': '...|  1962-05-23|      0|     90|Released|                NULL|The Elusive Corporal|         5.9|\n",
            "|                 NULL|     0|43001|               fr|Cybèle ou les dim...|The tragic story ...|      5.51|[{'id': 7808, 'lo...|[{'iso_3166_1': '...|  1962-11-12|      0|    110|Released|                NULL|  Sundays and Cybele|         7.4|\n",
            "|                 NULL|     0|43002|               en|Lonely Are the Brave|A fiercely indepe...|      5.62|[{'id': 3810, 'lo...|[{'iso_3166_1': '...|  1962-05-24|      0|    107|Released|Life can never ca...|Lonely Are the Brave|         7.5|\n",
            "|                 NULL|     0|43003|               fr|Vérités et Mensonges|Documents the liv...|     7.159|[{'id': 36547, 'l...|[{'iso_3166_1': '...|  1975-03-12|      0|     89|Released|                NULL|          F for Fake|         7.5|\n",
            "|                 NULL|500000|43004|               en|Long Day's Journe...|The film follows ...|     3.988|[{'id': 77598, 'l...|[{'iso_3166_1': '...|  1962-10-09|      0|    174|Released|PRIDE...POWER...P...|Long Day's Journe...|         6.8|\n",
            "|                 NULL|     0|43006|               en|           My Geisha|\"A director's (Yv...|     3.194|[{'id': 82939, 'l...|[{'iso_3166_1': '...|  1962-03-09|      0|    119|Released|                NULL|           My Geisha|         6.1|\n",
            "|                 NULL|     0|43007|               en|Period of Adjustment|George Haverstick...|     2.689|[{'id': 13359, 'l...|[{'iso_3166_1': '...|  1962-10-31|      0|    112|Released|The agonizing pau...|Period of Adjustment|         6.4|\n",
            "|                 NULL|     0|43008|               en|    The Hanging Tree|Character study o...|     6.537|[{'id': 14248, 'l...|[{'iso_3166_1': '...|  1959-03-13|      0|    107|Released|From The Prize No...|    The Hanging Tree|         6.6|\n",
            "|                 NULL|     0|43010|               de|Sherlock Holmes u...|Sherlock Holmes a...|     4.297|[{'id': 1787, 'lo...|[{'iso_3166_1': '...|  1962-01-01|      0|     87|Released|                NULL|Sherlock Holmes a...|         5.5|\n",
            "|                 NULL|     0|43011|               en|  Sodom and Gomorrah|Sex, torture and ...|     4.417|[{'id': 8894, 'lo...|[{'iso_3166_1': '...|  1962-01-01|      0|    154|Released|The cities that m...|  Sodom and Gomorrah|         5.4|\n",
            "+---------------------+------+-----+-----------------+--------------------+--------------------+----------+--------------------+--------------------+------------+-------+-------+--------+--------------------+--------------------+------------+\n",
            "only showing top 10 rows\n",
            "\n"
          ]
        }
      ]
    },
    {
      "cell_type": "code",
      "source": [
        "# Importing the SparkContext module from PySpark\n",
        "from pyspark import SparkContext\n",
        "\n",
        "# Creating a SparkContext object\n",
        "sc = SparkContext.getOrCreate()\n",
        "\n",
        "# Importing the random module\n",
        "import random\n",
        "NUM_SAMPLES = 100000000 # Define the samples\n",
        "\n",
        "# Function to check if a point lies inside\n",
        "def inside(p):\n",
        "  x, y = random.random(), random.random()\n",
        "  return x*x + y*y < 1\n",
        "\n",
        "# parallelize the computation\n",
        "count = sc.parallelize(range(0, NUM_SAMPLES)).filter(inside).count()\n",
        "\n",
        "# calculate the estimate value of pi\n",
        "pi = 4 * count / NUM_SAMPLES\n",
        "print(\"Pi is roughly\", pi)"
      ],
      "metadata": {
        "colab": {
          "base_uri": "https://localhost:8080/"
        },
        "id": "TpGA3Ki-hdgD",
        "outputId": "9ba4031c-a19f-4cd6-b3ec-73826d52a69e"
      },
      "execution_count": 5,
      "outputs": [
        {
          "output_type": "stream",
          "name": "stdout",
          "text": [
            "Pi is roughly 3.14192564\n"
          ]
        }
      ]
    },
    {
      "cell_type": "code",
      "source": [
        "df.printSchema()"
      ],
      "metadata": {
        "colab": {
          "base_uri": "https://localhost:8080/"
        },
        "id": "5npWK52sjOJj",
        "outputId": "f8cd8058-67d1-496b-e42f-6f473336dfa4"
      },
      "execution_count": 12,
      "outputs": [
        {
          "output_type": "stream",
          "name": "stdout",
          "text": [
            "root\n",
            " |-- belongs_to_collection: string (nullable = true)\n",
            " |-- budget: string (nullable = true)\n",
            " |-- id: string (nullable = true)\n",
            " |-- original_language: string (nullable = true)\n",
            " |-- original_title: string (nullable = true)\n",
            " |-- overview: string (nullable = true)\n",
            " |-- popularity: string (nullable = true)\n",
            " |-- production_companies: string (nullable = true)\n",
            " |-- production_countries: string (nullable = true)\n",
            " |-- release_date: string (nullable = true)\n",
            " |-- revenue: string (nullable = true)\n",
            " |-- runtime: string (nullable = true)\n",
            " |-- status: string (nullable = true)\n",
            " |-- tagline: string (nullable = true)\n",
            " |-- title: string (nullable = true)\n",
            " |-- vote_average: string (nullable = true)\n",
            "\n"
          ]
        }
      ]
    },
    {
      "cell_type": "code",
      "source": [
        "df.dtypes"
      ],
      "metadata": {
        "colab": {
          "base_uri": "https://localhost:8080/"
        },
        "id": "45QYzoYZjSVh",
        "outputId": "7ee3df04-77eb-40b1-fac5-aff2f9a06fea"
      },
      "execution_count": 13,
      "outputs": [
        {
          "output_type": "execute_result",
          "data": {
            "text/plain": [
              "[('belongs_to_collection', 'string'),\n",
              " ('budget', 'string'),\n",
              " ('id', 'string'),\n",
              " ('original_language', 'string'),\n",
              " ('original_title', 'string'),\n",
              " ('overview', 'string'),\n",
              " ('popularity', 'string'),\n",
              " ('production_companies', 'string'),\n",
              " ('production_countries', 'string'),\n",
              " ('release_date', 'string'),\n",
              " ('revenue', 'string'),\n",
              " ('runtime', 'string'),\n",
              " ('status', 'string'),\n",
              " ('tagline', 'string'),\n",
              " ('title', 'string'),\n",
              " ('vote_average', 'string')]"
            ]
          },
          "metadata": {},
          "execution_count": 13
        }
      ]
    },
    {
      "cell_type": "code",
      "source": [
        "print('The total number of records in the movie dataset is '+str(df.count()))"
      ],
      "metadata": {
        "colab": {
          "base_uri": "https://localhost:8080/"
        },
        "id": "HRvV8CxejYKZ",
        "outputId": "530fb006-fcaa-4d9b-d74c-ce6496d925ab"
      },
      "execution_count": 14,
      "outputs": [
        {
          "output_type": "stream",
          "name": "stdout",
          "text": [
            "The total number of records in the movie dataset is 43998\n"
          ]
        }
      ]
    },
    {
      "cell_type": "code",
      "source": [
        "#@title Subset Columns\n",
        "\n",
        "# Defining a list to subset the required columns\n",
        "select_columns=['id', 'budget', 'popularity', 'release_date', 'revenue','title']\n",
        "\n",
        "# Subsetting the required columns from the DataFrame\n",
        "df=df.select(*select_columns)\n",
        "\n",
        "# The following command displays the data; by default it shows top 20 rows\n",
        "df.show()"
      ],
      "metadata": {
        "colab": {
          "base_uri": "https://localhost:8080/"
        },
        "id": "gJlYNiN0kdx6",
        "outputId": "326ad731-1ab9-46c2-a44a-bb0e760c5f45"
      },
      "execution_count": 15,
      "outputs": [
        {
          "output_type": "stream",
          "name": "stdout",
          "text": [
            "+-----+-------+------------------+------------+-------+--------------------+\n",
            "|   id| budget|        popularity|release_date|revenue|               title|\n",
            "+-----+-------+------------------+------------+-------+--------------------+\n",
            "|43000|      0|             2.503|  1962-05-23|      0|The Elusive Corporal|\n",
            "|43001|      0|              5.51|  1962-11-12|      0|  Sundays and Cybele|\n",
            "|43002|      0|              5.62|  1962-05-24|      0|Lonely Are the Brave|\n",
            "|43003|      0|             7.159|  1975-03-12|      0|          F for Fake|\n",
            "|43004| 500000|             3.988|  1962-10-09|      0|Long Day's Journe...|\n",
            "|43006|      0|             3.194|  1962-03-09|      0|           My Geisha|\n",
            "|43007|      0|             2.689|  1962-10-31|      0|Period of Adjustment|\n",
            "|43008|      0|             6.537|  1959-03-13|      0|    The Hanging Tree|\n",
            "|43010|      0|             4.297|  1962-01-01|      0|Sherlock Holmes a...|\n",
            "|43011|      0|             4.417|  1962-01-01|      0|  Sodom and Gomorrah|\n",
            "|43012|7000000|4.7219999999999995|  1962-11-21|4000000|         Taras Bulba|\n",
            "|43013|      0|             2.543|  1962-04-17|      0|The Counterfeit T...|\n",
            "|43014|      0|             4.303|  1962-10-24|      0|     Tower of London|\n",
            "|43015|      0|             3.493|  1962-12-07|      0|Varan the Unbelie...|\n",
            "|43016|      0|             2.851|  1962-01-01|      0|Waltz of the Tore...|\n",
            "|43017|      0|             4.047|  1961-10-11|      0|         Back Street|\n",
            "|43018|      0|             2.661|  1961-06-02|      0|Gidget Goes Hawaiian|\n",
            "|43019|      0|             3.225|  2010-05-28|      0|Schuks Tshabalala...|\n",
            "|43020|      0|              5.72|  1961-06-15|      0|The Colossus of R...|\n",
            "|43021|      0|             3.292|  2008-08-22|      0|          Sex Galaxy|\n",
            "+-----+-------+------------------+------------+-------+--------------------+\n",
            "only showing top 20 rows\n",
            "\n"
          ]
        }
      ]
    },
    {
      "cell_type": "code",
      "source": [
        "#@title Missing Values\n",
        "\n",
        "from pyspark.sql.functions import *\n",
        "\n",
        "df = spark.read.csv(\"movies.csv\", header=True, sep='|', inferSchema=False)\n",
        "df.filter((df['popularity']=='')|df['popularity'].isNull()|isnan(df['popularity'])).count()"
      ],
      "metadata": {
        "colab": {
          "base_uri": "https://localhost:8080/"
        },
        "id": "BYmW6MGRly-y",
        "outputId": "4488b5c2-23b2-4f3e-c99b-dfb4a5b6d4c8"
      },
      "execution_count": 16,
      "outputs": [
        {
          "output_type": "execute_result",
          "data": {
            "text/plain": [
              "215"
            ]
          },
          "metadata": {},
          "execution_count": 16
        }
      ]
    },
    {
      "cell_type": "code",
      "source": [
        "df.select([count(when((col(c)=='') | col(c).isNull() |isnan(c), c)).alias(c)\n",
        "for c in df.columns]).show()"
      ],
      "metadata": {
        "colab": {
          "base_uri": "https://localhost:8080/"
        },
        "id": "BBuOXlEwmIxN",
        "outputId": "28aa5d97-f2f8-4f9b-b917-3885d01d6b30"
      },
      "execution_count": 17,
      "outputs": [
        {
          "output_type": "stream",
          "name": "stdout",
          "text": [
            "+---------------------+------+---+-----------------+--------------+--------+----------+--------------------+--------------------+------------+-------+-------+------+-------+-----+------------+\n",
            "|belongs_to_collection|budget| id|original_language|original_title|overview|popularity|production_companies|production_countries|release_date|revenue|runtime|status|tagline|title|vote_average|\n",
            "+---------------------+------+---+-----------------+--------------+--------+----------+--------------------+--------------------+------------+-------+-------+------+-------+-----+------------+\n",
            "|                38313|   125|125|              125|           125|     749|       215|                 215|                 283|         221|    215|    304|   304|  23967|  304|         304|\n",
            "+---------------------+------+---+-----------------+--------------+--------+----------+--------------------+--------------------+------------+-------+-------+------+-------+-----+------------+\n",
            "\n"
          ]
        }
      ]
    },
    {
      "cell_type": "code",
      "source": [
        "df.groupBy(df['title']).count().show()"
      ],
      "metadata": {
        "colab": {
          "base_uri": "https://localhost:8080/"
        },
        "id": "wPr2fd9Zmtb5",
        "outputId": "640ea977-4a5c-451c-a77f-25542bdd391d"
      },
      "execution_count": 18,
      "outputs": [
        {
          "output_type": "stream",
          "name": "stdout",
          "text": [
            "+--------------------+-----+\n",
            "|               title|count|\n",
            "+--------------------+-----+\n",
            "|   The Corn Is Green|    1|\n",
            "|Meet The Browns -...|    1|\n",
            "|Morenita, El Esca...|    1|\n",
            "| Father Takes a Wife|    1|\n",
            "|The Werewolf of W...|    1|\n",
            "|My Wife Is a Gang...|    1|\n",
            "|Depeche Mode: Tou...|    1|\n",
            "|  A Woman Is a Woman|    1|\n",
            "|History Is Made a...|    1|\n",
            "|      Colombian Love|    1|\n",
            "|        Ace Attorney|    1|\n",
            "|     Not Like Others|    1|\n",
            "|40 Guns to Apache...|    1|\n",
            "|          Middle Men|    1|\n",
            "|         It's a Gift|    1|\n",
            "|    La Vie de Bohème|    1|\n",
            "|Rasputin: The Mad...|    1|\n",
            "|The Ballad of Jac...|    1|\n",
            "|         How to Deal|    1|\n",
            "|             Freaked|    1|\n",
            "+--------------------+-----+\n",
            "only showing top 20 rows\n",
            "\n"
          ]
        }
      ]
    },
    {
      "cell_type": "code",
      "source": [
        "df.groupby(df['title']).count().sort(desc(\"count\")).show(10, False)"
      ],
      "metadata": {
        "colab": {
          "base_uri": "https://localhost:8080/"
        },
        "id": "RVtPJVhEmwXX",
        "outputId": "4fbb2214-712a-4e19-d41b-0d48a8d33028"
      },
      "execution_count": 19,
      "outputs": [
        {
          "output_type": "stream",
          "name": "stdout",
          "text": [
            "+--------------------+-----+\n",
            "|title               |count|\n",
            "+--------------------+-----+\n",
            "|NULL                |304  |\n",
            "|Les Misérables      |8    |\n",
            "|The Three Musketeers|8    |\n",
            "|Cinderella          |8    |\n",
            "|A Christmas Carol   |7    |\n",
            "|The Island          |7    |\n",
            "|Dracula             |7    |\n",
            "|Hamlet              |7    |\n",
            "|Frankenstein        |7    |\n",
            "|Cleopatra           |6    |\n",
            "+--------------------+-----+\n",
            "only showing top 10 rows\n",
            "\n"
          ]
        }
      ]
    },
    {
      "cell_type": "code",
      "source": [
        "# Subsetting and creating a temporary DataFrame to eliminate any missing values\n",
        "df_temp = df.filter((df['title']!='')&(df['title'].isNotNull()) & (~isnan(df['title'])))\n",
        "\n",
        "# Group by 'title', count occurrences, filter titles occurring more than four times, sort in descending order, and display top results\n",
        "df_temp.groupby(df_temp['title']).count().filter(\"`count` >4\").sort(col(\"count\").desc()).show(10,False)"
      ],
      "metadata": {
        "colab": {
          "base_uri": "https://localhost:8080/"
        },
        "id": "UXYDAfqdm_V0",
        "outputId": "f94a3895-dfc7-415c-f1c8-0a31a72e0704"
      },
      "execution_count": 23,
      "outputs": [
        {
          "output_type": "stream",
          "name": "stdout",
          "text": [
            "+--------------------+-----+\n",
            "|title               |count|\n",
            "+--------------------+-----+\n",
            "|Les Misérables      |8    |\n",
            "|The Three Musketeers|8    |\n",
            "|Cinderella          |8    |\n",
            "|A Christmas Carol   |7    |\n",
            "|The Island          |7    |\n",
            "|Frankenstein        |7    |\n",
            "|Dracula             |7    |\n",
            "|Hamlet              |7    |\n",
            "|Treasure Island     |6    |\n",
            "|The Lost World      |6    |\n",
            "+--------------------+-----+\n",
            "only showing top 10 rows\n",
            "\n"
          ]
        }
      ]
    },
    {
      "cell_type": "code",
      "source": [
        "# The following command is to find the number of titles that are repeated four times or more\n",
        "df_temp.groupby(df_temp['title']).count().filter(\"`count` >=4\").sort(col(\"count\").desc()).count()"
      ],
      "metadata": {
        "colab": {
          "base_uri": "https://localhost:8080/"
        },
        "id": "Ohh7AOLfntvK",
        "outputId": "69194108-3a7f-4406-8322-f644fcbd524c"
      },
      "execution_count": 21,
      "outputs": [
        {
          "output_type": "execute_result",
          "data": {
            "text/plain": [
              "111"
            ]
          },
          "metadata": {},
          "execution_count": 21
        }
      ]
    },
    {
      "cell_type": "code",
      "source": [
        "# The following command is to delete any temporary DataFrames that we created in the process\n",
        "del df_temp"
      ],
      "metadata": {
        "id": "QSjKky2Mn1yu"
      },
      "execution_count": 25,
      "outputs": []
    },
    {
      "cell_type": "code",
      "source": [
        "#@title Casting Variables\n",
        "\n",
        "#Casting\n",
        "df = df.withColumn('budget',df['budget'].cast(\"float\"))\n",
        "\n",
        "#After Casting\n",
        "df.dtypes"
      ],
      "metadata": {
        "colab": {
          "base_uri": "https://localhost:8080/"
        },
        "id": "LAHu_GdcoRzS",
        "outputId": "77ceef16-2fe3-4e57-e9b4-1d9846f0f2a5"
      },
      "execution_count": 26,
      "outputs": [
        {
          "output_type": "execute_result",
          "data": {
            "text/plain": [
              "[('belongs_to_collection', 'string'),\n",
              " ('budget', 'float'),\n",
              " ('id', 'string'),\n",
              " ('original_language', 'string'),\n",
              " ('original_title', 'string'),\n",
              " ('overview', 'string'),\n",
              " ('popularity', 'string'),\n",
              " ('production_companies', 'string'),\n",
              " ('production_countries', 'string'),\n",
              " ('release_date', 'string'),\n",
              " ('revenue', 'string'),\n",
              " ('runtime', 'string'),\n",
              " ('status', 'string'),\n",
              " ('tagline', 'string'),\n",
              " ('title', 'string'),\n",
              " ('vote_average', 'string')]"
            ]
          },
          "metadata": {},
          "execution_count": 26
        }
      ]
    },
    {
      "cell_type": "code",
      "source": [
        "#@title Casting Multiple Columns\n",
        "\n",
        "#Importing necessary libraries\n",
        "from pyspark.sql.types import *\n",
        "\n",
        "#Identifying and assigning lists of variables\n",
        "int_vars=['id']\n",
        "float_vars=['budget', 'popularity', 'revenue']\n",
        "date_vars=['release_date']\n",
        "\n",
        "#Converting integer variables\n",
        "for column in int_vars:\n",
        "  df = df.withColumn(column,df[column].cast(IntegerType()))\n",
        "\n",
        "# Converting float variables\n",
        "for column in float_vars:\n",
        "  df=df.withColumn(column,df[column].cast(FloatType()))\n",
        "\n",
        "# Converting float variables\n",
        "for column in date_vars:\n",
        "  df=df.withColumn(column,df[column].cast(DateType()))\n",
        "\n",
        "df.dtypes"
      ],
      "metadata": {
        "colab": {
          "base_uri": "https://localhost:8080/"
        },
        "id": "CnwR3H12oaf1",
        "outputId": "de89d022-0993-4210-b579-390b48e4d6cd"
      },
      "execution_count": 27,
      "outputs": [
        {
          "output_type": "execute_result",
          "data": {
            "text/plain": [
              "[('belongs_to_collection', 'string'),\n",
              " ('budget', 'float'),\n",
              " ('id', 'int'),\n",
              " ('original_language', 'string'),\n",
              " ('original_title', 'string'),\n",
              " ('overview', 'string'),\n",
              " ('popularity', 'float'),\n",
              " ('production_companies', 'string'),\n",
              " ('production_countries', 'string'),\n",
              " ('release_date', 'date'),\n",
              " ('revenue', 'float'),\n",
              " ('runtime', 'string'),\n",
              " ('status', 'string'),\n",
              " ('tagline', 'string'),\n",
              " ('title', 'string'),\n",
              " ('vote_average', 'string')]"
            ]
          },
          "metadata": {},
          "execution_count": 27
        }
      ]
    },
    {
      "cell_type": "code",
      "source": [
        "df.show(10, False)"
      ],
      "metadata": {
        "colab": {
          "base_uri": "https://localhost:8080/"
        },
        "id": "R9LXzX2Ftfb1",
        "outputId": "3bf9e615-de1e-4491-81b5-f0a0dc17f7dd"
      },
      "execution_count": 28,
      "outputs": [
        {
          "output_type": "stream",
          "name": "stdout",
          "text": [
            "+---------------------+--------+-----+-----------------+------------------------------------------+----------------------------------------------------------------------------------------------------------------------------------------------------------------------------------------------------------------------------------------------------------------------------------------------------------------------------------------------------------------------------------------------------------------------------------------------------------------------------------------------+----------+--------------------------------------------------------------------------------------------------------------------------------------------------------------------------------------------------------------------------------------------------------------------------------------------------------------------------------------------------------------------+-----------------------------------------------------------------------------------------------------------------------------------------+------------+-------+-------+--------+----------------------------------------------------------------------------------------+---------------------------------------+------------+\n",
            "|belongs_to_collection|budget  |id   |original_language|original_title                            |overview                                                                                                                                                                                                                                                                                                                                                                                                                                                                                      |popularity|production_companies                                                                                                                                                                                                                                                                                                                                                |production_countries                                                                                                                     |release_date|revenue|runtime|status  |tagline                                                                                 |title                                  |vote_average|\n",
            "+---------------------+--------+-----+-----------------+------------------------------------------+----------------------------------------------------------------------------------------------------------------------------------------------------------------------------------------------------------------------------------------------------------------------------------------------------------------------------------------------------------------------------------------------------------------------------------------------------------------------------------------------+----------+--------------------------------------------------------------------------------------------------------------------------------------------------------------------------------------------------------------------------------------------------------------------------------------------------------------------------------------------------------------------+-----------------------------------------------------------------------------------------------------------------------------------------+------------+-------+-------+--------+----------------------------------------------------------------------------------------+---------------------------------------+------------+\n",
            "|NULL                 |0.0     |43000|fr               |Le Caporal épinglé                        |The story serves as a companion piece to Renoir's 1937 film, Grand Illusion, once more bringing together men from across the broad social spectrum of French society to depict one man's Sisyphean efforts to escape captivity in a German POW camp.                                                                                                                                                                                                                                          |2.503     |[{'id': 16059, 'logo_path': None, 'name': 'Les Films du Cyclope', 'origin_country': 'FR'}]                                                                                                                                                                                                                                                                          |[{'iso_3166_1': 'FR', 'name': 'France'}]                                                                                                 |1962-05-23  |0.0    |90     |Released|NULL                                                                                    |The Elusive Corporal                   |5.9         |\n",
            "|NULL                 |0.0     |43001|fr               |Cybèle ou les dimanches de ville d'Avray  |The tragic story of a young orphan girl who is befriended by an innocent but emotionally disabled veteran of the French Indochina War.                                                                                                                                                                                                                                                                                                                                                        |5.51      |[{'id': 7808, 'logo_path': None, 'name': 'Fidès', 'origin_country': ''}, {'id': 101713, 'logo_path': None, 'name': 'Les Films Trocadero', 'origin_country': ''}, {'id': 2325, 'logo_path': None, 'name': 'Orsay Films', 'origin_country': ''}]                                                                                                                      |[{'iso_3166_1': 'AT', 'name': 'Austria'}, {'iso_3166_1': 'FR', 'name': 'France'}]                                                        |1962-11-12  |0.0    |110    |Released|NULL                                                                                    |Sundays and Cybele                     |7.4         |\n",
            "|NULL                 |0.0     |43002|en               |Lonely Are the Brave                      |A fiercely independent cowboy arranges to have himself locked up in jail in order to then escape with an old friend who has been sentenced to the penitentiary.                                                                                                                                                                                                                                                                                                                               |5.62      |[{'id': 3810, 'logo_path': None, 'name': 'Joel Productions', 'origin_country': ''}]                                                                                                                                                                                                                                                                                 |[{'iso_3166_1': 'US', 'name': 'United States of America'}]                                                                               |1962-05-24  |0.0    |107    |Released|Life can never cage a man like this!                                                    |Lonely Are the Brave                   |7.5         |\n",
            "|NULL                 |0.0     |43003|fr               |Vérités et Mensonges                      |Documents the lives of infamous fakers Elmyr de Hory and Clifford Irving. De Hory, who later committed suicide to avoid more prison time, made his name by selling forged works of art by painters like Picasso and Matisse. Irving was infamous for writing a fake autobiography of Howard Hughes. Welles moves between documentary and fiction as he examines the fundamental elements of fraud and the people who commit fraud at the expense of others.                                   |7.159     |[{'id': 36547, 'logo_path': None, 'name': 'SACI', 'origin_country': 'IR'}, {'id': 533, 'logo_path': None, 'name': 'Janus Films', 'origin_country': ''}]                                                                                                                                                                                                             |[{'iso_3166_1': 'DE', 'name': 'Germany'}, {'iso_3166_1': 'FR', 'name': 'France'}, {'iso_3166_1': 'IR', 'name': 'Iran'}]                  |1975-03-12  |0.0    |89     |Released|NULL                                                                                    |F for Fake                             |7.5         |\n",
            "|NULL                 |500000.0|43004|en               |Long Day's Journey Into Night             |The film follows one day in the lives of the Tyrone family, each member is troubled and has been damaged by alcohol and/or drugs. In addition, they have issues with each other that lead to fights and an inability to reconcile completely with one another.                                                                                                                                                                                                                                |3.988     |[{'id': 77598, 'logo_path': None, 'name': 'First Company', 'origin_country': ''}]                                                                                                                                                                                                                                                                                   |[{'iso_3166_1': 'US', 'name': 'United States of America'}]                                                                               |1962-10-09  |0.0    |174    |Released|PRIDE...POWER...PASSION...PAIN!                                                         |Long Day's Journey Into Night          |6.8         |\n",
            "|NULL                 |0.0     |43006|en               |My Geisha                                 |\"A director's (Yves Montand) wife (Shirley MacLaine) poses as a geisha to win the lead in his Japanese production of \"\"Madame Butterfly.\"\"\"                                                                                                                                                                                                                                                                                                                                                   |3.194     |[{'id': 82939, 'logo_path': None, 'name': 'Sachiko', 'origin_country': ''}, {'id': 4, 'logo_path': '/fycMZt242LVjagMByZOLUGbCvv3.png', 'name': 'Paramount', 'origin_country': 'US'}]                                                                                                                                                                                |[{'iso_3166_1': 'US', 'name': 'United States of America'}]                                                                               |1962-03-09  |0.0    |119    |Released|NULL                                                                                    |My Geisha                              |6.1         |\n",
            "|NULL                 |0.0     |43007|en               |Period of Adjustment                      |George Haverstick, a Korean war veteran, hastily marries Isabel, whom he met in hospital while he was recovering from a nervous condition. To Isabel's horror, they drive to Florida on their honeymoon in an old hearse. They spend much of the time quarreling, and then, on Christmas eve, they visit George's war buddy, Ralph Baltz. However Ralph's wife Dorothea has just walked out on him, taking their child. Each couple then observes the marital difficulties of the other couple|2.689     |[{'id': 13359, 'logo_path': None, 'name': 'Marten Pictures', 'origin_country': ''}, {'id': 21, 'logo_path': '/mjofSXiHpG5t6KYmU4l4FrUhT7m.png', 'name': 'Metro-Goldwyn-Mayer', 'origin_country': 'US'}]                                                                                                                                                             |[{'iso_3166_1': 'US', 'name': 'United States of America'}]                                                                               |1962-10-31  |0.0    |112    |Released|The agonizing pause between the honeymoon and the marriage!                             |Period of Adjustment                   |6.4         |\n",
            "|NULL                 |0.0     |43008|en               |The Hanging Tree                          |Character study of a Doctor who saves a local criminal from a mob who are trying to hang him, but then tries to control the life of the young man, realising that he can exploit his secret.                                                                                                                                                                                                                                                                                                  |6.537     |[{'id': 14248, 'logo_path': None, 'name': 'Baroda', 'origin_country': ''}, {'id': 174, 'logo_path': '/IuAlhI9eVC9Z8UQWOIDdWRKSEJ.png', 'name': 'Warner Bros. Pictures', 'origin_country': 'US'}]                                                                                                                                                                    |[{'iso_3166_1': 'US', 'name': 'United States of America'}]                                                                               |1959-03-13  |0.0    |107    |Released|From The Prize Novel -- A Picture Of Thundering Power!                                  |The Hanging Tree                       |6.6         |\n",
            "|NULL                 |0.0     |43010|de               |Sherlock Holmes und das Halsband des Todes|Sherlock Holmes and Watson do battle with their nemesis, Professor Moriarity, over an ancient necklace attributed to Cleopatra.                                                                                                                                                                                                                                                                                                                                                               |4.297     |[{'id': 1787, 'logo_path': None, 'name': 'Central Cinema Company Film', 'origin_country': ''}, {'id': 12473, 'logo_path': None, 'name': 'Incei Film', 'origin_country': ''}, {'id': 20198, 'logo_path': None, 'name': 'Criterion Productions', 'origin_country': ''}, {'id': 132999, 'logo_path': None, 'name': 'Omnia Deutsche Film Export', 'origin_country': ''}]|[{'iso_3166_1': 'FR', 'name': 'France'}, {'iso_3166_1': 'IT', 'name': 'Italy'}, {'iso_3166_1': 'DE', 'name': 'Germany'}]                 |1962-01-01  |0.0    |87     |Released|NULL                                                                                    |Sherlock Holmes and the Deadly Necklace|5.5         |\n",
            "|NULL                 |0.0     |43011|en               |Sodom and Gomorrah                        |Sex, torture and betrayal in Biblical Sodom and Gomorrah. Lot, leader of the Hebrews, believes his people can co-exist with the Sodomites, a disastrous decision.                                                                                                                                                                                                                                                                                                                             |4.417     |[{'id': 8894, 'logo_path': None, 'name': 'Société Générale de Cinématographie (S.G.C.)', 'origin_country': ''}, {'id': 641, 'logo_path': None, 'name': 'Titanus', 'origin_country': 'IT'}, {'id': 220, 'logo_path': None, 'name': 'Pathé Consortium Cinéma', 'origin_country': 'FR'}]                                                                               |[{'iso_3166_1': 'FR', 'name': 'France'}, {'iso_3166_1': 'IT', 'name': 'Italy'}, {'iso_3166_1': 'US', 'name': 'United States of America'}]|1962-01-01  |0.0    |154    |Released|The cities that mocked the very name of God...The vengeance that tore the Earth asunder!|Sodom and Gomorrah                     |5.4         |\n",
            "+---------------------+--------+-----+-----------------+------------------------------------------+----------------------------------------------------------------------------------------------------------------------------------------------------------------------------------------------------------------------------------------------------------------------------------------------------------------------------------------------------------------------------------------------------------------------------------------------------------------------------------------------+----------+--------------------------------------------------------------------------------------------------------------------------------------------------------------------------------------------------------------------------------------------------------------------------------------------------------------------------------------------------------------------+-----------------------------------------------------------------------------------------------------------------------------------------+------------+-------+-------+--------+----------------------------------------------------------------------------------------+---------------------------------------+------------+\n",
            "only showing top 10 rows\n",
            "\n"
          ]
        }
      ]
    },
    {
      "cell_type": "code",
      "source": [
        "# Descriptive Statics\n",
        "df.describe().show()"
      ],
      "metadata": {
        "colab": {
          "base_uri": "https://localhost:8080/"
        },
        "id": "22LfXYwatsdz",
        "outputId": "57054925-b079-4fb6-f657-2ad0a4f11400"
      },
      "execution_count": 30,
      "outputs": [
        {
          "output_type": "stream",
          "name": "stdout",
          "text": [
            "+-------+---------------------+--------------------+------------------+-----------------+-----------------------------------+--------------------+-----------------+--------------------+--------------------+-------------------+------------------+--------+------------------+--------------------+------------------+\n",
            "|summary|belongs_to_collection|              budget|                id|original_language|                     original_title|            overview|       popularity|production_companies|production_countries|            revenue|           runtime|  status|           tagline|               title|      vote_average|\n",
            "+-------+---------------------+--------------------+------------------+-----------------+-----------------------------------+--------------------+-----------------+--------------------+--------------------+-------------------+------------------+--------+------------------+--------------------+------------------+\n",
            "|  count|                 5685|               43873|             43784|            43873|                              43873|               43249|            43783|               43783|               43715|              43783|             43694|   43694|             20031|               43694|             43694|\n",
            "|   mean|               1999.0|   3736901.834963166|44502.304312077475|             NULL|                           Infinity|  2503305.7191011235|5.295444259579189|                NULL|                NULL|  9697079.597382544|100.77543827527808|    NULL|         107919.25|            Infinity|5.9968714239939604|\n",
            "| stddev|                 NULL|1.5871814952777315E7|27189.646588626398|             NULL|                                NaN| 2.288561406647444E7|6.168030519208296|                NULL|                NULL|5.687938449628821E7|26.610571297084498|    NULL|214544.45116164157|                 NaN|1.2540414361739844|\n",
            "|    min|  \"\"Crime and Puni...|                 0.0|                 2|               []|               !Women Art Revolu...|                    |              0.6|\"[{'id': 10005, '...|\"A joyously excit...|                0.0|               100|Released|                  |!Women Art Revolu...|               0.5|\n",
            "|    max| |1.564|[]|[{'iso_...|               3.8E8|            100988|               zu|ＯＮＥ ＰＩＥＣＥ（ワンピース） ...|„White mouse“ Fri...|            180.0|[{'id': 9999, 'lo...|[{'iso_3166_1': '...|       2.78796518E9|                99|Released|          龍在少林|       시크릿 Secret|               9.8|\n",
            "+-------+---------------------+--------------------+------------------+-----------------+-----------------------------------+--------------------+-----------------+--------------------+--------------------+-------------------+------------------+--------+------------------+--------------------+------------------+\n",
            "\n"
          ]
        }
      ]
    }
  ]
}