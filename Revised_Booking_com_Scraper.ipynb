{
  "cells": [
    {
      "cell_type": "markdown",
      "metadata": {
        "id": "view-in-github",
        "colab_type": "text"
      },
      "source": [
        "<a href=\"https://colab.research.google.com/github/amien1410/colab-notebooks/blob/main/Revised_Booking_com_Scraper.ipynb\" target=\"_parent\"><img src=\"https://colab.research.google.com/assets/colab-badge.svg\" alt=\"Open In Colab\"/></a>"
      ]
    },
    {
      "cell_type": "code",
      "source": [
        "#@title\n",
        "!pip install \"httpx[http2,brotli]\" parsel\n",
        "import difflib\n",
        "import httpx\n",
        "import requests\n",
        "import random\n",
        "import string\n",
        "import time\n",
        "import urllib.parse\n",
        "from bs4 import BeautifulSoup"
      ],
      "metadata": {
        "id": "DregH8shmUoU",
        "colab": {
          "base_uri": "https://localhost:8080/"
        },
        "outputId": "52c42a88-3a45-4b97-c9d0-3bf155e68bb8"
      },
      "execution_count": 1,
      "outputs": [
        {
          "output_type": "stream",
          "name": "stdout",
          "text": [
            "Collecting parsel\n",
            "  Downloading parsel-1.10.0-py2.py3-none-any.whl.metadata (11 kB)\n",
            "Requirement already satisfied: httpx[brotli,http2] in /usr/local/lib/python3.11/dist-packages (0.28.1)\n",
            "Requirement already satisfied: anyio in /usr/local/lib/python3.11/dist-packages (from httpx[brotli,http2]) (4.9.0)\n",
            "Requirement already satisfied: certifi in /usr/local/lib/python3.11/dist-packages (from httpx[brotli,http2]) (2025.4.26)\n",
            "Requirement already satisfied: httpcore==1.* in /usr/local/lib/python3.11/dist-packages (from httpx[brotli,http2]) (1.0.9)\n",
            "Requirement already satisfied: idna in /usr/local/lib/python3.11/dist-packages (from httpx[brotli,http2]) (3.10)\n",
            "Collecting brotli (from httpx[brotli,http2])\n",
            "  Downloading Brotli-1.1.0-cp311-cp311-manylinux_2_17_x86_64.manylinux2014_x86_64.whl.metadata (5.5 kB)\n",
            "Requirement already satisfied: h2<5,>=3 in /usr/local/lib/python3.11/dist-packages (from httpx[brotli,http2]) (4.2.0)\n",
            "Requirement already satisfied: h11>=0.16 in /usr/local/lib/python3.11/dist-packages (from httpcore==1.*->httpx[brotli,http2]) (0.16.0)\n",
            "Collecting cssselect>=1.2.0 (from parsel)\n",
            "  Downloading cssselect-1.3.0-py3-none-any.whl.metadata (2.6 kB)\n",
            "Collecting jmespath (from parsel)\n",
            "  Downloading jmespath-1.0.1-py3-none-any.whl.metadata (7.6 kB)\n",
            "Requirement already satisfied: lxml in /usr/local/lib/python3.11/dist-packages (from parsel) (5.4.0)\n",
            "Requirement already satisfied: packaging in /usr/local/lib/python3.11/dist-packages (from parsel) (24.2)\n",
            "Collecting w3lib>=1.19.0 (from parsel)\n",
            "  Downloading w3lib-2.3.1-py3-none-any.whl.metadata (2.3 kB)\n",
            "Requirement already satisfied: hyperframe<7,>=6.1 in /usr/local/lib/python3.11/dist-packages (from h2<5,>=3->httpx[brotli,http2]) (6.1.0)\n",
            "Requirement already satisfied: hpack<5,>=4.1 in /usr/local/lib/python3.11/dist-packages (from h2<5,>=3->httpx[brotli,http2]) (4.1.0)\n",
            "Requirement already satisfied: sniffio>=1.1 in /usr/local/lib/python3.11/dist-packages (from anyio->httpx[brotli,http2]) (1.3.1)\n",
            "Requirement already satisfied: typing_extensions>=4.5 in /usr/local/lib/python3.11/dist-packages (from anyio->httpx[brotli,http2]) (4.13.2)\n",
            "Downloading parsel-1.10.0-py2.py3-none-any.whl (17 kB)\n",
            "Downloading cssselect-1.3.0-py3-none-any.whl (18 kB)\n",
            "Downloading w3lib-2.3.1-py3-none-any.whl (21 kB)\n",
            "Downloading Brotli-1.1.0-cp311-cp311-manylinux_2_17_x86_64.manylinux2014_x86_64.whl (2.9 MB)\n",
            "\u001b[2K   \u001b[90m━━━━━━━━━━━━━━━━━━━━━━━━━━━━━━━━━━━━━━━━\u001b[0m \u001b[32m2.9/2.9 MB\u001b[0m \u001b[31m29.2 MB/s\u001b[0m eta \u001b[36m0:00:00\u001b[0m\n",
            "\u001b[?25hDownloading jmespath-1.0.1-py3-none-any.whl (20 kB)\n",
            "Installing collected packages: brotli, w3lib, jmespath, cssselect, parsel\n",
            "Successfully installed brotli-1.1.0 cssselect-1.3.0 jmespath-1.0.1 parsel-1.10.0 w3lib-2.3.1\n"
          ]
        }
      ]
    },
    {
      "cell_type": "code",
      "execution_count": 2,
      "metadata": {
        "id": "YUttdi9QUFAV"
      },
      "outputs": [],
      "source": [
        "# @title\n",
        "headers2 = {\n",
        "    \"Accept\":\"text/html,application/xhtml+xml,application/xml;q=0.9,image/webp,image/apng,*/*;q=0.8,application/signed-exchange;v=b3;q=0.7\",\n",
        "    \"Accept-Encoding\":\"gzip, deflate, br\",\n",
        "    \"Accept-Language\":\"en-US,en;q=0.9,id;q=0.8,fa;q=0.7,ar;q=0.6,ms;q=0.5,ja;q=0.4\",\n",
        "    \"Cache-Control\":\"max-age=0\",\n",
        "    \"Cookie\": 'px_init=0; bkng_sso_session=e30; OptanonConsent=implicitConsentCountry=nonGDPR&implicitConsentDate=1688341835317; cors_js=1; g_state={\"i_p\":1689063805365,\"i_l\":3}; bkng_expired_hint=eyJib29raW5nX2dsb2JhbCI6W3sibG9naW5faGludCI6MzEzOTY4OTU3OH1dfQ; bkng_sso_ses=e30; pcm_consent=consentedAt%3D2023-10-05T01%3A23%3A23.659Z%26countryCode%3DID%26expiresAt%3D2024-04-02T01%3A23%3A23.659Z%26implicit%3Dfalse%26regionCode%3DKT%26regulation%3Dnone%26legacyRegulation%3Dnone%26consentId%3Db29ee419-b359-4dec-a21f-1c8402c65d3b%26analytical%3Dtrue%26marketing%3Dtrue; bkng_sso_auth=CAIQsOnuTRpykSzmv8JMEafw8OBQmEwHlYkQD1BE/07FzWiRhRk7T+Cl6VTgFnDCiL56Xay0/XGqcNUHKKqKRFihOdZ7YC//cVRbU2pPHoYkTkSQH/6vQU6aieTRoTmgSulVjhsbphBZoqDGAoy73r5buX1/UdTCAI6Z; bkng_sso_auth_1696469003=CAIQsOnuTRpykSzmv8JMEafw8OBQmEwHlYkQD1BE/07FzWiRhRk7T+Cl6VTgFnDCiL56Xay0/XGqcNUHKKqKRFihOdZ7YC//cVRbU2pPHoYkTkSQH/6vQU6aieTRoTmgSulVjhsbphBZoqDGAoy73r5buX1/UdTCAI6Z; pcm_verified=1; _pxhd=lqCYPkaoZw2EcwRodSEQcVNjv2dUrdyjcnLkfwtrjaZ3VJxRxhMb95aKJwm2UR5dS%2Fzyx6MoscUH6ZKhBh%2F-yg%3D%3D%3ASmhouaMR9crUa2OA5WPDA9cM258mYWqsIRAnsSjNEykR3Ts%2FTD9nXnekDYhvmiSAlrrmKyEWBpVLo3RW%2FxRWQt82gElCC9nT9fvqYOlg0F8%3D; bkng=11UmFuZG9tSVYkc2RlIyh9Yaa29%2F3xUOLbVA9iGwA%2BUSz7Vg8K6c%2FTKO%2BIrpV1ZQ2n%2B5FCqFNiuhx1xPFQ4WLBeRrLd6nyCRo5cvbNZvp%2FWSKPgAsnzPLn15YE4j0gtjbNgUmaPaznmATSU5ZXekDjP0VmKpof4OazBIAPTOmbG0%2FXze%2FPP45cuj4dAg0W1pjmSj5r4FlUS40G2Yy9xiPorA%3D%3D; lastSeen=0',\n",
        "    \"Sec-Ch-Ua\":'\"Not.A/Brand\";v=\"8\", \"Chromium\";v=\"114\", \"Microsoft Edge\";v=\"114\"',\n",
        "    \"Sec-Ch-Ua-Mobile\":\"?0\",\n",
        "    \"Sec-Ch-Ua-Platform\":\"Windows\",\n",
        "    \"Sec-Fetch-Dest\":\"document\",\n",
        "    \"Sec-Fetch-Mode\":\"navigate\",\n",
        "    \"Sec-Fetch-Site\":\"none\",\n",
        "    \"Sec-Fetch-User\":\"?1\",\n",
        "    \"Upgrade-Insecure-Requests\":'1',\n",
        "    \"User-Agent\":\"Mozilla/5.0 (Windows NT 10.0; Win64; x64) AppleWebKit/537.36 (KHTML, like Gecko) Chrome/114.0.0.0 Safari/537.36\"\n",
        "}\n",
        "# start HTTP session client with our headers and HTTP2\n",
        "client = httpx.AsyncClient(\n",
        "    http2=True,  # http2 connections are significantly less likely to get blocked\n",
        "    headers=headers2,\n",
        "    timeout=httpx.Timeout(15.0),\n",
        "    limits=httpx.Limits(max_connections=5),\n",
        ")\n",
        "\n",
        "# get additional info from the property\n",
        "def get_additional_info(url):\n",
        "  results = []\n",
        "  print(url)\n",
        "  res = requests.get(url, headers=headers)\n",
        "  soup = BeautifulSoup(res.text)\n",
        "  address = soup.select(\"span.hp_address_subtitle\")[0].text.strip()\n",
        "  categories = soup.select(\".c-score-bar\")\n",
        "  for i in range(len(categories)):\n",
        "    title = categories[i].select(\"span\")[0].text.strip()\n",
        "    score = categories[i].select(\"span\")[1].text\n",
        "    results.append(f\"{title} ({score})\")\n",
        "  results = \", \".join(results)\n",
        "  print(address, results)\n",
        "  return address, results\n",
        "\n",
        "# get all reviews from the given property name\n",
        "async def get_reviews(pageName):\n",
        "  results = []\n",
        "  hasNextPage = True\n",
        "  offset = 0\n",
        "  page = 1\n",
        "  while hasNextPage == True:\n",
        "    url = \"https://www.booking.com/reviewlist.html?cc1=us&pagename=\"+pageName+\"&rows=25&offset=\"+str(offset)\n",
        "    print(url)\n",
        "    res = await client.get(url)\n",
        "    soup = BeautifulSoup(res.text)\n",
        "    reviews = soup.select(\".review_list_new_item_block\")\n",
        "\n",
        "    if len(reviews) < 25:\n",
        "      hasNextPage = False\n",
        "\n",
        "    for i in range(len(reviews)):\n",
        "      countLike = reviews[i].select(\".-iconset-review_great\")\n",
        "      countDislike = reviews[i].select(\".-iconset-review_poor\")\n",
        "      countResponse = reviews[i].select(\".-iconset-chat_bubbles\")\n",
        "      like = \"\"\n",
        "      dislike = \"\"\n",
        "      response = \"\"\n",
        "      if len(countLike) > 0:\n",
        "        like = countLike[0].parent.find_next_siblings()[1].text\n",
        "      if len(countDislike) > 0:\n",
        "        dislike = countDislike[0].parent.find_next_siblings()[1].text\n",
        "      if len(countResponse) > 0:\n",
        "        response = countResponse[0].parent.find_next_siblings()[0].text\n",
        "      results.append({\n",
        "          \"username\" : reviews[i].select('.bui-avatar-block__title')[0].text,\n",
        "          \"likeReview\" : like,\n",
        "          \"dislikeReview\" : dislike,\n",
        "          \"response\" : response,\n",
        "          \"rating\" : reviews[i].select(\".bui-review-score__badge\")[0].text.strip(),\n",
        "          \"reviewDate\" : reviews[i].select(\".c-review-block__date\")[1].text.split(\": \")[1].strip()\n",
        "      })\n",
        "\n",
        "    offset += 25\n",
        "    page += 1\n",
        "    time.sleep(2)\n",
        "\n",
        "  return results"
      ]
    },
    {
      "cell_type": "code",
      "source": [
        "random_request_id = \"\".join(\n",
        "    random.choice(string.ascii_lowercase + string.digits) for i in range(180)\n",
        ")\n",
        "headers = {\n",
        "    \"Accept\":\"text/html,application/xhtml+xml,application/xml;q=0.9,image/webp,image/apng,*/*;q=0.8,application/signed-exchange;v=b3;q=0.7\",\n",
        "    \"Accept-Encoding\":\"gzip, deflate, br\",\n",
        "    \"Accept-Language\":\"en-US,en;q=0.9,id;q=0.8,fa;q=0.7,ar;q=0.6,ms;q=0.5,ja;q=0.4\",\n",
        "    \"Cache-Control\":\"max-age=0\",\n",
        "    \"Cookie\": 'px_init=0; bkng_sso_session=e30; OptanonConsent=implicitConsentCountry=nonGDPR&implicitConsentDate=1688341835317; cors_js=1; g_state={\"i_p\":1689063805365,\"i_l\":3}; bkng_expired_hint=eyJib29raW5nX2dsb2JhbCI6W3sibG9naW5faGludCI6MzEzOTY4OTU3OH1dfQ; bkng_sso_ses=e30; pcm_consent=consentedAt%3D2023-10-05T01%3A23%3A23.659Z%26countryCode%3DID%26expiresAt%3D2024-04-02T01%3A23%3A23.659Z%26implicit%3Dfalse%26regionCode%3DKT%26regulation%3Dnone%26legacyRegulation%3Dnone%26consentId%3Db29ee419-b359-4dec-a21f-1c8402c65d3b%26analytical%3Dtrue%26marketing%3Dtrue; bkng_sso_auth=CAIQsOnuTRpykSzmv8JMEafw8OBQmEwHlYkQD1BE/07FzWiRhRk7T+Cl6VTgFnDCiL56Xay0/XGqcNUHKKqKRFihOdZ7YC//cVRbU2pPHoYkTkSQH/6vQU6aieTRoTmgSulVjhsbphBZoqDGAoy73r5buX1/UdTCAI6Z; bkng_sso_auth_1696469003=CAIQsOnuTRpykSzmv8JMEafw8OBQmEwHlYkQD1BE/07FzWiRhRk7T+Cl6VTgFnDCiL56Xay0/XGqcNUHKKqKRFihOdZ7YC//cVRbU2pPHoYkTkSQH/6vQU6aieTRoTmgSulVjhsbphBZoqDGAoy73r5buX1/UdTCAI6Z; pcm_verified=1; _pxhd=lqCYPkaoZw2EcwRodSEQcVNjv2dUrdyjcnLkfwtrjaZ3VJxRxhMb95aKJwm2UR5dS%2Fzyx6MoscUH6ZKhBh%2F-yg%3D%3D%3ASmhouaMR9crUa2OA5WPDA9cM258mYWqsIRAnsSjNEykR3Ts%2FTD9nXnekDYhvmiSAlrrmKyEWBpVLo3RW%2FxRWQt82gElCC9nT9fvqYOlg0F8%3D; bkng=11UmFuZG9tSVYkc2RlIyh9Yaa29%2F3xUOLbVA9iGwA%2BUSz7Vg8K6c%2FTKO%2BIrpV1ZQ2n%2B5FCqFNiuhx1xPFQ4WLBeRrLd6nyCRo5cvbNZvp%2FWSKPgAsnzPLn15YE4j0gtjbNgUmaPaznmATSU5ZXekDjP0VmKpof4OazBIAPTOmbG0%2FXze%2FPP45cuj4dAg0W1pjmSj5r4FlUS40G2Yy9xiPorA%3D%3D; lastSeen=0',\n",
        "    \"Origin\": \"https://www.booking.com\",\n",
        "    \"Referer\": \"https://www.booking.com/searchresults.html?\",\n",
        "    \"Sec-Ch-Ua\":'\"Microsoft Edge\";v=\"117\", \"Not;A=Brand\";v=\"8\", \"Chromium\";v=\"117\"',\n",
        "    \"Sec-Ch-Ua-Mobile\":\"?0\",\n",
        "    \"Sec-Ch-Ua-Platform\":\"Windows\",\n",
        "    \"Sec-Fetch-Dest\":\"document\",\n",
        "    \"Sec-Fetch-Mode\":\"navigate\",\n",
        "    \"Sec-Fetch-Site\":\"none\",\n",
        "    \"Sec-Fetch-User\":\"?1\",\n",
        "    \"Upgrade-Insecure-Requests\":'1',\n",
        "    \"User-Agent\":\"Mozilla/5.0 (Windows NT 10.0; Win64; x64) AppleWebKit/537.36 (KHTML, like Gecko) Chrome/117.0.0.0 Safari/537.36\",\n",
        "    \"X-Requested-By\": random_request_id,\n",
        "}\n",
        "# start HTTP session client with our headers and HTTP2\n",
        "client = httpx.AsyncClient(\n",
        "    http2=True,  # http2 connections are significantly less likely to get blocked\n",
        "    headers=headers,\n",
        "    timeout=httpx.Timeout(15.0),\n",
        "    limits=httpx.Limits(max_connections=5),\n",
        ")"
      ],
      "metadata": {
        "id": "fLheE50YhE73"
      },
      "execution_count": 11,
      "outputs": []
    },
    {
      "cell_type": "code",
      "source": [
        "# get 20 top properties from the search page\n",
        "headers = {\n",
        "    \"Host\": \"www.booking.com\",\n",
        "    \"Method\": \"GET\",\n",
        "    \"Path\": \"/searchresults.html?ss=Aston+Banua+Banjarmasin\",\n",
        "    \"Scheme\": \"https\",\n",
        "    \"Accept\": \"text/html,application/xhtml+xml,application/xml;q=0.9,image/webp,image/apng,*/*;q=0.8,application/signed-exchange;v=b3;q=0.7\",\n",
        "    \"Accept-Encoding\": \"gzip, deflate, br\",\n",
        "    \"Accept-Language\": \"en-US,en;q=0.9,id;q=0.8,fa;q=0.7,ar;q=0.6,ms;q=0.5,ja;q=0.4\",\n",
        "    \"Cache-Control\": \"max-age=0\",\n",
        "    \"Cookie\": \"px_init=0; bkng_sso_session=e30; OptanonConsent=implicitConsentCountry=nonGDPR&implicitConsentDate=1688341835317; cors_js=1; g_state={\\\"i_p\\\":1689063805365,\\\"i_l\\\":3}; bkng_expired_hint=eyJib29raW5nX2dsb2JhbCI6W3sibg9naW5faGludCI6MzEzOTY4OTU3OH1dfQ; bkng_sso_ses=e30; pcm_consent=consentedAt%3D2023-10-05T01%3A23%3A23.659Z%26countryCode%3DID%26expiresAt%3D2024-04-02T01%3A23%3A23.659Z%26implicit%3Dfalse%26regionCode%3DKT%26regulation%3Dnone%26legacyRegulation%3Dnone%26consentId%3Db29ee419-b359-4dec-a21f-1c8402c65d3b%26analytical%3Dtrue%26marketing%3Dtrue; bkng_sso_auth=CAIQsOnuTRpykSzmv8JMEafw8OBQmEwHlYkQD1BE/07FzWiRhRk7T+Cl6VTgFnDCiL56Xay0/XGqcNUHKKqKRFihOdZ7YC//cVRbU2pPHoYkTkSQH/6vQU6aieTRoTmgSulVjhsbphBZoqDGAoy73r5buX1/UdTCAI6Z; bkng_sso_auth_1696469003=CAIQsOnuTRpykSzmv8JMEafw8OBQmEwHlYkQD1BE/07FzWiRhRk7T+Cl6VTgFnDCiL56Xay0/XGqcNUHKKqKRFihOdZ7YC//cVRbU2pPHoYkTkSQH/6vQU6aieTRoTmgSulVjhsbphBZoqDGAoy73r5buX1/UdTCAI6Z; pcm_verified=1; _pxhd=lqCYPkaoZw2EcwRodSEQcVNjv2dUrdyjcnLkfwtrjaZ3VJxRxhMb95aKJwm2UR5dS%2Fzyx6MoscUH6ZKhBh%2F-yg%3D%3D%3ASmhouaMR9crUa2OA5WPDA9cM258mYWqsIRAnsSjNEykR3Ts%2FTD9nXnekDYhvmiSAlrrmKyEWBpVLo3RW%2FxRWQt82gElCC9nT9fvqYOlg0F8%3D; bkng=11UmFuZG9tSVYkc2RlIyh9Yaa29%2F3xUOLbVA9iGwA%2BUSz7Vg8K6c%2FTKO%2BIrpV1ZQ2n%2B5FCqFNiuhx1xPFQ4WLBeRrLd6nyCRo5cvbNZvp%2FWSKPgAsnzPLn15YE4j0gtjbNgUmaPaznmATSU5ZXekDjP0VmKpof4OazBIAPTOmbG0%2FXze%2FPP45cuj4dAg0W1pjmSj5r4FlUS40G2Yy9xiPorA%3D%3D; lastSeen=0\",\n",
        "    \"Sec-Ch-Ua\": \"\\\"Microsoft Edge\\\";v=\\\"117\\\", \\\"Not;A=Brand\\\";v=\\\"8\\\", \\\"Chromium\\\";v=\\\"117\\\"\",\n",
        "    \"Sec-Ch-Ua-Mobile\": \"?0\",\n",
        "    \"Sec-Ch-Ua-Platform\": \"\\\"Windows\\\"\",\n",
        "    \"Sec-Fetch-Dest\": \"document\",\n",
        "    \"Sec-Fetch-Mode\": \"navigate\",\n",
        "    \"Sec-Fetch-Site\": \"none\",\n",
        "    \"Sec-Fetch-User\": \"?1\",\n",
        "    \"Upgrade-Insecure-Requests\": \"1\",\n",
        "    \"User-Agent\": \"Mozilla/5.0 (Windows NT 10.0; Win64; x64) AppleWebKit/537.36 (KHTML, like Gecko) Chrome/117.0.0.0 Safari/537.36\"\n",
        "}\n",
        "\n",
        "headers2 = {\n",
        "    \"Accept\":\"text/html,application/xhtml+xml,application/xml;q=0.9,image/webp,image/apng,*/*;q=0.8,application/signed-exchange;v=b3;q=0.7\",\n",
        "    \"Accept-Encoding\":\"gzip, deflate, br\",\n",
        "    \"Accept-Language\":\"en-US,en;q=0.9,id;q=0.8,fa;q=0.7,ar;q=0.6,ms;q=0.5,ja;q=0.4\",\n",
        "    \"Cache-Control\":\"max-age=0\",\n",
        "    \"Cookie\": 'px_init=0; bkng_sso_session=e30; OptanonConsent=implicitConsentCountry=nonGDPR&implicitConsentDate=1688341835317; cors_js=1; g_state={\"i_p\":1689063805365,\"i_l\":3}; bkng_expired_hint=eyJib29raW5nX2dsb2JhbCI6W3sibG9naW5faGludCI6MzEzOTY4OTU3OH1dfQ; bkng_sso_ses=e30; pcm_consent=consentedAt%3D2023-10-05T01%3A23%3A23.659Z%26countryCode%3DID%26expiresAt%3D2024-04-02T01%3A23%3A23.659Z%26implicit%3Dfalse%26regionCode%3DKT%26regulation%3Dnone%26legacyRegulation%3Dnone%26consentId%3Db29ee419-b359-4dec-a21f-1c8402c65d3b%26analytical%3Dtrue%26marketing%3Dtrue; bkng_sso_auth=CAIQsOnuTRpykSzmv8JMEafw8OBQmEwHlYkQD1BE/07FzWiRhRk7T+Cl6VTgFnDCiL56Xay0/XGqcNUHKKqKRFihOdZ7YC//cVRbU2pPHoYkTkSQH/6vQU6aieTRoTmgSulVjhsbphBZoqDGAoy73r5buX1/UdTCAI6Z; bkng_sso_auth_1696469003=CAIQsOnuTRpykSzmv8JMEafw8OBQmEwHlYkQD1BE/07FzWiRhRk7T+Cl6VTgFnDCiL56Xay0/XGqcNUHKKqKRFihOdZ7YC//cVRbU2pPHoYkTkSQH/6vQU6aieTRoTmgSulVjhsbphBZoqDGAoy73r5buX1/UdTCAI6Z; pcm_verified=1; _pxhd=lqCYPkaoZw2EcwRodSEQcVNjv2dUrdyjcnLkfwtrjaZ3VJxRxhMb95aKJwm2UR5dS%2Fzyx6MoscUH6ZKhBh%2F-yg%3D%3D%3ASmhouaMR9crUa2OA5WPDA9cM258mYWqsIRAnsSjNEykR3Ts%2FTD9nXnekDYhvmiSAlrrmKyEWBpVLo3RW%2FxRWQt82gElCC9nT9fvqYOlg0F8%3D; bkng=11UmFuZG9tSVYkc2RlIyh9Yaa29%2F3xUOLbVA9iGwA%2BUSz7Vg8K6c%2FTKO%2BIrpV1ZQ2n%2B5FCqFNiuhx1xPFQ4WLBeRrLd6nyCRo5cvbNZvp%2FWSKPgAsnzPLn15YE4j0gtjbNgUmaPaznmATSU5ZXekDjP0VmKpof4OazBIAPTOmbG0%2FXze%2FPP45cuj4dAg0W1pjmSj5r4FlUS40G2Yy9xiPorA%3D%3D; lastSeen=0',\n",
        "    \"Sec-Ch-Ua\":'\"Not.A/Brand\";v=\"8\", \"Chromium\";v=\"114\", \"Microsoft Edge\";v=\"114\"',\n",
        "    \"Sec-Ch-Ua-Mobile\":\"?0\",\n",
        "    \"Sec-Ch-Ua-Platform\":\"Windows\",\n",
        "    \"Sec-Fetch-Dest\":\"document\",\n",
        "    \"Sec-Fetch-Mode\":\"navigate\",\n",
        "    \"Sec-Fetch-Site\":\"none\",\n",
        "    \"Sec-Fetch-User\":\"?1\",\n",
        "    \"Upgrade-Insecure-Requests\":'1',\n",
        "    \"User-Agent\":\"Mozilla/5.0 (Windows NT 10.0; Win64; x64) AppleWebKit/537.36 (KHTML, like Gecko) Chrome/114.0.0.0 Safari/537.36\"\n",
        "}\n",
        "# start HTTP session client with our headers and HTTP2\n",
        "client = httpx.AsyncClient(\n",
        "    http2=True,  # http2 connections are significantly less likely to get blocked\n",
        "    headers=headers,\n",
        "    timeout=httpx.Timeout(15.0),\n",
        "    limits=httpx.Limits(max_connections=5),\n",
        ")\n",
        "\n",
        "def get_hotels(hotel_name, address):\n",
        "  results = []\n",
        "  query = urllib.parse.quote(hotel_name+\" \"+address)\n",
        "  url = \"https://www.booking.com/searchresults.html?ss=Aston+Banua+Banjarmasin\"\n",
        "  # url = \"https://www.booking.com/searchresults.html?ss=Aston+Banua+Banjarmasin\"\n",
        "  res = requests.get(url, headers=headers2)\n",
        "  soup = BeautifulSoup(res.text, 'lxml')\n",
        "  # properties = soup.select(\"a.e13098a59f\")\n",
        "  return soup\n",
        "  # for i in range(len(properties)):\n",
        "  #   url = properties[i].get(\"href\")\n",
        "  #   pageName = url.split(\"/\")[-1].split(\".\")[0]\n",
        "  #   results.append({\n",
        "  #       \"newPropertyName\": properties[i].find(\"div\").text,\n",
        "  #       \"pageName\": pageName,\n",
        "  #       \"url\": url\n",
        "  #   })\n",
        "\n",
        "  #   if i > 19:\n",
        "  #     return results"
      ],
      "metadata": {
        "id": "PHo0OSNRbCXo"
      },
      "execution_count": 3,
      "outputs": []
    },
    {
      "cell_type": "code",
      "source": [
        "hotels = get_hotels(\"Residence Inn\", \"410 North Chicago\")\n",
        "hotels.select(\"h3\")"
      ],
      "metadata": {
        "id": "NBB3iwfosma7",
        "colab": {
          "base_uri": "https://localhost:8080/"
        },
        "outputId": "21ab9117-d1b9-419c-8aea-1f80f703f09b"
      },
      "execution_count": 12,
      "outputs": [
        {
          "output_type": "execute_result",
          "data": {
            "text/plain": [
              "[<h3 class=\"b87c397a13 fb2f406ff9\" data-testid=\"promotional-banner-content-title\">Quick escape, quality time</h3>,\n",
              " <h3 class=\"b87c397a13 fb2f406ff9\" data-testid=\"promotional-banner-content-title\">Skip the lines, not the memories</h3>,\n",
              " <h3 class=\"b87c397a13 fb2f406ff9\" data-testid=\"promotional-banner-content-title\">Genius flight price alerts</h3>,\n",
              " <h3 class=\"b87c397a13 fb2f406ff9\" data-testid=\"promotional-banner-content-title\">Five seater with booster seats?</h3>,\n",
              " <h3 class=\"b87c397a13 fb2f406ff9\" data-testid=\"promotional-banner-content-title\">Parenting is better with a view</h3>,\n",
              " <h3 class=\"travel_articles__header travel_articles__two_line\" id=\"travel_articles_title_1\">5 of the best hotels in Los Angeles</h3>,\n",
              " <h3 class=\"e7addce19e b7dfb6cc1c\" id=\":R6d2:\">Book now, pay at the property</h3>,\n",
              " <h3 class=\"e7addce19e b7dfb6cc1c\" id=\":Rad2:\">2+ million properties worldwide</h3>,\n",
              " <h3 class=\"e7addce19e b7dfb6cc1c\" id=\":Red2:\">Trusted 24/7 customer service you can rely on</h3>,\n",
              " <h3 class=\"b08850ce41 f546354b44 cc045b173b\">Support</h3>,\n",
              " <h3 class=\"b08850ce41 f546354b44 cc045b173b\">Discover</h3>,\n",
              " <h3 class=\"b08850ce41 f546354b44 cc045b173b\">Terms and settings</h3>,\n",
              " <h3 class=\"b08850ce41 f546354b44 cc045b173b\">Partners</h3>,\n",
              " <h3 class=\"b08850ce41 f546354b44 cc045b173b\">About</h3>,\n",
              " <h3 class=\"rlp-intro-how__title rlp-intro-how__a11y-exp-title\">It starts with a booking</h3>,\n",
              " <h3 class=\"rlp-intro-how__title rlp-intro-how__a11y-exp-title\">Followed by a trip</h3>,\n",
              " <h3 class=\"rlp-intro-how__title rlp-intro-how__a11y-exp-title\">And finally, a review</h3>]"
            ]
          },
          "metadata": {},
          "execution_count": 12
        }
      ]
    },
    {
      "cell_type": "code",
      "source": [
        "def getHotels(hotelName, address, city):\n",
        "  results = []\n",
        "  query = urllib.parse.quote(hotelName+\" \"+address)\n",
        "  destType = getDestId(city)\n",
        "  url = \"https://www.booking.com/searchresults.html?ss=\"+query+\"&dest_id=\"+destType+\"&dest_type=hotel\"\n",
        "  print(url)\n",
        "  res = requests.get(url, headers=headers)\n",
        "  soup = BeautifulSoup(res.text, 'lxml')\n",
        "  properties = soup.select(\"a.bd77474a8e\")\n",
        "  print(properties)\n",
        "  for i in range(len(properties)):\n",
        "    url = properties[i].get(\"href\")\n",
        "    pageName = url.split(\"/\")[-1].split(\".\")[0]\n",
        "    results.append({\n",
        "        \"newPropertyName\": properties[i].find(\"div\").text,\n",
        "        \"pageName\": pageName,\n",
        "        \"url\": url\n",
        "    })\n",
        "\n",
        "  return results"
      ],
      "metadata": {
        "id": "SX4RGO9kDFiO"
      },
      "execution_count": 24,
      "outputs": []
    },
    {
      "cell_type": "code",
      "source": [
        "headers3 = {\n",
        "    \"Accept\":\"*/*\",\n",
        "    \"Accept-Encoding\":\"gzip, deflate, br\",\n",
        "    \"Accept-Language\":\"en-US,en;q=0.9,id;q=0.8,fa;q=0.7,ar;q=0.6,ms;q=0.5,ja;q=0.4\",\n",
        "    \"Content-Length\":\"97\",\n",
        "    \"Content-Type\":\"text/plain;charset=UTF-8\",\n",
        "    \"Cookie\":\"px_init=0; bkng_sso_session=e30; cors_js=1; bkng_expired_hint=eyJib29raW5nX2dsb2JhbCI6W3sibG9naW5faGludCI6MzEzOTY4OTU3OH1dfQ; bkng_sso_ses=e30; pcm_consent=consentedAt%3D2023-10-05T01%3A23%3A23.659Z%26countryCode%3DID%26expiresAt%3D2024-04-02T01%3A23%3A23.659Z%26implicit%3Dfalse%26regionCode%3DKT%26regulation%3Dnone%26legacyRegulation%3Dnone%26consentId%3Db29ee419-b359-4dec-a21f-1c8402c65d3b%26analytical%3Dtrue%26marketing%3Dtrue; bkng_sso_auth=CAIQsOnuTRpykSzmv8JMEafw8OBQmEwHlYkQD1BE/07FzWiRhRk7T+Cl6VTgFnDCiL56Xay0/XGqcNUHKKqKRFihOdZ7YC//cVRbU2pPHoYkTkSQH/6vQU6aieTRoTmgSulVjhsbphBZoqDGAoy73r5buX1/UdTCAI6Z; g_state={'i_p':1698891354300,'i_l':4}; _vs=4496662336926575762:1696476352.8664062:8139239005403879237; 11_srd=%7B%22features%22%3A%5B%7B%22id%22%3A16%7D%5D%2C%22score%22%3A3%2C%22detected%22%3Afalse%7D; _pxhd=5ScEwaqD-7M3tg9IQbg4inyqSLYDbs4aP6KKxtqCUEQyrd8dY8htNPOpNlyFb96Aw56CNB52WbSGAsSqcsEwnw%3D%3D%3A4JFiFATPLE5uHJRl4WH%2FfwQAhZkOfzmsErRiH1zZtamB0rQHUox3ySvAkXgCOIcjOHA%2F5JdLidI5mVgo%2F71mjPmzQ3n8WJCNaswHzTEQf98%3D; bkng=11UmFuZG9tSVYkc2RlIyh9Yaa29%2F3xUOLblgO%2Fz4BDP5vo0AnnJEYr%2BDF1TOIpdko7ZUwuj05DOowpzvFt7fumKjnXxR4fIIIrygGcufWequ77aOTsT9NzXV%2FrOzvcN5h9zX7yyZI1qVrHKg2VYOhdCMQ04NU562w%2BbLAUy66oXtJOXzG%2BKPHVZlxPIb1CMIYpjUu923TUTKrLMTDsthSTFA%3D%3D; lastSeen=0\",\n",
        "    \"Origin\":\"https://www.booking.com\",\n",
        "    \"Referer\":\"https://www.booking.com/\",\n",
        "    \"Sec-Ch-Ua\":'\"Microsoft Edge\";v=\"117\", \"Not;A=Brand\";v=\"8\", \"Chromium\";v=\"117\"',\n",
        "    \"Sec-Ch-Ua-Mobile\":\"?0\",\n",
        "    \"Sec-Ch-Ua-Platform\":\"Windows\",\n",
        "    \"Sec-Fetch-Dest\":\"empty\",\n",
        "    \"Sec-Fetch-Mode\":\"cors\",\n",
        "    \"Sec-Fetch-Site\":\"same-site\",\n",
        "    \"User-Agent\":\"Mozilla/5.0 (Windows NT 10.0; Win64; x64) AppleWebKit/537.36 (KHTML, like Gecko) Chrome/117.0.0.0 Safari/537.36\"\n",
        "}\n",
        "def getDestId(city):\n",
        "  try:\n",
        "    url = \"https://accommodations.booking.com/autocomplete.json\"\n",
        "    params = {\"query\":city,\"pageview_id\":\"bd241b165c8a020d\",\"aid\":304142,\"language\":\"en-us\",\"size\":5}\n",
        "    res = requests.post(url, json=params)\n",
        "    data = res.json()\n",
        "    res = []\n",
        "    if len(data['results']) == 0:\n",
        "      return {\"No result, check your query!\"}\n",
        "    for result in data.get(\"results\", []):\n",
        "      if result.get(\"dest_type\") == \"city\":\n",
        "        res.append(result['dest_id'])\n",
        "    if len(res) > 0:\n",
        "      return res[0]\n",
        "    else:\n",
        "      return {\"There is no destination city type from the result\"}\n",
        "  except:\n",
        "    return {\"Error!\"}"
      ],
      "metadata": {
        "id": "5T1FbMKg_vC1"
      },
      "execution_count": 14,
      "outputs": []
    },
    {
      "cell_type": "code",
      "source": [
        "# getDestId(\"Jakarta\")\n",
        "getHotels(\"Residence Inn\", \"410 North\", \"Chicago\")\n",
        "# getHotels(\"TreePark\", \"\", \"Banjarmasin\")"
      ],
      "metadata": {
        "colab": {
          "base_uri": "https://localhost:8080/"
        },
        "id": "Q7IZBiXMBpiF",
        "outputId": "dbcf53c0-3f43-4ab1-e173-3109a51bb785"
      },
      "execution_count": 25,
      "outputs": [
        {
          "output_type": "stream",
          "name": "stdout",
          "text": [
            "https://www.booking.com/searchresults.html?ss=Residence%20Inn%20410%20North&dest_id=20033173&dest_type=hotel\n",
            "[<a class=\"bd77474a8e\" data-testid=\"title-link\" href=\"https://www.booking.com/hotel/us/the-allerton.html?aid=304142&amp;label=gen173bo-1DCAQoggJCDmhvdGVsXzIwMDMzMTczSDNYA2imAogBAZgBMbgBGMgBDNgBA-gBAfgBA4gCAZgCAqgCBLgC4_DMwQbAAgHSAiQ4ZjFkYzU2YS1hMWVlLTRjMTAtYWQ0OC1kMGZjZTBjOGNhYmTYAgTgAgE&amp;ucfs=1&amp;arphpl=1&amp;dest_id=20033173&amp;dest_type=hotel&amp;group_adults=2&amp;req_adults=2&amp;no_rooms=1&amp;group_children=0&amp;req_children=0&amp;hpos=1&amp;hapos=1&amp;sr_order=popularity&amp;srpvid=a3d46d71809f024b&amp;srepoch=1748187236&amp;from=searchresults\" rel=\"noopener noreferrer\" target=\"_blank\"><div class=\"b87c397a13 a3e0b4ffd1\" data-testid=\"title\">Warwick Allerton Chicago</div><div class=\"bc946a29db\">Opens in new window</div></a>, <a class=\"bd77474a8e\" data-testid=\"title-link\" href=\"https://www.booking.com/hotel/us/riu-plaza-chicago.html?aid=304142&amp;label=gen173bo-1DCAQoggJCDmhvdGVsXzIwMDMzMTczSDNYA2imAogBAZgBMbgBGMgBDNgBA-gBAfgBA4gCAZgCAqgCBLgC4_DMwQbAAgHSAiQ4ZjFkYzU2YS1hMWVlLTRjMTAtYWQ0OC1kMGZjZTBjOGNhYmTYAgTgAgE&amp;ucfs=1&amp;arphpl=1&amp;dest_id=20033173&amp;dest_type=hotel&amp;group_adults=2&amp;req_adults=2&amp;no_rooms=1&amp;group_children=0&amp;req_children=0&amp;hpos=2&amp;hapos=2&amp;sr_order=popularity&amp;srpvid=a3d46d71809f024b&amp;srepoch=1748187236&amp;from=searchresults\" rel=\"noopener noreferrer\" target=\"_blank\"><div class=\"b87c397a13 a3e0b4ffd1\" data-testid=\"title\">Riu Plaza Chicago</div><div class=\"bc946a29db\">Opens in new window</div></a>, <a class=\"bd77474a8e\" data-testid=\"title-link\" href=\"https://www.booking.com/hotel/us/arlington-house-international-hostel.html?aid=304142&amp;label=gen173bo-1DCAQoggJCDmhvdGVsXzIwMDMzMTczSDNYA2imAogBAZgBMbgBGMgBDNgBA-gBAfgBA4gCAZgCAqgCBLgC4_DMwQbAAgHSAiQ4ZjFkYzU2YS1hMWVlLTRjMTAtYWQ0OC1kMGZjZTBjOGNhYmTYAgTgAgE&amp;ucfs=1&amp;arphpl=1&amp;dest_id=20033173&amp;dest_type=hotel&amp;group_adults=2&amp;req_adults=2&amp;no_rooms=1&amp;group_children=0&amp;req_children=0&amp;hpos=3&amp;hapos=3&amp;sr_order=popularity&amp;srpvid=a3d46d71809f024b&amp;srepoch=1748187236&amp;from=searchresults\" rel=\"noopener noreferrer\" target=\"_blank\"><div class=\"b87c397a13 a3e0b4ffd1\" data-testid=\"title\">Chicago Getaway Hostel</div><div class=\"bc946a29db\">Opens in new window</div></a>, <a class=\"bd77474a8e\" data-testid=\"title-link\" href=\"https://www.booking.com/hotel/us/the-chicago-river.html?aid=304142&amp;label=gen173bo-1DCAQoggJCDmhvdGVsXzIwMDMzMTczSDNYA2imAogBAZgBMbgBGMgBDNgBA-gBAfgBA4gCAZgCAqgCBLgC4_DMwQbAAgHSAiQ4ZjFkYzU2YS1hMWVlLTRjMTAtYWQ0OC1kMGZjZTBjOGNhYmTYAgTgAgE&amp;ucfs=1&amp;arphpl=1&amp;dest_id=20033173&amp;dest_type=hotel&amp;group_adults=2&amp;req_adults=2&amp;no_rooms=1&amp;group_children=0&amp;req_children=0&amp;hpos=4&amp;hapos=4&amp;sr_order=popularity&amp;srpvid=a3d46d71809f024b&amp;srepoch=1748187236&amp;from=searchresults\" rel=\"noopener noreferrer\" target=\"_blank\"><div class=\"b87c397a13 a3e0b4ffd1\" data-testid=\"title\">River Hotel</div><div class=\"bc946a29db\">Opens in new window</div></a>, <a class=\"bd77474a8e\" data-testid=\"title-link\" href=\"https://www.booking.com/hotel/us/congress-plaza.html?aid=304142&amp;label=gen173bo-1DCAQoggJCDmhvdGVsXzIwMDMzMTczSDNYA2imAogBAZgBMbgBGMgBDNgBA-gBAfgBA4gCAZgCAqgCBLgC4_DMwQbAAgHSAiQ4ZjFkYzU2YS1hMWVlLTRjMTAtYWQ0OC1kMGZjZTBjOGNhYmTYAgTgAgE&amp;ucfs=1&amp;arphpl=1&amp;dest_id=20033173&amp;dest_type=hotel&amp;group_adults=2&amp;req_adults=2&amp;no_rooms=1&amp;group_children=0&amp;req_children=0&amp;hpos=5&amp;hapos=5&amp;sr_order=popularity&amp;srpvid=a3d46d71809f024b&amp;srepoch=1748187236&amp;from=searchresults\" rel=\"noopener noreferrer\" target=\"_blank\"><div class=\"b87c397a13 a3e0b4ffd1\" data-testid=\"title\">Congress Plaza Hotel Chicago</div><div class=\"bc946a29db\">Opens in new window</div></a>, <a class=\"bd77474a8e\" data-testid=\"title-link\" href=\"https://www.booking.com/hotel/us/hilton-garden-inn-chicago-downtown-magnificent-mile.html?aid=304142&amp;label=gen173bo-1DCAQoggJCDmhvdGVsXzIwMDMzMTczSDNYA2imAogBAZgBMbgBGMgBDNgBA-gBAfgBA4gCAZgCAqgCBLgC4_DMwQbAAgHSAiQ4ZjFkYzU2YS1hMWVlLTRjMTAtYWQ0OC1kMGZjZTBjOGNhYmTYAgTgAgE&amp;ucfs=1&amp;arphpl=1&amp;dest_id=20033173&amp;dest_type=hotel&amp;group_adults=2&amp;req_adults=2&amp;no_rooms=1&amp;group_children=0&amp;req_children=0&amp;hpos=6&amp;hapos=6&amp;sr_order=popularity&amp;srpvid=a3d46d71809f024b&amp;srepoch=1748187236&amp;from_sustainable_property_sr=1&amp;from=searchresults\" rel=\"noopener noreferrer\" target=\"_blank\"><div class=\"b87c397a13 a3e0b4ffd1\" data-testid=\"title\">Hilton Garden Inn Chicago Downtown/Magnificent Mile</div><div class=\"bc946a29db\">Opens in new window</div></a>, <a class=\"bd77474a8e\" data-testid=\"title-link\" href=\"https://www.booking.com/hotel/us/sonesta-es-suites-chicago-downtown-magnificient-mile.html?aid=304142&amp;label=gen173bo-1DCAQoggJCDmhvdGVsXzIwMDMzMTczSDNYA2imAogBAZgBMbgBGMgBDNgBA-gBAfgBA4gCAZgCAqgCBLgC4_DMwQbAAgHSAiQ4ZjFkYzU2YS1hMWVlLTRjMTAtYWQ0OC1kMGZjZTBjOGNhYmTYAgTgAgE&amp;ucfs=1&amp;arphpl=1&amp;dest_id=20033173&amp;dest_type=hotel&amp;group_adults=2&amp;req_adults=2&amp;no_rooms=1&amp;group_children=0&amp;req_children=0&amp;hpos=7&amp;hapos=7&amp;sr_order=popularity&amp;srpvid=a3d46d71809f024b&amp;srepoch=1748187236&amp;from=searchresults\" rel=\"noopener noreferrer\" target=\"_blank\"><div class=\"b87c397a13 a3e0b4ffd1\" data-testid=\"title\">Sonesta ES Suites Chicago Downtown Magnificent Mile Medical</div><div class=\"bc946a29db\">Opens in new window</div></a>, <a class=\"bd77474a8e\" data-testid=\"title-link\" href=\"https://www.booking.com/hotel/us/ace-chicago.html?aid=304142&amp;label=gen173bo-1DCAQoggJCDmhvdGVsXzIwMDMzMTczSDNYA2imAogBAZgBMbgBGMgBDNgBA-gBAfgBA4gCAZgCAqgCBLgC4_DMwQbAAgHSAiQ4ZjFkYzU2YS1hMWVlLTRjMTAtYWQ0OC1kMGZjZTBjOGNhYmTYAgTgAgE&amp;ucfs=1&amp;arphpl=1&amp;dest_id=20033173&amp;dest_type=hotel&amp;group_adults=2&amp;req_adults=2&amp;no_rooms=1&amp;group_children=0&amp;req_children=0&amp;hpos=8&amp;hapos=8&amp;sr_order=popularity&amp;srpvid=a3d46d71809f024b&amp;srepoch=1748187236&amp;from=searchresults\" rel=\"noopener noreferrer\" target=\"_blank\"><div class=\"b87c397a13 a3e0b4ffd1\" data-testid=\"title\">The Emily Hotel</div><div class=\"bc946a29db\">Opens in new window</div></a>, <a class=\"bd77474a8e\" data-testid=\"title-link\" href=\"https://www.booking.com/hotel/us/aloft-chicago-mag-mile.html?aid=304142&amp;label=gen173bo-1DCAQoggJCDmhvdGVsXzIwMDMzMTczSDNYA2imAogBAZgBMbgBGMgBDNgBA-gBAfgBA4gCAZgCAqgCBLgC4_DMwQbAAgHSAiQ4ZjFkYzU2YS1hMWVlLTRjMTAtYWQ0OC1kMGZjZTBjOGNhYmTYAgTgAgE&amp;ucfs=1&amp;arphpl=1&amp;dest_id=20033173&amp;dest_type=hotel&amp;group_adults=2&amp;req_adults=2&amp;no_rooms=1&amp;group_children=0&amp;req_children=0&amp;hpos=9&amp;hapos=9&amp;sr_order=popularity&amp;srpvid=a3d46d71809f024b&amp;srepoch=1748187236&amp;from=searchresults\" rel=\"noopener noreferrer\" target=\"_blank\"><div class=\"b87c397a13 a3e0b4ffd1\" data-testid=\"title\">Aloft Chicago Mag Mile</div><div class=\"bc946a29db\">Opens in new window</div></a>, <a class=\"bd77474a8e\" data-testid=\"title-link\" href=\"https://www.booking.com/hotel/us/c-l-chicago-illinois.html?aid=304142&amp;label=gen173bo-1DCAQoggJCDmhvdGVsXzIwMDMzMTczSDNYA2imAogBAZgBMbgBGMgBDNgBA-gBAfgBA4gCAZgCAqgCBLgC4_DMwQbAAgHSAiQ4ZjFkYzU2YS1hMWVlLTRjMTAtYWQ0OC1kMGZjZTBjOGNhYmTYAgTgAgE&amp;ucfs=1&amp;arphpl=1&amp;dest_id=20033173&amp;dest_type=hotel&amp;group_adults=2&amp;req_adults=2&amp;no_rooms=1&amp;group_children=0&amp;req_children=0&amp;hpos=10&amp;hapos=10&amp;sr_order=popularity&amp;srpvid=a3d46d71809f024b&amp;srepoch=1748187236&amp;from=searchresults\" rel=\"noopener noreferrer\" target=\"_blank\"><div class=\"b87c397a13 a3e0b4ffd1\" data-testid=\"title\">Central Loop Hotel</div><div class=\"bc946a29db\">Opens in new window</div></a>, <a class=\"bd77474a8e\" data-testid=\"title-link\" href=\"https://www.booking.com/hotel/us/w-chicago-lakeshore.html?aid=304142&amp;label=gen173bo-1DCAQoggJCDmhvdGVsXzIwMDMzMTczSDNYA2imAogBAZgBMbgBGMgBDNgBA-gBAfgBA4gCAZgCAqgCBLgC4_DMwQbAAgHSAiQ4ZjFkYzU2YS1hMWVlLTRjMTAtYWQ0OC1kMGZjZTBjOGNhYmTYAgTgAgE&amp;ucfs=1&amp;arphpl=1&amp;dest_id=20033173&amp;dest_type=hotel&amp;group_adults=2&amp;req_adults=2&amp;no_rooms=1&amp;group_children=0&amp;req_children=0&amp;hpos=11&amp;hapos=11&amp;sr_order=popularity&amp;srpvid=a3d46d71809f024b&amp;srepoch=1748187236&amp;from=searchresults\" rel=\"noopener noreferrer\" target=\"_blank\"><div class=\"b87c397a13 a3e0b4ffd1\" data-testid=\"title\">The Wade</div><div class=\"bc946a29db\">Opens in new window</div></a>, <a class=\"bd77474a8e\" data-testid=\"title-link\" href=\"https://www.booking.com/hotel/us/hotel-saint-clair-magnificent-mile.html?aid=304142&amp;label=gen173bo-1DCAQoggJCDmhvdGVsXzIwMDMzMTczSDNYA2imAogBAZgBMbgBGMgBDNgBA-gBAfgBA4gCAZgCAqgCBLgC4_DMwQbAAgHSAiQ4ZjFkYzU2YS1hMWVlLTRjMTAtYWQ0OC1kMGZjZTBjOGNhYmTYAgTgAgE&amp;ucfs=1&amp;arphpl=1&amp;dest_id=20033173&amp;dest_type=hotel&amp;group_adults=2&amp;req_adults=2&amp;no_rooms=1&amp;group_children=0&amp;req_children=0&amp;hpos=12&amp;hapos=12&amp;sr_order=popularity&amp;srpvid=a3d46d71809f024b&amp;srepoch=1748187236&amp;from=searchresults\" rel=\"noopener noreferrer\" target=\"_blank\"><div class=\"b87c397a13 a3e0b4ffd1\" data-testid=\"title\">Hotel Saint Clair - Magnificent Mile</div><div class=\"bc946a29db\">Opens in new window</div></a>, <a class=\"bd77474a8e\" data-testid=\"title-link\" href=\"https://www.booking.com/hotel/us/godfrey-chicago.html?aid=304142&amp;label=gen173bo-1DCAQoggJCDmhvdGVsXzIwMDMzMTczSDNYA2imAogBAZgBMbgBGMgBDNgBA-gBAfgBA4gCAZgCAqgCBLgC4_DMwQbAAgHSAiQ4ZjFkYzU2YS1hMWVlLTRjMTAtYWQ0OC1kMGZjZTBjOGNhYmTYAgTgAgE&amp;ucfs=1&amp;arphpl=1&amp;dest_id=20033173&amp;dest_type=hotel&amp;group_adults=2&amp;req_adults=2&amp;no_rooms=1&amp;group_children=0&amp;req_children=0&amp;hpos=13&amp;hapos=13&amp;sr_order=popularity&amp;srpvid=a3d46d71809f024b&amp;srepoch=1748187236&amp;from=searchresults\" rel=\"noopener noreferrer\" target=\"_blank\"><div class=\"b87c397a13 a3e0b4ffd1\" data-testid=\"title\">Godfrey Hotel Chicago</div><div class=\"bc946a29db\">Opens in new window</div></a>, <a class=\"bd77474a8e\" data-testid=\"title-link\" href=\"https://www.booking.com/hotel/us/embassy-suites-chicago-downtown.html?aid=304142&amp;label=gen173bo-1DCAQoggJCDmhvdGVsXzIwMDMzMTczSDNYA2imAogBAZgBMbgBGMgBDNgBA-gBAfgBA4gCAZgCAqgCBLgC4_DMwQbAAgHSAiQ4ZjFkYzU2YS1hMWVlLTRjMTAtYWQ0OC1kMGZjZTBjOGNhYmTYAgTgAgE&amp;ucfs=1&amp;arphpl=1&amp;dest_id=20033173&amp;dest_type=hotel&amp;group_adults=2&amp;req_adults=2&amp;no_rooms=1&amp;group_children=0&amp;req_children=0&amp;hpos=14&amp;hapos=14&amp;sr_order=popularity&amp;srpvid=a3d46d71809f024b&amp;srepoch=1748187236&amp;from_sustainable_property_sr=1&amp;from=searchresults\" rel=\"noopener noreferrer\" target=\"_blank\"><div class=\"b87c397a13 a3e0b4ffd1\" data-testid=\"title\">Embassy Suites Chicago - Downtown River North</div><div class=\"bc946a29db\">Opens in new window</div></a>, <a class=\"bd77474a8e\" data-testid=\"title-link\" href=\"https://www.booking.com/hotel/us/freehand-chicago.html?aid=304142&amp;label=gen173bo-1DCAQoggJCDmhvdGVsXzIwMDMzMTczSDNYA2imAogBAZgBMbgBGMgBDNgBA-gBAfgBA4gCAZgCAqgCBLgC4_DMwQbAAgHSAiQ4ZjFkYzU2YS1hMWVlLTRjMTAtYWQ0OC1kMGZjZTBjOGNhYmTYAgTgAgE&amp;ucfs=1&amp;arphpl=1&amp;dest_id=20033173&amp;dest_type=hotel&amp;group_adults=2&amp;req_adults=2&amp;no_rooms=1&amp;group_children=0&amp;req_children=0&amp;hpos=15&amp;hapos=15&amp;sr_order=popularity&amp;srpvid=a3d46d71809f024b&amp;srepoch=1748187236&amp;from=searchresults\" rel=\"noopener noreferrer\" target=\"_blank\"><div class=\"b87c397a13 a3e0b4ffd1\" data-testid=\"title\">Freehand Chicago</div><div class=\"bc946a29db\">Opens in new window</div></a>, <a class=\"bd77474a8e\" data-testid=\"title-link\" href=\"https://www.booking.com/hotel/us/citizenm-chicago-downtown.html?aid=304142&amp;label=gen173bo-1DCAQoggJCDmhvdGVsXzIwMDMzMTczSDNYA2imAogBAZgBMbgBGMgBDNgBA-gBAfgBA4gCAZgCAqgCBLgC4_DMwQbAAgHSAiQ4ZjFkYzU2YS1hMWVlLTRjMTAtYWQ0OC1kMGZjZTBjOGNhYmTYAgTgAgE&amp;ucfs=1&amp;arphpl=1&amp;dest_id=20033173&amp;dest_type=hotel&amp;group_adults=2&amp;req_adults=2&amp;no_rooms=1&amp;group_children=0&amp;req_children=0&amp;hpos=16&amp;hapos=16&amp;sr_order=popularity&amp;srpvid=a3d46d71809f024b&amp;srepoch=1748187236&amp;from_sustainable_property_sr=1&amp;from=searchresults\" rel=\"noopener noreferrer\" target=\"_blank\"><div class=\"b87c397a13 a3e0b4ffd1\" data-testid=\"title\">citizenM Chicago Downtown</div><div class=\"bc946a29db\">Opens in new window</div></a>, <a class=\"bd77474a8e\" data-testid=\"title-link\" href=\"https://www.booking.com/hotel/us/d-spa-chicago-illinois.html?aid=304142&amp;label=gen173bo-1DCAQoggJCDmhvdGVsXzIwMDMzMTczSDNYA2imAogBAZgBMbgBGMgBDNgBA-gBAfgBA4gCAZgCAqgCBLgC4_DMwQbAAgHSAiQ4ZjFkYzU2YS1hMWVlLTRjMTAtYWQ0OC1kMGZjZTBjOGNhYmTYAgTgAgE&amp;ucfs=1&amp;arphpl=1&amp;dest_id=20033173&amp;dest_type=hotel&amp;group_adults=2&amp;req_adults=2&amp;no_rooms=1&amp;group_children=0&amp;req_children=0&amp;hpos=17&amp;hapos=17&amp;sr_order=popularity&amp;srpvid=a3d46d71809f024b&amp;srepoch=1748187236&amp;from_sustainable_property_sr=1&amp;from=searchresults\" rel=\"noopener noreferrer\" target=\"_blank\"><div class=\"b87c397a13 a3e0b4ffd1\" data-testid=\"title\">Eurostars Magnificent Mile</div><div class=\"bc946a29db\">Opens in new window</div></a>, <a class=\"bd77474a8e\" data-testid=\"title-link\" href=\"https://www.booking.com/hotel/us/virgin-hotels-chicago-chicago.html?aid=304142&amp;label=gen173bo-1DCAQoggJCDmhvdGVsXzIwMDMzMTczSDNYA2imAogBAZgBMbgBGMgBDNgBA-gBAfgBA4gCAZgCAqgCBLgC4_DMwQbAAgHSAiQ4ZjFkYzU2YS1hMWVlLTRjMTAtYWQ0OC1kMGZjZTBjOGNhYmTYAgTgAgE&amp;ucfs=1&amp;arphpl=1&amp;dest_id=20033173&amp;dest_type=hotel&amp;group_adults=2&amp;req_adults=2&amp;no_rooms=1&amp;group_children=0&amp;req_children=0&amp;hpos=18&amp;hapos=18&amp;sr_order=popularity&amp;srpvid=a3d46d71809f024b&amp;srepoch=1748187236&amp;from_sustainable_property_sr=1&amp;from=searchresults\" rel=\"noopener noreferrer\" target=\"_blank\"><div class=\"b87c397a13 a3e0b4ffd1\" data-testid=\"title\">Virgin Hotels Chicago</div><div class=\"bc946a29db\">Opens in new window</div></a>, <a class=\"bd77474a8e\" data-testid=\"title-link\" href=\"https://www.booking.com/hotel/us/hyatt-place-chicago-47-downtown-the-loop.html?aid=304142&amp;label=gen173bo-1DCAQoggJCDmhvdGVsXzIwMDMzMTczSDNYA2imAogBAZgBMbgBGMgBDNgBA-gBAfgBA4gCAZgCAqgCBLgC4_DMwQbAAgHSAiQ4ZjFkYzU2YS1hMWVlLTRjMTAtYWQ0OC1kMGZjZTBjOGNhYmTYAgTgAgE&amp;ucfs=1&amp;arphpl=1&amp;dest_id=20033173&amp;dest_type=hotel&amp;group_adults=2&amp;req_adults=2&amp;no_rooms=1&amp;group_children=0&amp;req_children=0&amp;hpos=19&amp;hapos=19&amp;sr_order=popularity&amp;srpvid=a3d46d71809f024b&amp;srepoch=1748187236&amp;from_sustainable_property_sr=1&amp;from=searchresults\" rel=\"noopener noreferrer\" target=\"_blank\"><div class=\"b87c397a13 a3e0b4ffd1\" data-testid=\"title\">Hyatt Place Chicago/Downtown - The Loop</div><div class=\"bc946a29db\">Opens in new window</div></a>, <a class=\"bd77474a8e\" data-testid=\"title-link\" href=\"https://www.booking.com/hotel/us/home2-suites-by-hilton-chicago-river-north.html?aid=304142&amp;label=gen173bo-1DCAQoggJCDmhvdGVsXzIwMDMzMTczSDNYA2imAogBAZgBMbgBGMgBDNgBA-gBAfgBA4gCAZgCAqgCBLgC4_DMwQbAAgHSAiQ4ZjFkYzU2YS1hMWVlLTRjMTAtYWQ0OC1kMGZjZTBjOGNhYmTYAgTgAgE&amp;ucfs=1&amp;arphpl=1&amp;dest_id=20033173&amp;dest_type=hotel&amp;group_adults=2&amp;req_adults=2&amp;no_rooms=1&amp;group_children=0&amp;req_children=0&amp;hpos=20&amp;hapos=20&amp;sr_order=popularity&amp;srpvid=a3d46d71809f024b&amp;srepoch=1748187236&amp;from_sustainable_property_sr=1&amp;from=searchresults\" rel=\"noopener noreferrer\" target=\"_blank\"><div class=\"b87c397a13 a3e0b4ffd1\" data-testid=\"title\">Home2 Suites By Hilton Chicago River North</div><div class=\"bc946a29db\">Opens in new window</div></a>, <a class=\"bd77474a8e\" data-testid=\"title-link\" href=\"https://www.booking.com/hotel/us/b-w-river-north-chicago-illinois.html?aid=304142&amp;label=gen173bo-1DCAQoggJCDmhvdGVsXzIwMDMzMTczSDNYA2imAogBAZgBMbgBGMgBDNgBA-gBAfgBA4gCAZgCAqgCBLgC4_DMwQbAAgHSAiQ4ZjFkYzU2YS1hMWVlLTRjMTAtYWQ0OC1kMGZjZTBjOGNhYmTYAgTgAgE&amp;ucfs=1&amp;arphpl=1&amp;dest_id=20033173&amp;dest_type=hotel&amp;group_adults=2&amp;req_adults=2&amp;no_rooms=1&amp;group_children=0&amp;req_children=0&amp;hpos=21&amp;hapos=21&amp;sr_order=popularity&amp;srpvid=a3d46d71809f024b&amp;srepoch=1748187236&amp;from=searchresults\" rel=\"noopener noreferrer\" target=\"_blank\"><div class=\"b87c397a13 a3e0b4ffd1\" data-testid=\"title\">Best Western Chicago Downtown-River North</div><div class=\"bc946a29db\">Opens in new window</div></a>, <a class=\"bd77474a8e\" data-testid=\"title-link\" href=\"https://www.booking.com/hotel/us/club-quarters-central-loop.html?aid=304142&amp;label=gen173bo-1DCAQoggJCDmhvdGVsXzIwMDMzMTczSDNYA2imAogBAZgBMbgBGMgBDNgBA-gBAfgBA4gCAZgCAqgCBLgC4_DMwQbAAgHSAiQ4ZjFkYzU2YS1hMWVlLTRjMTAtYWQ0OC1kMGZjZTBjOGNhYmTYAgTgAgE&amp;ucfs=1&amp;arphpl=1&amp;dest_id=20033173&amp;dest_type=hotel&amp;group_adults=2&amp;req_adults=2&amp;no_rooms=1&amp;group_children=0&amp;req_children=0&amp;hpos=22&amp;hapos=22&amp;sr_order=popularity&amp;srpvid=a3d46d71809f024b&amp;srepoch=1748187236&amp;from=searchresults\" rel=\"noopener noreferrer\" target=\"_blank\"><div class=\"b87c397a13 a3e0b4ffd1\" data-testid=\"title\">Club Quarters Hotel Central Loop, Chicago</div><div class=\"bc946a29db\">Opens in new window</div></a>, <a class=\"bd77474a8e\" data-testid=\"title-link\" href=\"https://www.booking.com/hotel/us/club-quarters-wacker-at-michigan.html?aid=304142&amp;label=gen173bo-1DCAQoggJCDmhvdGVsXzIwMDMzMTczSDNYA2imAogBAZgBMbgBGMgBDNgBA-gBAfgBA4gCAZgCAqgCBLgC4_DMwQbAAgHSAiQ4ZjFkYzU2YS1hMWVlLTRjMTAtYWQ0OC1kMGZjZTBjOGNhYmTYAgTgAgE&amp;ucfs=1&amp;arphpl=1&amp;dest_id=20033173&amp;dest_type=hotel&amp;group_adults=2&amp;req_adults=2&amp;no_rooms=1&amp;group_children=0&amp;req_children=0&amp;hpos=23&amp;hapos=23&amp;sr_order=popularity&amp;srpvid=a3d46d71809f024b&amp;srepoch=1748187236&amp;from=searchresults\" rel=\"noopener noreferrer\" target=\"_blank\"><div class=\"b87c397a13 a3e0b4ffd1\" data-testid=\"title\">Club Quarters Hotel Wacker at Michigan, Chicago</div><div class=\"bc946a29db\">Opens in new window</div></a>, <a class=\"bd77474a8e\" data-testid=\"title-link\" href=\"https://www.booking.com/hotel/us/la-quinta-inn-chicago.html?aid=304142&amp;label=gen173bo-1DCAQoggJCDmhvdGVsXzIwMDMzMTczSDNYA2imAogBAZgBMbgBGMgBDNgBA-gBAfgBA4gCAZgCAqgCBLgC4_DMwQbAAgHSAiQ4ZjFkYzU2YS1hMWVlLTRjMTAtYWQ0OC1kMGZjZTBjOGNhYmTYAgTgAgE&amp;ucfs=1&amp;arphpl=1&amp;dest_id=20033173&amp;dest_type=hotel&amp;group_adults=2&amp;req_adults=2&amp;no_rooms=1&amp;group_children=0&amp;req_children=0&amp;hpos=24&amp;hapos=24&amp;sr_order=popularity&amp;srpvid=a3d46d71809f024b&amp;srepoch=1748187236&amp;from=searchresults\" rel=\"noopener noreferrer\" target=\"_blank\"><div class=\"b87c397a13 a3e0b4ffd1\" data-testid=\"title\">La Quinta by Wyndham Chicago Downtown</div><div class=\"bc946a29db\">Opens in new window</div></a>, <a class=\"bd77474a8e\" data-testid=\"title-link\" href=\"https://www.booking.com/hotel/us/radisson-blu-aqua-chicago.html?aid=304142&amp;label=gen173bo-1DCAQoggJCDmhvdGVsXzIwMDMzMTczSDNYA2imAogBAZgBMbgBGMgBDNgBA-gBAfgBA4gCAZgCAqgCBLgC4_DMwQbAAgHSAiQ4ZjFkYzU2YS1hMWVlLTRjMTAtYWQ0OC1kMGZjZTBjOGNhYmTYAgTgAgE&amp;ucfs=1&amp;arphpl=1&amp;dest_id=20033173&amp;dest_type=hotel&amp;group_adults=2&amp;req_adults=2&amp;no_rooms=1&amp;group_children=0&amp;req_children=0&amp;hpos=25&amp;hapos=25&amp;sr_order=popularity&amp;srpvid=a3d46d71809f024b&amp;srepoch=1748187236&amp;from_sustainable_property_sr=1&amp;from=searchresults\" rel=\"noopener noreferrer\" target=\"_blank\"><div class=\"b87c397a13 a3e0b4ffd1\" data-testid=\"title\">Radisson Blu Aqua Hotel, Chicago</div><div class=\"bc946a29db\">Opens in new window</div></a>]\n"
          ]
        },
        {
          "output_type": "execute_result",
          "data": {
            "text/plain": [
              "[{'newPropertyName': 'Warwick Allerton Chicago',\n",
              "  'pageName': 'the-allerton',\n",
              "  'url': 'https://www.booking.com/hotel/us/the-allerton.html?aid=304142&label=gen173bo-1DCAQoggJCDmhvdGVsXzIwMDMzMTczSDNYA2imAogBAZgBMbgBGMgBDNgBA-gBAfgBA4gCAZgCAqgCBLgC4_DMwQbAAgHSAiQ4ZjFkYzU2YS1hMWVlLTRjMTAtYWQ0OC1kMGZjZTBjOGNhYmTYAgTgAgE&ucfs=1&arphpl=1&dest_id=20033173&dest_type=hotel&group_adults=2&req_adults=2&no_rooms=1&group_children=0&req_children=0&hpos=1&hapos=1&sr_order=popularity&srpvid=a3d46d71809f024b&srepoch=1748187236&from=searchresults'},\n",
              " {'newPropertyName': 'Riu Plaza Chicago',\n",
              "  'pageName': 'riu-plaza-chicago',\n",
              "  'url': 'https://www.booking.com/hotel/us/riu-plaza-chicago.html?aid=304142&label=gen173bo-1DCAQoggJCDmhvdGVsXzIwMDMzMTczSDNYA2imAogBAZgBMbgBGMgBDNgBA-gBAfgBA4gCAZgCAqgCBLgC4_DMwQbAAgHSAiQ4ZjFkYzU2YS1hMWVlLTRjMTAtYWQ0OC1kMGZjZTBjOGNhYmTYAgTgAgE&ucfs=1&arphpl=1&dest_id=20033173&dest_type=hotel&group_adults=2&req_adults=2&no_rooms=1&group_children=0&req_children=0&hpos=2&hapos=2&sr_order=popularity&srpvid=a3d46d71809f024b&srepoch=1748187236&from=searchresults'},\n",
              " {'newPropertyName': 'Chicago Getaway Hostel',\n",
              "  'pageName': 'arlington-house-international-hostel',\n",
              "  'url': 'https://www.booking.com/hotel/us/arlington-house-international-hostel.html?aid=304142&label=gen173bo-1DCAQoggJCDmhvdGVsXzIwMDMzMTczSDNYA2imAogBAZgBMbgBGMgBDNgBA-gBAfgBA4gCAZgCAqgCBLgC4_DMwQbAAgHSAiQ4ZjFkYzU2YS1hMWVlLTRjMTAtYWQ0OC1kMGZjZTBjOGNhYmTYAgTgAgE&ucfs=1&arphpl=1&dest_id=20033173&dest_type=hotel&group_adults=2&req_adults=2&no_rooms=1&group_children=0&req_children=0&hpos=3&hapos=3&sr_order=popularity&srpvid=a3d46d71809f024b&srepoch=1748187236&from=searchresults'},\n",
              " {'newPropertyName': 'River Hotel',\n",
              "  'pageName': 'the-chicago-river',\n",
              "  'url': 'https://www.booking.com/hotel/us/the-chicago-river.html?aid=304142&label=gen173bo-1DCAQoggJCDmhvdGVsXzIwMDMzMTczSDNYA2imAogBAZgBMbgBGMgBDNgBA-gBAfgBA4gCAZgCAqgCBLgC4_DMwQbAAgHSAiQ4ZjFkYzU2YS1hMWVlLTRjMTAtYWQ0OC1kMGZjZTBjOGNhYmTYAgTgAgE&ucfs=1&arphpl=1&dest_id=20033173&dest_type=hotel&group_adults=2&req_adults=2&no_rooms=1&group_children=0&req_children=0&hpos=4&hapos=4&sr_order=popularity&srpvid=a3d46d71809f024b&srepoch=1748187236&from=searchresults'},\n",
              " {'newPropertyName': 'Congress Plaza Hotel Chicago',\n",
              "  'pageName': 'congress-plaza',\n",
              "  'url': 'https://www.booking.com/hotel/us/congress-plaza.html?aid=304142&label=gen173bo-1DCAQoggJCDmhvdGVsXzIwMDMzMTczSDNYA2imAogBAZgBMbgBGMgBDNgBA-gBAfgBA4gCAZgCAqgCBLgC4_DMwQbAAgHSAiQ4ZjFkYzU2YS1hMWVlLTRjMTAtYWQ0OC1kMGZjZTBjOGNhYmTYAgTgAgE&ucfs=1&arphpl=1&dest_id=20033173&dest_type=hotel&group_adults=2&req_adults=2&no_rooms=1&group_children=0&req_children=0&hpos=5&hapos=5&sr_order=popularity&srpvid=a3d46d71809f024b&srepoch=1748187236&from=searchresults'},\n",
              " {'newPropertyName': 'Hilton Garden Inn Chicago Downtown/Magnificent Mile',\n",
              "  'pageName': 'hilton-garden-inn-chicago-downtown-magnificent-mile',\n",
              "  'url': 'https://www.booking.com/hotel/us/hilton-garden-inn-chicago-downtown-magnificent-mile.html?aid=304142&label=gen173bo-1DCAQoggJCDmhvdGVsXzIwMDMzMTczSDNYA2imAogBAZgBMbgBGMgBDNgBA-gBAfgBA4gCAZgCAqgCBLgC4_DMwQbAAgHSAiQ4ZjFkYzU2YS1hMWVlLTRjMTAtYWQ0OC1kMGZjZTBjOGNhYmTYAgTgAgE&ucfs=1&arphpl=1&dest_id=20033173&dest_type=hotel&group_adults=2&req_adults=2&no_rooms=1&group_children=0&req_children=0&hpos=6&hapos=6&sr_order=popularity&srpvid=a3d46d71809f024b&srepoch=1748187236&from_sustainable_property_sr=1&from=searchresults'},\n",
              " {'newPropertyName': 'Sonesta ES Suites Chicago Downtown Magnificent Mile Medical',\n",
              "  'pageName': 'sonesta-es-suites-chicago-downtown-magnificient-mile',\n",
              "  'url': 'https://www.booking.com/hotel/us/sonesta-es-suites-chicago-downtown-magnificient-mile.html?aid=304142&label=gen173bo-1DCAQoggJCDmhvdGVsXzIwMDMzMTczSDNYA2imAogBAZgBMbgBGMgBDNgBA-gBAfgBA4gCAZgCAqgCBLgC4_DMwQbAAgHSAiQ4ZjFkYzU2YS1hMWVlLTRjMTAtYWQ0OC1kMGZjZTBjOGNhYmTYAgTgAgE&ucfs=1&arphpl=1&dest_id=20033173&dest_type=hotel&group_adults=2&req_adults=2&no_rooms=1&group_children=0&req_children=0&hpos=7&hapos=7&sr_order=popularity&srpvid=a3d46d71809f024b&srepoch=1748187236&from=searchresults'},\n",
              " {'newPropertyName': 'The Emily Hotel',\n",
              "  'pageName': 'ace-chicago',\n",
              "  'url': 'https://www.booking.com/hotel/us/ace-chicago.html?aid=304142&label=gen173bo-1DCAQoggJCDmhvdGVsXzIwMDMzMTczSDNYA2imAogBAZgBMbgBGMgBDNgBA-gBAfgBA4gCAZgCAqgCBLgC4_DMwQbAAgHSAiQ4ZjFkYzU2YS1hMWVlLTRjMTAtYWQ0OC1kMGZjZTBjOGNhYmTYAgTgAgE&ucfs=1&arphpl=1&dest_id=20033173&dest_type=hotel&group_adults=2&req_adults=2&no_rooms=1&group_children=0&req_children=0&hpos=8&hapos=8&sr_order=popularity&srpvid=a3d46d71809f024b&srepoch=1748187236&from=searchresults'},\n",
              " {'newPropertyName': 'Aloft Chicago Mag Mile',\n",
              "  'pageName': 'aloft-chicago-mag-mile',\n",
              "  'url': 'https://www.booking.com/hotel/us/aloft-chicago-mag-mile.html?aid=304142&label=gen173bo-1DCAQoggJCDmhvdGVsXzIwMDMzMTczSDNYA2imAogBAZgBMbgBGMgBDNgBA-gBAfgBA4gCAZgCAqgCBLgC4_DMwQbAAgHSAiQ4ZjFkYzU2YS1hMWVlLTRjMTAtYWQ0OC1kMGZjZTBjOGNhYmTYAgTgAgE&ucfs=1&arphpl=1&dest_id=20033173&dest_type=hotel&group_adults=2&req_adults=2&no_rooms=1&group_children=0&req_children=0&hpos=9&hapos=9&sr_order=popularity&srpvid=a3d46d71809f024b&srepoch=1748187236&from=searchresults'},\n",
              " {'newPropertyName': 'Central Loop Hotel',\n",
              "  'pageName': 'c-l-chicago-illinois',\n",
              "  'url': 'https://www.booking.com/hotel/us/c-l-chicago-illinois.html?aid=304142&label=gen173bo-1DCAQoggJCDmhvdGVsXzIwMDMzMTczSDNYA2imAogBAZgBMbgBGMgBDNgBA-gBAfgBA4gCAZgCAqgCBLgC4_DMwQbAAgHSAiQ4ZjFkYzU2YS1hMWVlLTRjMTAtYWQ0OC1kMGZjZTBjOGNhYmTYAgTgAgE&ucfs=1&arphpl=1&dest_id=20033173&dest_type=hotel&group_adults=2&req_adults=2&no_rooms=1&group_children=0&req_children=0&hpos=10&hapos=10&sr_order=popularity&srpvid=a3d46d71809f024b&srepoch=1748187236&from=searchresults'},\n",
              " {'newPropertyName': 'The Wade',\n",
              "  'pageName': 'w-chicago-lakeshore',\n",
              "  'url': 'https://www.booking.com/hotel/us/w-chicago-lakeshore.html?aid=304142&label=gen173bo-1DCAQoggJCDmhvdGVsXzIwMDMzMTczSDNYA2imAogBAZgBMbgBGMgBDNgBA-gBAfgBA4gCAZgCAqgCBLgC4_DMwQbAAgHSAiQ4ZjFkYzU2YS1hMWVlLTRjMTAtYWQ0OC1kMGZjZTBjOGNhYmTYAgTgAgE&ucfs=1&arphpl=1&dest_id=20033173&dest_type=hotel&group_adults=2&req_adults=2&no_rooms=1&group_children=0&req_children=0&hpos=11&hapos=11&sr_order=popularity&srpvid=a3d46d71809f024b&srepoch=1748187236&from=searchresults'},\n",
              " {'newPropertyName': 'Hotel Saint Clair - Magnificent Mile',\n",
              "  'pageName': 'hotel-saint-clair-magnificent-mile',\n",
              "  'url': 'https://www.booking.com/hotel/us/hotel-saint-clair-magnificent-mile.html?aid=304142&label=gen173bo-1DCAQoggJCDmhvdGVsXzIwMDMzMTczSDNYA2imAogBAZgBMbgBGMgBDNgBA-gBAfgBA4gCAZgCAqgCBLgC4_DMwQbAAgHSAiQ4ZjFkYzU2YS1hMWVlLTRjMTAtYWQ0OC1kMGZjZTBjOGNhYmTYAgTgAgE&ucfs=1&arphpl=1&dest_id=20033173&dest_type=hotel&group_adults=2&req_adults=2&no_rooms=1&group_children=0&req_children=0&hpos=12&hapos=12&sr_order=popularity&srpvid=a3d46d71809f024b&srepoch=1748187236&from=searchresults'},\n",
              " {'newPropertyName': 'Godfrey Hotel Chicago',\n",
              "  'pageName': 'godfrey-chicago',\n",
              "  'url': 'https://www.booking.com/hotel/us/godfrey-chicago.html?aid=304142&label=gen173bo-1DCAQoggJCDmhvdGVsXzIwMDMzMTczSDNYA2imAogBAZgBMbgBGMgBDNgBA-gBAfgBA4gCAZgCAqgCBLgC4_DMwQbAAgHSAiQ4ZjFkYzU2YS1hMWVlLTRjMTAtYWQ0OC1kMGZjZTBjOGNhYmTYAgTgAgE&ucfs=1&arphpl=1&dest_id=20033173&dest_type=hotel&group_adults=2&req_adults=2&no_rooms=1&group_children=0&req_children=0&hpos=13&hapos=13&sr_order=popularity&srpvid=a3d46d71809f024b&srepoch=1748187236&from=searchresults'},\n",
              " {'newPropertyName': 'Embassy Suites Chicago - Downtown River North',\n",
              "  'pageName': 'embassy-suites-chicago-downtown',\n",
              "  'url': 'https://www.booking.com/hotel/us/embassy-suites-chicago-downtown.html?aid=304142&label=gen173bo-1DCAQoggJCDmhvdGVsXzIwMDMzMTczSDNYA2imAogBAZgBMbgBGMgBDNgBA-gBAfgBA4gCAZgCAqgCBLgC4_DMwQbAAgHSAiQ4ZjFkYzU2YS1hMWVlLTRjMTAtYWQ0OC1kMGZjZTBjOGNhYmTYAgTgAgE&ucfs=1&arphpl=1&dest_id=20033173&dest_type=hotel&group_adults=2&req_adults=2&no_rooms=1&group_children=0&req_children=0&hpos=14&hapos=14&sr_order=popularity&srpvid=a3d46d71809f024b&srepoch=1748187236&from_sustainable_property_sr=1&from=searchresults'},\n",
              " {'newPropertyName': 'Freehand Chicago',\n",
              "  'pageName': 'freehand-chicago',\n",
              "  'url': 'https://www.booking.com/hotel/us/freehand-chicago.html?aid=304142&label=gen173bo-1DCAQoggJCDmhvdGVsXzIwMDMzMTczSDNYA2imAogBAZgBMbgBGMgBDNgBA-gBAfgBA4gCAZgCAqgCBLgC4_DMwQbAAgHSAiQ4ZjFkYzU2YS1hMWVlLTRjMTAtYWQ0OC1kMGZjZTBjOGNhYmTYAgTgAgE&ucfs=1&arphpl=1&dest_id=20033173&dest_type=hotel&group_adults=2&req_adults=2&no_rooms=1&group_children=0&req_children=0&hpos=15&hapos=15&sr_order=popularity&srpvid=a3d46d71809f024b&srepoch=1748187236&from=searchresults'},\n",
              " {'newPropertyName': 'citizenM Chicago Downtown',\n",
              "  'pageName': 'citizenm-chicago-downtown',\n",
              "  'url': 'https://www.booking.com/hotel/us/citizenm-chicago-downtown.html?aid=304142&label=gen173bo-1DCAQoggJCDmhvdGVsXzIwMDMzMTczSDNYA2imAogBAZgBMbgBGMgBDNgBA-gBAfgBA4gCAZgCAqgCBLgC4_DMwQbAAgHSAiQ4ZjFkYzU2YS1hMWVlLTRjMTAtYWQ0OC1kMGZjZTBjOGNhYmTYAgTgAgE&ucfs=1&arphpl=1&dest_id=20033173&dest_type=hotel&group_adults=2&req_adults=2&no_rooms=1&group_children=0&req_children=0&hpos=16&hapos=16&sr_order=popularity&srpvid=a3d46d71809f024b&srepoch=1748187236&from_sustainable_property_sr=1&from=searchresults'},\n",
              " {'newPropertyName': 'Eurostars Magnificent Mile',\n",
              "  'pageName': 'd-spa-chicago-illinois',\n",
              "  'url': 'https://www.booking.com/hotel/us/d-spa-chicago-illinois.html?aid=304142&label=gen173bo-1DCAQoggJCDmhvdGVsXzIwMDMzMTczSDNYA2imAogBAZgBMbgBGMgBDNgBA-gBAfgBA4gCAZgCAqgCBLgC4_DMwQbAAgHSAiQ4ZjFkYzU2YS1hMWVlLTRjMTAtYWQ0OC1kMGZjZTBjOGNhYmTYAgTgAgE&ucfs=1&arphpl=1&dest_id=20033173&dest_type=hotel&group_adults=2&req_adults=2&no_rooms=1&group_children=0&req_children=0&hpos=17&hapos=17&sr_order=popularity&srpvid=a3d46d71809f024b&srepoch=1748187236&from_sustainable_property_sr=1&from=searchresults'},\n",
              " {'newPropertyName': 'Virgin Hotels Chicago',\n",
              "  'pageName': 'virgin-hotels-chicago-chicago',\n",
              "  'url': 'https://www.booking.com/hotel/us/virgin-hotels-chicago-chicago.html?aid=304142&label=gen173bo-1DCAQoggJCDmhvdGVsXzIwMDMzMTczSDNYA2imAogBAZgBMbgBGMgBDNgBA-gBAfgBA4gCAZgCAqgCBLgC4_DMwQbAAgHSAiQ4ZjFkYzU2YS1hMWVlLTRjMTAtYWQ0OC1kMGZjZTBjOGNhYmTYAgTgAgE&ucfs=1&arphpl=1&dest_id=20033173&dest_type=hotel&group_adults=2&req_adults=2&no_rooms=1&group_children=0&req_children=0&hpos=18&hapos=18&sr_order=popularity&srpvid=a3d46d71809f024b&srepoch=1748187236&from_sustainable_property_sr=1&from=searchresults'},\n",
              " {'newPropertyName': 'Hyatt Place Chicago/Downtown - The Loop',\n",
              "  'pageName': 'hyatt-place-chicago-47-downtown-the-loop',\n",
              "  'url': 'https://www.booking.com/hotel/us/hyatt-place-chicago-47-downtown-the-loop.html?aid=304142&label=gen173bo-1DCAQoggJCDmhvdGVsXzIwMDMzMTczSDNYA2imAogBAZgBMbgBGMgBDNgBA-gBAfgBA4gCAZgCAqgCBLgC4_DMwQbAAgHSAiQ4ZjFkYzU2YS1hMWVlLTRjMTAtYWQ0OC1kMGZjZTBjOGNhYmTYAgTgAgE&ucfs=1&arphpl=1&dest_id=20033173&dest_type=hotel&group_adults=2&req_adults=2&no_rooms=1&group_children=0&req_children=0&hpos=19&hapos=19&sr_order=popularity&srpvid=a3d46d71809f024b&srepoch=1748187236&from_sustainable_property_sr=1&from=searchresults'},\n",
              " {'newPropertyName': 'Home2 Suites By Hilton Chicago River North',\n",
              "  'pageName': 'home2-suites-by-hilton-chicago-river-north',\n",
              "  'url': 'https://www.booking.com/hotel/us/home2-suites-by-hilton-chicago-river-north.html?aid=304142&label=gen173bo-1DCAQoggJCDmhvdGVsXzIwMDMzMTczSDNYA2imAogBAZgBMbgBGMgBDNgBA-gBAfgBA4gCAZgCAqgCBLgC4_DMwQbAAgHSAiQ4ZjFkYzU2YS1hMWVlLTRjMTAtYWQ0OC1kMGZjZTBjOGNhYmTYAgTgAgE&ucfs=1&arphpl=1&dest_id=20033173&dest_type=hotel&group_adults=2&req_adults=2&no_rooms=1&group_children=0&req_children=0&hpos=20&hapos=20&sr_order=popularity&srpvid=a3d46d71809f024b&srepoch=1748187236&from_sustainable_property_sr=1&from=searchresults'},\n",
              " {'newPropertyName': 'Best Western Chicago Downtown-River North',\n",
              "  'pageName': 'b-w-river-north-chicago-illinois',\n",
              "  'url': 'https://www.booking.com/hotel/us/b-w-river-north-chicago-illinois.html?aid=304142&label=gen173bo-1DCAQoggJCDmhvdGVsXzIwMDMzMTczSDNYA2imAogBAZgBMbgBGMgBDNgBA-gBAfgBA4gCAZgCAqgCBLgC4_DMwQbAAgHSAiQ4ZjFkYzU2YS1hMWVlLTRjMTAtYWQ0OC1kMGZjZTBjOGNhYmTYAgTgAgE&ucfs=1&arphpl=1&dest_id=20033173&dest_type=hotel&group_adults=2&req_adults=2&no_rooms=1&group_children=0&req_children=0&hpos=21&hapos=21&sr_order=popularity&srpvid=a3d46d71809f024b&srepoch=1748187236&from=searchresults'},\n",
              " {'newPropertyName': 'Club Quarters Hotel Central Loop, Chicago',\n",
              "  'pageName': 'club-quarters-central-loop',\n",
              "  'url': 'https://www.booking.com/hotel/us/club-quarters-central-loop.html?aid=304142&label=gen173bo-1DCAQoggJCDmhvdGVsXzIwMDMzMTczSDNYA2imAogBAZgBMbgBGMgBDNgBA-gBAfgBA4gCAZgCAqgCBLgC4_DMwQbAAgHSAiQ4ZjFkYzU2YS1hMWVlLTRjMTAtYWQ0OC1kMGZjZTBjOGNhYmTYAgTgAgE&ucfs=1&arphpl=1&dest_id=20033173&dest_type=hotel&group_adults=2&req_adults=2&no_rooms=1&group_children=0&req_children=0&hpos=22&hapos=22&sr_order=popularity&srpvid=a3d46d71809f024b&srepoch=1748187236&from=searchresults'},\n",
              " {'newPropertyName': 'Club Quarters Hotel Wacker at Michigan, Chicago',\n",
              "  'pageName': 'club-quarters-wacker-at-michigan',\n",
              "  'url': 'https://www.booking.com/hotel/us/club-quarters-wacker-at-michigan.html?aid=304142&label=gen173bo-1DCAQoggJCDmhvdGVsXzIwMDMzMTczSDNYA2imAogBAZgBMbgBGMgBDNgBA-gBAfgBA4gCAZgCAqgCBLgC4_DMwQbAAgHSAiQ4ZjFkYzU2YS1hMWVlLTRjMTAtYWQ0OC1kMGZjZTBjOGNhYmTYAgTgAgE&ucfs=1&arphpl=1&dest_id=20033173&dest_type=hotel&group_adults=2&req_adults=2&no_rooms=1&group_children=0&req_children=0&hpos=23&hapos=23&sr_order=popularity&srpvid=a3d46d71809f024b&srepoch=1748187236&from=searchresults'},\n",
              " {'newPropertyName': 'La Quinta by Wyndham Chicago Downtown',\n",
              "  'pageName': 'la-quinta-inn-chicago',\n",
              "  'url': 'https://www.booking.com/hotel/us/la-quinta-inn-chicago.html?aid=304142&label=gen173bo-1DCAQoggJCDmhvdGVsXzIwMDMzMTczSDNYA2imAogBAZgBMbgBGMgBDNgBA-gBAfgBA4gCAZgCAqgCBLgC4_DMwQbAAgHSAiQ4ZjFkYzU2YS1hMWVlLTRjMTAtYWQ0OC1kMGZjZTBjOGNhYmTYAgTgAgE&ucfs=1&arphpl=1&dest_id=20033173&dest_type=hotel&group_adults=2&req_adults=2&no_rooms=1&group_children=0&req_children=0&hpos=24&hapos=24&sr_order=popularity&srpvid=a3d46d71809f024b&srepoch=1748187236&from=searchresults'},\n",
              " {'newPropertyName': 'Radisson Blu Aqua Hotel, Chicago',\n",
              "  'pageName': 'radisson-blu-aqua-chicago',\n",
              "  'url': 'https://www.booking.com/hotel/us/radisson-blu-aqua-chicago.html?aid=304142&label=gen173bo-1DCAQoggJCDmhvdGVsXzIwMDMzMTczSDNYA2imAogBAZgBMbgBGMgBDNgBA-gBAfgBA4gCAZgCAqgCBLgC4_DMwQbAAgHSAiQ4ZjFkYzU2YS1hMWVlLTRjMTAtYWQ0OC1kMGZjZTBjOGNhYmTYAgTgAgE&ucfs=1&arphpl=1&dest_id=20033173&dest_type=hotel&group_adults=2&req_adults=2&no_rooms=1&group_children=0&req_children=0&hpos=25&hapos=25&sr_order=popularity&srpvid=a3d46d71809f024b&srepoch=1748187236&from_sustainable_property_sr=1&from=searchresults'}]"
            ]
          },
          "metadata": {},
          "execution_count": 25
        }
      ]
    },
    {
      "cell_type": "code",
      "source": [
        "new_address, categories = get_additional_info(hotels[0]['url'])"
      ],
      "metadata": {
        "colab": {
          "base_uri": "https://localhost:8080/",
          "height": 274
        },
        "id": "puvYAlmCt3xb",
        "outputId": "9564851b-f891-4ce9-d341-673dc5248e67"
      },
      "execution_count": 9,
      "outputs": [
        {
          "output_type": "error",
          "ename": "KeyError",
          "evalue": "0",
          "traceback": [
            "\u001b[0;31m---------------------------------------------------------------------------\u001b[0m",
            "\u001b[0;31mKeyError\u001b[0m                                  Traceback (most recent call last)",
            "\u001b[0;32m<ipython-input-9-05c138191349>\u001b[0m in \u001b[0;36m<cell line: 0>\u001b[0;34m()\u001b[0m\n\u001b[0;32m----> 1\u001b[0;31m \u001b[0mnew_address\u001b[0m\u001b[0;34m,\u001b[0m \u001b[0mcategories\u001b[0m \u001b[0;34m=\u001b[0m \u001b[0mget_additional_info\u001b[0m\u001b[0;34m(\u001b[0m\u001b[0mhotels\u001b[0m\u001b[0;34m[\u001b[0m\u001b[0;36m0\u001b[0m\u001b[0;34m]\u001b[0m\u001b[0;34m[\u001b[0m\u001b[0;34m'url'\u001b[0m\u001b[0;34m]\u001b[0m\u001b[0;34m)\u001b[0m\u001b[0;34m\u001b[0m\u001b[0;34m\u001b[0m\u001b[0m\n\u001b[0m",
            "\u001b[0;32m/usr/local/lib/python3.11/dist-packages/bs4/element.py\u001b[0m in \u001b[0;36m__getitem__\u001b[0;34m(self, key)\u001b[0m\n\u001b[1;32m   2212\u001b[0m         \"\"\"tag[key] returns the value of the 'key' attribute for the Tag,\n\u001b[1;32m   2213\u001b[0m         and throws an exception if it's not there.\"\"\"\n\u001b[0;32m-> 2214\u001b[0;31m         \u001b[0;32mreturn\u001b[0m \u001b[0mself\u001b[0m\u001b[0;34m.\u001b[0m\u001b[0mattrs\u001b[0m\u001b[0;34m[\u001b[0m\u001b[0mkey\u001b[0m\u001b[0;34m]\u001b[0m\u001b[0;34m\u001b[0m\u001b[0;34m\u001b[0m\u001b[0m\n\u001b[0m\u001b[1;32m   2215\u001b[0m \u001b[0;34m\u001b[0m\u001b[0m\n\u001b[1;32m   2216\u001b[0m     \u001b[0;32mdef\u001b[0m \u001b[0m__iter__\u001b[0m\u001b[0;34m(\u001b[0m\u001b[0mself\u001b[0m\u001b[0;34m)\u001b[0m \u001b[0;34m->\u001b[0m \u001b[0mIterator\u001b[0m\u001b[0;34m[\u001b[0m\u001b[0mPageElement\u001b[0m\u001b[0;34m]\u001b[0m\u001b[0;34m:\u001b[0m\u001b[0;34m\u001b[0m\u001b[0;34m\u001b[0m\u001b[0m\n",
            "\u001b[0;31mKeyError\u001b[0m: 0"
          ]
        }
      ]
    },
    {
      "cell_type": "code",
      "source": [
        "await get_reviews(\"residence-inn-chicago-downtown-river-north\")"
      ],
      "metadata": {
        "id": "tfDqMl9HuVdx"
      },
      "execution_count": null,
      "outputs": []
    }
  ],
  "metadata": {
    "colab": {
      "provenance": [],
      "authorship_tag": "ABX9TyMLjjoLV174M9sGgCjiFY40",
      "include_colab_link": true
    },
    "kernelspec": {
      "display_name": "Python 3",
      "name": "python3"
    },
    "language_info": {
      "name": "python"
    }
  },
  "nbformat": 4,
  "nbformat_minor": 0
}