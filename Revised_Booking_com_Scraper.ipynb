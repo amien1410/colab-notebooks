{
  "cells": [
    {
      "cell_type": "markdown",
      "metadata": {
        "id": "view-in-github",
        "colab_type": "text"
      },
      "source": [
        "<a href=\"https://colab.research.google.com/github/amien1410/colab-notebooks/blob/main/Revised_Booking_com_Scraper.ipynb\" target=\"_parent\"><img src=\"https://colab.research.google.com/assets/colab-badge.svg\" alt=\"Open In Colab\"/></a>"
      ]
    },
    {
      "cell_type": "code",
      "execution_count": 1,
      "metadata": {
        "colab": {
          "base_uri": "https://localhost:8080/"
        },
        "id": "DregH8shmUoU",
        "outputId": "0074cca2-b52b-4c19-9595-30a6950549a3"
      },
      "outputs": [
        {
          "output_type": "stream",
          "name": "stdout",
          "text": [
            "Collecting parsel\n",
            "  Downloading parsel-1.10.0-py2.py3-none-any.whl.metadata (11 kB)\n",
            "Requirement already satisfied: httpx[brotli,http2] in /usr/local/lib/python3.11/dist-packages (0.28.1)\n",
            "Requirement already satisfied: anyio in /usr/local/lib/python3.11/dist-packages (from httpx[brotli,http2]) (4.9.0)\n",
            "Requirement already satisfied: certifi in /usr/local/lib/python3.11/dist-packages (from httpx[brotli,http2]) (2025.4.26)\n",
            "Requirement already satisfied: httpcore==1.* in /usr/local/lib/python3.11/dist-packages (from httpx[brotli,http2]) (1.0.9)\n",
            "Requirement already satisfied: idna in /usr/local/lib/python3.11/dist-packages (from httpx[brotli,http2]) (3.10)\n",
            "Collecting brotli (from httpx[brotli,http2])\n",
            "  Downloading Brotli-1.1.0-cp311-cp311-manylinux_2_17_x86_64.manylinux2014_x86_64.whl.metadata (5.5 kB)\n",
            "Requirement already satisfied: h2<5,>=3 in /usr/local/lib/python3.11/dist-packages (from httpx[brotli,http2]) (4.2.0)\n",
            "Requirement already satisfied: h11>=0.16 in /usr/local/lib/python3.11/dist-packages (from httpcore==1.*->httpx[brotli,http2]) (0.16.0)\n",
            "Collecting cssselect>=1.2.0 (from parsel)\n",
            "  Downloading cssselect-1.3.0-py3-none-any.whl.metadata (2.6 kB)\n",
            "Collecting jmespath (from parsel)\n",
            "  Downloading jmespath-1.0.1-py3-none-any.whl.metadata (7.6 kB)\n",
            "Requirement already satisfied: lxml in /usr/local/lib/python3.11/dist-packages (from parsel) (5.4.0)\n",
            "Requirement already satisfied: packaging in /usr/local/lib/python3.11/dist-packages (from parsel) (24.2)\n",
            "Collecting w3lib>=1.19.0 (from parsel)\n",
            "  Downloading w3lib-2.3.1-py3-none-any.whl.metadata (2.3 kB)\n",
            "Requirement already satisfied: hyperframe<7,>=6.1 in /usr/local/lib/python3.11/dist-packages (from h2<5,>=3->httpx[brotli,http2]) (6.1.0)\n",
            "Requirement already satisfied: hpack<5,>=4.1 in /usr/local/lib/python3.11/dist-packages (from h2<5,>=3->httpx[brotli,http2]) (4.1.0)\n",
            "Requirement already satisfied: sniffio>=1.1 in /usr/local/lib/python3.11/dist-packages (from anyio->httpx[brotli,http2]) (1.3.1)\n",
            "Requirement already satisfied: typing_extensions>=4.5 in /usr/local/lib/python3.11/dist-packages (from anyio->httpx[brotli,http2]) (4.13.2)\n",
            "Downloading parsel-1.10.0-py2.py3-none-any.whl (17 kB)\n",
            "Downloading cssselect-1.3.0-py3-none-any.whl (18 kB)\n",
            "Downloading w3lib-2.3.1-py3-none-any.whl (21 kB)\n",
            "Downloading Brotli-1.1.0-cp311-cp311-manylinux_2_17_x86_64.manylinux2014_x86_64.whl (2.9 MB)\n",
            "\u001b[2K   \u001b[90m━━━━━━━━━━━━━━━━━━━━━━━━━━━━━━━━━━━━━━━━\u001b[0m \u001b[32m2.9/2.9 MB\u001b[0m \u001b[31m11.7 MB/s\u001b[0m eta \u001b[36m0:00:00\u001b[0m\n",
            "\u001b[?25hDownloading jmespath-1.0.1-py3-none-any.whl (20 kB)\n",
            "Installing collected packages: brotli, w3lib, jmespath, cssselect, parsel\n",
            "Successfully installed brotli-1.1.0 cssselect-1.3.0 jmespath-1.0.1 parsel-1.10.0 w3lib-2.3.1\n"
          ]
        }
      ],
      "source": [
        "#@title\n",
        "!pip install \"httpx[http2,brotli]\" parsel\n",
        "import difflib\n",
        "import httpx\n",
        "import requests\n",
        "import random\n",
        "import string\n",
        "import time\n",
        "import urllib.parse\n",
        "from bs4 import BeautifulSoup"
      ]
    },
    {
      "cell_type": "code",
      "execution_count": 2,
      "metadata": {
        "id": "YUttdi9QUFAV"
      },
      "outputs": [],
      "source": [
        "# @title\n",
        "headers2 = {\n",
        "    \"Accept\":\"text/html,application/xhtml+xml,application/xml;q=0.9,image/webp,image/apng,*/*;q=0.8,application/signed-exchange;v=b3;q=0.7\",\n",
        "    \"Accept-Encoding\":\"gzip, deflate, br\",\n",
        "    \"Accept-Language\":\"en-US,en;q=0.9,id;q=0.8,fa;q=0.7,ar;q=0.6,ms;q=0.5,ja;q=0.4\",\n",
        "    \"Cache-Control\":\"max-age=0\",\n",
        "    \"Cookie\": 'px_init=0; bkng_sso_session=e30; OptanonConsent=implicitConsentCountry=nonGDPR&implicitConsentDate=1688341835317; cors_js=1; g_state={\"i_p\":1689063805365,\"i_l\":3}; bkng_expired_hint=eyJib29raW5nX2dsb2JhbCI6W3sibG9naW5faGludCI6MzEzOTY4OTU3OH1dfQ; bkng_sso_ses=e30; pcm_consent=consentedAt%3D2023-10-05T01%3A23%3A23.659Z%26countryCode%3DID%26expiresAt%3D2024-04-02T01%3A23%3A23.659Z%26implicit%3Dfalse%26regionCode%3DKT%26regulation%3Dnone%26legacyRegulation%3Dnone%26consentId%3Db29ee419-b359-4dec-a21f-1c8402c65d3b%26analytical%3Dtrue%26marketing%3Dtrue; bkng_sso_auth=CAIQsOnuTRpykSzmv8JMEafw8OBQmEwHlYkQD1BE/07FzWiRhRk7T+Cl6VTgFnDCiL56Xay0/XGqcNUHKKqKRFihOdZ7YC//cVRbU2pPHoYkTkSQH/6vQU6aieTRoTmgSulVjhsbphBZoqDGAoy73r5buX1/UdTCAI6Z; bkng_sso_auth_1696469003=CAIQsOnuTRpykSzmv8JMEafw8OBQmEwHlYkQD1BE/07FzWiRhRk7T+Cl6VTgFnDCiL56Xay0/XGqcNUHKKqKRFihOdZ7YC//cVRbU2pPHoYkTkSQH/6vQU6aieTRoTmgSulVjhsbphBZoqDGAoy73r5buX1/UdTCAI6Z; pcm_verified=1; _pxhd=lqCYPkaoZw2EcwRodSEQcVNjv2dUrdyjcnLkfwtrjaZ3VJxRxhMb95aKJwm2UR5dS%2Fzyx6MoscUH6ZKhBh%2F-yg%3D%3D%3ASmhouaMR9crUa2OA5WPDA9cM258mYWqsIRAnsSjNEykR3Ts%2FTD9nXnekDYhvmiSAlrrmKyEWBpVLo3RW%2FxRWQt82gElCC9nT9fvqYOlg0F8%3D; bkng=11UmFuZG9tSVYkc2RlIyh9Yaa29%2F3xUOLbVA9iGwA%2BUSz7Vg8K6c%2FTKO%2BIrpV1ZQ2n%2B5FCqFNiuhx1xPFQ4WLBeRrLd6nyCRo5cvbNZvp%2FWSKPgAsnzPLn15YE4j0gtjbNgUmaPaznmATSU5ZXekDjP0VmKpof4OazBIAPTOmbG0%2FXze%2FPP45cuj4dAg0W1pjmSj5r4FlUS40G2Yy9xiPorA%3D%3D; lastSeen=0',\n",
        "    \"Sec-Ch-Ua\":'\"Not.A/Brand\";v=\"8\", \"Chromium\";v=\"114\", \"Microsoft Edge\";v=\"114\"',\n",
        "    \"Sec-Ch-Ua-Mobile\":\"?0\",\n",
        "    \"Sec-Ch-Ua-Platform\":\"Windows\",\n",
        "    \"Sec-Fetch-Dest\":\"document\",\n",
        "    \"Sec-Fetch-Mode\":\"navigate\",\n",
        "    \"Sec-Fetch-Site\":\"none\",\n",
        "    \"Sec-Fetch-User\":\"?1\",\n",
        "    \"Upgrade-Insecure-Requests\":'1',\n",
        "    \"User-Agent\":\"Mozilla/5.0 (Windows NT 10.0; Win64; x64) AppleWebKit/537.36 (KHTML, like Gecko) Chrome/114.0.0.0 Safari/537.36\"\n",
        "}\n",
        "# start HTTP session client with our headers and HTTP2\n",
        "client = httpx.AsyncClient(\n",
        "    http2=True,  # http2 connections are significantly less likely to get blocked\n",
        "    headers=headers2,\n",
        "    timeout=httpx.Timeout(15.0),\n",
        "    limits=httpx.Limits(max_connections=5),\n",
        ")\n",
        "\n",
        "# get additional info from the property\n",
        "def get_additional_info(url):\n",
        "  results = []\n",
        "  print(url)\n",
        "  res = requests.get(url, headers=headers)\n",
        "  soup = BeautifulSoup(res.text)\n",
        "  address = soup.select(\"span.hp_address_subtitle\")[0].text.strip()\n",
        "  categories = soup.select(\".c-score-bar\")\n",
        "  for i in range(len(categories)):\n",
        "    title = categories[i].select(\"span\")[0].text.strip()\n",
        "    score = categories[i].select(\"span\")[1].text\n",
        "    results.append(f\"{title} ({score})\")\n",
        "  results = \", \".join(results)\n",
        "  print(address, results)\n",
        "  return address, results\n",
        "\n",
        "# get all reviews from the given property name\n",
        "async def get_reviews(pageName):\n",
        "  results = []\n",
        "  hasNextPage = True\n",
        "  offset = 0\n",
        "  page = 1\n",
        "  while hasNextPage == True:\n",
        "    url = \"https://www.booking.com/reviewlist.html?cc1=us&pagename=\"+pageName+\"&rows=25&offset=\"+str(offset)\n",
        "    print(url)\n",
        "    res = await client.get(url)\n",
        "    soup = BeautifulSoup(res.text)\n",
        "    reviews = soup.select(\".review_list_new_item_block\")\n",
        "\n",
        "    if len(reviews) < 25:\n",
        "      hasNextPage = False\n",
        "\n",
        "    for i in range(len(reviews)):\n",
        "      countLike = reviews[i].select(\".-iconset-review_great\")\n",
        "      countDislike = reviews[i].select(\".-iconset-review_poor\")\n",
        "      countResponse = reviews[i].select(\".-iconset-chat_bubbles\")\n",
        "      like = \"\"\n",
        "      dislike = \"\"\n",
        "      response = \"\"\n",
        "      if len(countLike) > 0:\n",
        "        like = countLike[0].parent.find_next_siblings()[1].text\n",
        "      if len(countDislike) > 0:\n",
        "        dislike = countDislike[0].parent.find_next_siblings()[1].text\n",
        "      if len(countResponse) > 0:\n",
        "        response = countResponse[0].parent.find_next_siblings()[0].text\n",
        "      results.append({\n",
        "          \"username\" : reviews[i].select('.bui-avatar-block__title')[0].text,\n",
        "          \"likeReview\" : like,\n",
        "          \"dislikeReview\" : dislike,\n",
        "          \"response\" : response,\n",
        "          \"rating\" : reviews[i].select(\".bui-review-score__badge\")[0].text.strip(),\n",
        "          \"reviewDate\" : reviews[i].select(\".c-review-block__date\")[1].text.split(\": \")[1].strip()\n",
        "      })\n",
        "\n",
        "    offset += 25\n",
        "    page += 1\n",
        "    time.sleep(2)\n",
        "\n",
        "  return results"
      ]
    },
    {
      "cell_type": "code",
      "execution_count": 3,
      "metadata": {
        "id": "fLheE50YhE73"
      },
      "outputs": [],
      "source": [
        "random_request_id = \"\".join(\n",
        "    random.choice(string.ascii_lowercase + string.digits) for i in range(180)\n",
        ")\n",
        "headers = {\n",
        "    \"Accept\":\"text/html,application/xhtml+xml,application/xml;q=0.9,image/webp,image/apng,*/*;q=0.8,application/signed-exchange;v=b3;q=0.7\",\n",
        "    \"Accept-Encoding\":\"gzip, deflate, br\",\n",
        "    \"Accept-Language\":\"en-US,en;q=0.9,id;q=0.8,fa;q=0.7,ar;q=0.6,ms;q=0.5,ja;q=0.4\",\n",
        "    \"Cache-Control\":\"max-age=0\",\n",
        "    \"Cookie\": 'px_init=0; bkng_sso_session=e30; OptanonConsent=implicitConsentCountry=nonGDPR&implicitConsentDate=1688341835317; cors_js=1; g_state={\"i_p\":1689063805365,\"i_l\":3}; bkng_expired_hint=eyJib29raW5nX2dsb2JhbCI6W3sibG9naW5faGludCI6MzEzOTY4OTU3OH1dfQ; bkng_sso_ses=e30; pcm_consent=consentedAt%3D2023-10-05T01%3A23%3A23.659Z%26countryCode%3DID%26expiresAt%3D2024-04-02T01%3A23%3A23.659Z%26implicit%3Dfalse%26regionCode%3DKT%26regulation%3Dnone%26legacyRegulation%3Dnone%26consentId%3Db29ee419-b359-4dec-a21f-1c8402c65d3b%26analytical%3Dtrue%26marketing%3Dtrue; bkng_sso_auth=CAIQsOnuTRpykSzmv8JMEafw8OBQmEwHlYkQD1BE/07FzWiRhRk7T+Cl6VTgFnDCiL56Xay0/XGqcNUHKKqKRFihOdZ7YC//cVRbU2pPHoYkTkSQH/6vQU6aieTRoTmgSulVjhsbphBZoqDGAoy73r5buX1/UdTCAI6Z; bkng_sso_auth_1696469003=CAIQsOnuTRpykSzmv8JMEafw8OBQmEwHlYkQD1BE/07FzWiRhRk7T+Cl6VTgFnDCiL56Xay0/XGqcNUHKKqKRFihOdZ7YC//cVRbU2pPHoYkTkSQH/6vQU6aieTRoTmgSulVjhsbphBZoqDGAoy73r5buX1/UdTCAI6Z; pcm_verified=1; _pxhd=lqCYPkaoZw2EcwRodSEQcVNjv2dUrdyjcnLkfwtrjaZ3VJxRxhMb95aKJwm2UR5dS%2Fzyx6MoscUH6ZKhBh%2F-yg%3D%3D%3ASmhouaMR9crUa2OA5WPDA9cM258mYWqsIRAnsSjNEykR3Ts%2FTD9nXnekDYhvmiSAlrrmKyEWBpVLo3RW%2FxRWQt82gElCC9nT9fvqYOlg0F8%3D; bkng=11UmFuZG9tSVYkc2RlIyh9Yaa29%2F3xUOLbVA9iGwA%2BUSz7Vg8K6c%2FTKO%2BIrpV1ZQ2n%2B5FCqFNiuhx1xPFQ4WLBeRrLd6nyCRo5cvbNZvp%2FWSKPgAsnzPLn15YE4j0gtjbNgUmaPaznmATSU5ZXekDjP0VmKpof4OazBIAPTOmbG0%2FXze%2FPP45cuj4dAg0W1pjmSj5r4FlUS40G2Yy9xiPorA%3D%3D; lastSeen=0',\n",
        "    \"Origin\": \"https://www.booking.com\",\n",
        "    \"Referer\": \"https://www.booking.com/searchresults.html?\",\n",
        "    \"Sec-Ch-Ua\":'\"Microsoft Edge\";v=\"117\", \"Not;A=Brand\";v=\"8\", \"Chromium\";v=\"117\"',\n",
        "    \"Sec-Ch-Ua-Mobile\":\"?0\",\n",
        "    \"Sec-Ch-Ua-Platform\":\"Windows\",\n",
        "    \"Sec-Fetch-Dest\":\"document\",\n",
        "    \"Sec-Fetch-Mode\":\"navigate\",\n",
        "    \"Sec-Fetch-Site\":\"none\",\n",
        "    \"Sec-Fetch-User\":\"?1\",\n",
        "    \"Upgrade-Insecure-Requests\":'1',\n",
        "    \"User-Agent\":\"Mozilla/5.0 (Windows NT 10.0; Win64; x64) AppleWebKit/537.36 (KHTML, like Gecko) Chrome/117.0.0.0 Safari/537.36\",\n",
        "    \"X-Requested-By\": random_request_id,\n",
        "}\n",
        "# start HTTP session client with our headers and HTTP2\n",
        "client = httpx.AsyncClient(\n",
        "    http2=True,  # http2 connections are significantly less likely to get blocked\n",
        "    headers=headers,\n",
        "    timeout=httpx.Timeout(15.0),\n",
        "    limits=httpx.Limits(max_connections=5),\n",
        ")"
      ]
    },
    {
      "cell_type": "code",
      "execution_count": 4,
      "metadata": {
        "id": "PHo0OSNRbCXo"
      },
      "outputs": [],
      "source": [
        "# get 20 top properties from the search page\n",
        "headers = {\n",
        "    \"Host\": \"www.booking.com\",\n",
        "    \"Method\": \"GET\",\n",
        "    \"Path\": \"/searchresults.html?ss=Aston+Banua+Banjarmasin\",\n",
        "    \"Scheme\": \"https\",\n",
        "    \"Accept\": \"text/html,application/xhtml+xml,application/xml;q=0.9,image/webp,image/apng,*/*;q=0.8,application/signed-exchange;v=b3;q=0.7\",\n",
        "    \"Accept-Encoding\": \"gzip, deflate, br\",\n",
        "    \"Accept-Language\": \"en-US,en;q=0.9,id;q=0.8,fa;q=0.7,ar;q=0.6,ms;q=0.5,ja;q=0.4\",\n",
        "    \"Cache-Control\": \"max-age=0\",\n",
        "    \"Cookie\": \"px_init=0; bkng_sso_session=e30; OptanonConsent=implicitConsentCountry=nonGDPR&implicitConsentDate=1688341835317; cors_js=1; g_state={\\\"i_p\\\":1689063805365,\\\"i_l\\\":3}; bkng_expired_hint=eyJib29raW5nX2dsb2JhbCI6W3sibg9naW5faGludCI6MzEzOTY4OTU3OH1dfQ; bkng_sso_ses=e30; pcm_consent=consentedAt%3D2023-10-05T01%3A23%3A23.659Z%26countryCode%3DID%26expiresAt%3D2024-04-02T01%3A23%3A23.659Z%26implicit%3Dfalse%26regionCode%3DKT%26regulation%3Dnone%26legacyRegulation%3Dnone%26consentId%3Db29ee419-b359-4dec-a21f-1c8402c65d3b%26analytical%3Dtrue%26marketing%3Dtrue; bkng_sso_auth=CAIQsOnuTRpykSzmv8JMEafw8OBQmEwHlYkQD1BE/07FzWiRhRk7T+Cl6VTgFnDCiL56Xay0/XGqcNUHKKqKRFihOdZ7YC//cVRbU2pPHoYkTkSQH/6vQU6aieTRoTmgSulVjhsbphBZoqDGAoy73r5buX1/UdTCAI6Z; bkng_sso_auth_1696469003=CAIQsOnuTRpykSzmv8JMEafw8OBQmEwHlYkQD1BE/07FzWiRhRk7T+Cl6VTgFnDCiL56Xay0/XGqcNUHKKqKRFihOdZ7YC//cVRbU2pPHoYkTkSQH/6vQU6aieTRoTmgSulVjhsbphBZoqDGAoy73r5buX1/UdTCAI6Z; pcm_verified=1; _pxhd=lqCYPkaoZw2EcwRodSEQcVNjv2dUrdyjcnLkfwtrjaZ3VJxRxhMb95aKJwm2UR5dS%2Fzyx6MoscUH6ZKhBh%2F-yg%3D%3D%3ASmhouaMR9crUa2OA5WPDA9cM258mYWqsIRAnsSjNEykR3Ts%2FTD9nXnekDYhvmiSAlrrmKyEWBpVLo3RW%2FxRWQt82gElCC9nT9fvqYOlg0F8%3D; bkng=11UmFuZG9tSVYkc2RlIyh9Yaa29%2F3xUOLbVA9iGwA%2BUSz7Vg8K6c%2FTKO%2BIrpV1ZQ2n%2B5FCqFNiuhx1xPFQ4WLBeRrLd6nyCRo5cvbNZvp%2FWSKPgAsnzPLn15YE4j0gtjbNgUmaPaznmATSU5ZXekDjP0VmKpof4OazBIAPTOmbG0%2FXze%2FPP45cuj4dAg0W1pjmSj5r4FlUS40G2Yy9xiPorA%3D%3D; lastSeen=0\",\n",
        "    \"Sec-Ch-Ua\": \"\\\"Microsoft Edge\\\";v=\\\"117\\\", \\\"Not;A=Brand\\\";v=\\\"8\\\", \\\"Chromium\\\";v=\\\"117\\\"\",\n",
        "    \"Sec-Ch-Ua-Mobile\": \"?0\",\n",
        "    \"Sec-Ch-Ua-Platform\": \"\\\"Windows\\\"\",\n",
        "    \"Sec-Fetch-Dest\": \"document\",\n",
        "    \"Sec-Fetch-Mode\": \"navigate\",\n",
        "    \"Sec-Fetch-Site\": \"none\",\n",
        "    \"Sec-Fetch-User\": \"?1\",\n",
        "    \"Upgrade-Insecure-Requests\": \"1\",\n",
        "    \"User-Agent\": \"Mozilla/5.0 (Windows NT 10.0; Win64; x64) AppleWebKit/537.36 (KHTML, like Gecko) Chrome/117.0.0.0 Safari/537.36\"\n",
        "}\n",
        "\n",
        "headers2 = {\n",
        "    \"Accept\":\"text/html,application/xhtml+xml,application/xml;q=0.9,image/webp,image/apng,*/*;q=0.8,application/signed-exchange;v=b3;q=0.7\",\n",
        "    \"Accept-Encoding\":\"gzip, deflate, br\",\n",
        "    \"Accept-Language\":\"en-US,en;q=0.9,id;q=0.8,fa;q=0.7,ar;q=0.6,ms;q=0.5,ja;q=0.4\",\n",
        "    \"Cache-Control\":\"max-age=0\",\n",
        "    \"Cookie\": 'px_init=0; bkng_sso_session=e30; OptanonConsent=implicitConsentCountry=nonGDPR&implicitConsentDate=1688341835317; cors_js=1; g_state={\"i_p\":1689063805365,\"i_l\":3}; bkng_expired_hint=eyJib29raW5nX2dsb2JhbCI6W3sibG9naW5faGludCI6MzEzOTY4OTU3OH1dfQ; bkng_sso_ses=e30; pcm_consent=consentedAt%3D2023-10-05T01%3A23%3A23.659Z%26countryCode%3DID%26expiresAt%3D2024-04-02T01%3A23%3A23.659Z%26implicit%3Dfalse%26regionCode%3DKT%26regulation%3Dnone%26legacyRegulation%3Dnone%26consentId%3Db29ee419-b359-4dec-a21f-1c8402c65d3b%26analytical%3Dtrue%26marketing%3Dtrue; bkng_sso_auth=CAIQsOnuTRpykSzmv8JMEafw8OBQmEwHlYkQD1BE/07FzWiRhRk7T+Cl6VTgFnDCiL56Xay0/XGqcNUHKKqKRFihOdZ7YC//cVRbU2pPHoYkTkSQH/6vQU6aieTRoTmgSulVjhsbphBZoqDGAoy73r5buX1/UdTCAI6Z; bkng_sso_auth_1696469003=CAIQsOnuTRpykSzmv8JMEafw8OBQmEwHlYkQD1BE/07FzWiRhRk7T+Cl6VTgFnDCiL56Xay0/XGqcNUHKKqKRFihOdZ7YC//cVRbU2pPHoYkTkSQH/6vQU6aieTRoTmgSulVjhsbphBZoqDGAoy73r5buX1/UdTCAI6Z; pcm_verified=1; _pxhd=lqCYPkaoZw2EcwRodSEQcVNjv2dUrdyjcnLkfwtrjaZ3VJxRxhMb95aKJwm2UR5dS%2Fzyx6MoscUH6ZKhBh%2F-yg%3D%3D%3ASmhouaMR9crUa2OA5WPDA9cM258mYWqsIRAnsSjNEykR3Ts%2FTD9nXnekDYhvmiSAlrrmKyEWBpVLo3RW%2FxRWQt82gElCC9nT9fvqYOlg0F8%3D; bkng=11UmFuZG9tSVYkc2RlIyh9Yaa29%2F3xUOLbVA9iGwA%2BUSz7Vg8K6c%2FTKO%2BIrpV1ZQ2n%2B5FCqFNiuhx1xPFQ4WLBeRrLd6nyCRo5cvbNZvp%2FWSKPgAsnzPLn15YE4j0gtjbNgUmaPaznmATSU5ZXekDjP0VmKpof4OazBIAPTOmbG0%2FXze%2FPP45cuj4dAg0W1pjmSj5r4FlUS40G2Yy9xiPorA%3D%3D; lastSeen=0',\n",
        "    \"Sec-Ch-Ua\":'\"Not.A/Brand\";v=\"8\", \"Chromium\";v=\"114\", \"Microsoft Edge\";v=\"114\"',\n",
        "    \"Sec-Ch-Ua-Mobile\":\"?0\",\n",
        "    \"Sec-Ch-Ua-Platform\":\"Windows\",\n",
        "    \"Sec-Fetch-Dest\":\"document\",\n",
        "    \"Sec-Fetch-Mode\":\"navigate\",\n",
        "    \"Sec-Fetch-Site\":\"none\",\n",
        "    \"Sec-Fetch-User\":\"?1\",\n",
        "    \"Upgrade-Insecure-Requests\":'1',\n",
        "    \"User-Agent\":\"Mozilla/5.0 (Windows NT 10.0; Win64; x64) AppleWebKit/537.36 (KHTML, like Gecko) Chrome/114.0.0.0 Safari/537.36\"\n",
        "}\n",
        "# start HTTP session client with our headers and HTTP2\n",
        "client = httpx.AsyncClient(\n",
        "    http2=True,  # http2 connections are significantly less likely to get blocked\n",
        "    headers=headers,\n",
        "    timeout=httpx.Timeout(15.0),\n",
        "    limits=httpx.Limits(max_connections=5),\n",
        ")\n",
        "\n",
        "def get_hotels(hotel_name, address):\n",
        "  results = []\n",
        "  query = urllib.parse.quote(hotel_name+\" \"+address)\n",
        "  url = \"https://www.booking.com/searchresults.html?ss=Aston+Banua+Banjarmasin\"\n",
        "  # url = \"https://www.booking.com/searchresults.html?ss=Aston+Banua+Banjarmasin\"\n",
        "  res = requests.get(url, headers=headers2)\n",
        "  soup = BeautifulSoup(res.text, 'lxml')\n",
        "  # properties = soup.select(\"a.e13098a59f\")\n",
        "  return soup\n",
        "  # for i in range(len(properties)):\n",
        "  #   url = properties[i].get(\"href\")\n",
        "  #   pageName = url.split(\"/\")[-1].split(\".\")[0]\n",
        "  #   results.append({\n",
        "  #       \"newPropertyName\": properties[i].find(\"div\").text,\n",
        "  #       \"pageName\": pageName,\n",
        "  #       \"url\": url\n",
        "  #   })\n",
        "\n",
        "  #   if i > 19:\n",
        "  #     return results"
      ]
    },
    {
      "cell_type": "code",
      "execution_count": null,
      "metadata": {
        "colab": {
          "base_uri": "https://localhost:8080/"
        },
        "id": "NBB3iwfosma7",
        "outputId": "21ab9117-d1b9-419c-8aea-1f80f703f09b"
      },
      "outputs": [
        {
          "data": {
            "text/plain": [
              "[<h3 class=\"b87c397a13 fb2f406ff9\" data-testid=\"promotional-banner-content-title\">Quick escape, quality time</h3>,\n",
              " <h3 class=\"b87c397a13 fb2f406ff9\" data-testid=\"promotional-banner-content-title\">Skip the lines, not the memories</h3>,\n",
              " <h3 class=\"b87c397a13 fb2f406ff9\" data-testid=\"promotional-banner-content-title\">Genius flight price alerts</h3>,\n",
              " <h3 class=\"b87c397a13 fb2f406ff9\" data-testid=\"promotional-banner-content-title\">Five seater with booster seats?</h3>,\n",
              " <h3 class=\"b87c397a13 fb2f406ff9\" data-testid=\"promotional-banner-content-title\">Parenting is better with a view</h3>,\n",
              " <h3 class=\"travel_articles__header travel_articles__two_line\" id=\"travel_articles_title_1\">5 of the best hotels in Los Angeles</h3>,\n",
              " <h3 class=\"e7addce19e b7dfb6cc1c\" id=\":R6d2:\">Book now, pay at the property</h3>,\n",
              " <h3 class=\"e7addce19e b7dfb6cc1c\" id=\":Rad2:\">2+ million properties worldwide</h3>,\n",
              " <h3 class=\"e7addce19e b7dfb6cc1c\" id=\":Red2:\">Trusted 24/7 customer service you can rely on</h3>,\n",
              " <h3 class=\"b08850ce41 f546354b44 cc045b173b\">Support</h3>,\n",
              " <h3 class=\"b08850ce41 f546354b44 cc045b173b\">Discover</h3>,\n",
              " <h3 class=\"b08850ce41 f546354b44 cc045b173b\">Terms and settings</h3>,\n",
              " <h3 class=\"b08850ce41 f546354b44 cc045b173b\">Partners</h3>,\n",
              " <h3 class=\"b08850ce41 f546354b44 cc045b173b\">About</h3>,\n",
              " <h3 class=\"rlp-intro-how__title rlp-intro-how__a11y-exp-title\">It starts with a booking</h3>,\n",
              " <h3 class=\"rlp-intro-how__title rlp-intro-how__a11y-exp-title\">Followed by a trip</h3>,\n",
              " <h3 class=\"rlp-intro-how__title rlp-intro-how__a11y-exp-title\">And finally, a review</h3>]"
            ]
          },
          "execution_count": 12,
          "metadata": {},
          "output_type": "execute_result"
        }
      ],
      "source": [
        "hotels = get_hotels(\"Residence Inn\", \"410 North Chicago\")\n",
        "hotels.select(\"h3\")"
      ]
    },
    {
      "cell_type": "code",
      "execution_count": 5,
      "metadata": {
        "id": "SX4RGO9kDFiO"
      },
      "outputs": [],
      "source": [
        "def getHotels(hotelName, address, city):\n",
        "  results = []\n",
        "  query = urllib.parse.quote(hotelName+\" \"+address)\n",
        "  destType = getDestId(city)\n",
        "  url = \"https://www.booking.com/searchresults.html?ss=\"+query+\"&dest_id=\"+destType+\"&dest_type=hotel\"\n",
        "  res = requests.get(url, headers=headers)\n",
        "  soup = BeautifulSoup(res.text, 'lxml')\n",
        "  print(soup)\n",
        "  properties = soup.select(\"a.a78ca197d0\")\n",
        "  for i in range(len(properties)):\n",
        "    url = properties[i].get(\"href\")\n",
        "    pageName = url.split(\"/\")[-1].split(\".\")[0]\n",
        "    results.append({\n",
        "        \"newPropertyName\": properties[i].find(\"div\").text,\n",
        "        \"pageName\": pageName,\n",
        "        \"url\": url\n",
        "    })\n",
        "\n",
        "  return results"
      ]
    },
    {
      "cell_type": "code",
      "execution_count": 7,
      "metadata": {
        "id": "5T1FbMKg_vC1"
      },
      "outputs": [],
      "source": [
        "headers3 = {\n",
        "    \"Accept\":\"*/*\",\n",
        "    \"Accept-Encoding\":\"gzip, deflate, br\",\n",
        "    \"Accept-Language\":\"en-US,en;q=0.9,id;q=0.8,fa;q=0.7,ar;q=0.6,ms;q=0.5,ja;q=0.4\",\n",
        "    \"Content-Length\":\"97\",\n",
        "    \"Content-Type\":\"text/plain;charset=UTF-8\",\n",
        "    \"Cookie\":\"px_init=0; bkng_sso_session=e30; cors_js=1; bkng_expired_hint=eyJib29raW5nX2dsb2JhbCI6W3sibG9naW5faGludCI6MzEzOTY4OTU3OH1dfQ; bkng_sso_ses=e30; pcm_consent=consentedAt%3D2023-10-05T01%3A23%3A23.659Z%26countryCode%3DID%26expiresAt%3D2024-04-02T01%3A23%3A23.659Z%26implicit%3Dfalse%26regionCode%3DKT%26regulation%3Dnone%26legacyRegulation%3Dnone%26consentId%3Db29ee419-b359-4dec-a21f-1c8402c65d3b%26analytical%3Dtrue%26marketing%3Dtrue; bkng_sso_auth=CAIQsOnuTRpykSzmv8JMEafw8OBQmEwHlYkQD1BE/07FzWiRhRk7T+Cl6VTgFnDCiL56Xay0/XGqcNUHKKqKRFihOdZ7YC//cVRbU2pPHoYkTkSQH/6vQU6aieTRoTmgSulVjhsbphBZoqDGAoy73r5buX1/UdTCAI6Z; g_state={'i_p':1698891354300,'i_l':4}; _vs=4496662336926575762:1696476352.8664062:8139239005403879237; 11_srd=%7B%22features%22%3A%5B%7B%22id%22%3A16%7D%5D%2C%22score%22%3A3%2C%22detected%22%3Afalse%7D; _pxhd=5ScEwaqD-7M3tg9IQbg4inyqSLYDbs4aP6KKxtqCUEQyrd8dY8htNPOpNlyFb96Aw56CNB52WbSGAsSqcsEwnw%3D%3D%3A4JFiFATPLE5uHJRl4WH%2FfwQAhZkOfzmsErRiH1zZtamB0rQHUox3ySvAkXgCOIcjOHA%2F5JdLidI5mVgo%2F71mjPmzQ3n8WJCNaswHzTEQf98%3D; bkng=11UmFuZG9tSVYkc2RlIyh9Yaa29%2F3xUOLblgO%2Fz4BDP5vo0AnnJEYr%2BDF1TOIpdko7ZUwuj05DOowpzvFt7fumKjnXxR4fIIIrygGcufWequ77aOTsT9NzXV%2FrOzvcN5h9zX7yyZI1qVrHKg2VYOhdCMQ04NU562w%2BbLAUy66oXtJOXzG%2BKPHVZlxPIb1CMIYpjUu923TUTKrLMTDsthSTFA%3D%3D; lastSeen=0\",\n",
        "    \"Origin\":\"https://www.booking.com\",\n",
        "    \"Referer\":\"https://www.booking.com/\",\n",
        "    \"Sec-Ch-Ua\":'\"Microsoft Edge\";v=\"117\", \"Not;A=Brand\";v=\"8\", \"Chromium\";v=\"117\"',\n",
        "    \"Sec-Ch-Ua-Mobile\":\"?0\",\n",
        "    \"Sec-Ch-Ua-Platform\":\"Windows\",\n",
        "    \"Sec-Fetch-Dest\":\"empty\",\n",
        "    \"Sec-Fetch-Mode\":\"cors\",\n",
        "    \"Sec-Fetch-Site\":\"same-site\",\n",
        "    \"User-Agent\":\"Mozilla/5.0 (Windows NT 10.0; Win64; x64) AppleWebKit/537.36 (KHTML, like Gecko) Chrome/117.0.0.0 Safari/537.36\"\n",
        "}\n",
        "def getDestId(city):\n",
        "  try:\n",
        "    url = \"https://accommodations.booking.com/autocomplete.json\"\n",
        "    params = {\"query\":city,\"pageview_id\":\"bd241b165c8a020d\",\"aid\":304142,\"language\":\"en-us\",\"size\":5}\n",
        "    res = requests.post(url, json=params)\n",
        "    data = res.json()\n",
        "    print(data)\n",
        "    res = []\n",
        "    if len(data['results']) == 0:\n",
        "      return {\"No result, check your query!\"}\n",
        "    for result in data.get(\"results\", []):\n",
        "      if result.get(\"dest_type\") == \"city\":\n",
        "        res.append(result['dest_id'])\n",
        "    if len(res) > 0:\n",
        "      return res[0]\n",
        "    else:\n",
        "      return {\"There is no destination city type from the result\"}\n",
        "  except:\n",
        "    return {\"Error!\"}"
      ]
    },
    {
      "cell_type": "code",
      "execution_count": 9,
      "metadata": {
        "colab": {
          "base_uri": "https://localhost:8080/",
          "height": 74
        },
        "id": "Q7IZBiXMBpiF",
        "outputId": "590a744e-10d8-42cc-c4b4-84d26c82248d"
      },
      "outputs": [
        {
          "output_type": "stream",
          "name": "stdout",
          "text": [
            "{'results': [{'b_max_los_data': {'defaultLos': 45, 'extendedLos': 90, 'experiment': 'long_stays_web_extend_los_4', 'fullOn': True}, 'b_show_entire_homes_checkbox': False, 'cc1': 'us', 'cjk': False, 'dest_id': '20088325', 'dest_type': 'city', 'label': 'New York, New York, United States', 'label1': 'New York', 'label2': 'New York, United States', 'labels': [{'text': 'New York', 'precomposed': 'New York', 'hl': 1, 'dest_type': 'city', 'dest_id': '20088325'}, {'text': 'New York', 'precomposed': 'New York', 'hl': 0, 'dest_type': 'region', 'dest_id': '2469'}, {'text': 'United States', 'precomposed': 'United States', 'hl': 0, 'dest_type': 'country', 'dest_id': 'us'}], 'latitude': 40.768074, 'lc': 'en', 'longitude': -73.981895, 'nr_homes': 527, 'nr_hotels': 2695, 'nr_hotels_25': 3330, 'photo_uri': '/xdata/images/city/square150/977436.jpg?k=ee0baaf82d482fae02bcb8dda25be1abff1da43d187bbb26ae6b2f3c9b5f4e61&o=', 'roundtrip': 'GhBiZDI0MWIxNjVjOGEwMjBkIAAoATICZW46CG5ldyB5b3JrQABKAFAA', 'rtl': False, 'value': 'New York, New York, United States'}, {'b_max_los_data': {'defaultLos': 45, 'extendedLos': 90, 'experiment': 'long_stays_web_extend_los_4', 'fullOn': True}, 'b_show_entire_homes_checkbox': False, 'cc1': 'us', 'cjk': False, 'dest_id': '929', 'dest_type': 'district', 'label': 'Manhattan, New York, New York, United States', 'label1': 'Manhattan', 'label2': 'New York, New York, United States', 'labels': [{'text': 'Manhattan', 'precomposed': 'Manhattan', 'hl': 1, 'dest_type': 'district', 'dest_id': '929'}, {'text': 'New York', 'precomposed': 'New York', 'hl': 1, 'dest_type': 'city', 'dest_id': '20088325'}, {'text': 'New York', 'precomposed': 'New York', 'hl': 0, 'dest_type': 'region', 'dest_id': '2469'}, {'text': 'United States', 'precomposed': 'United States', 'hl': 0, 'dest_type': 'country', 'dest_id': 'us'}], 'latitude': 40.776115, 'lc': 'en', 'longitude': -73.970894, 'nr_homes': 0, 'nr_hotels': 1547, 'nr_hotels_25': 0, 'photo_uri': '/xdata/images/district/square150/57691.jpg?k=de3390bd7f9a501b600f4954a39cb97aefe8ea5acaf438d75d689219a94fe981&o=', 'roundtrip': 'GhBiZDI0MWIxNjVjOGEwMjBkIAEoATICZW46CG5ldyB5b3JrQABKAFAA', 'rtl': False, 'value': 'Manhattan, New York, New York, United States'}, {'b_max_los_data': {'defaultLos': 45, 'extendedLos': 90, 'experiment': 'long_stays_web_extend_los_4', 'fullOn': True}, 'b_show_entire_homes_checkbox': False, 'cc1': 'us', 'cjk': False, 'dest_id': '1174', 'dest_type': 'district', 'label': 'Times Square, New York, New York, United States', 'label1': 'Times Square', 'label2': 'New York, New York, United States', 'labels': [{'text': 'Times Square', 'precomposed': 'Times Square', 'hl': 1, 'dest_type': 'district', 'dest_id': '1174'}, {'text': 'New York', 'precomposed': 'New York', 'hl': 1, 'dest_type': 'city', 'dest_id': '20088325'}, {'text': 'New York', 'precomposed': 'New York', 'hl': 0, 'dest_type': 'region', 'dest_id': '2469'}, {'text': 'United States', 'precomposed': 'United States', 'hl': 0, 'dest_type': 'country', 'dest_id': 'us'}], 'latitude': 40.756725, 'lc': 'en', 'longitude': -73.9872, 'nr_homes': 0, 'nr_hotels': 140, 'nr_hotels_25': 0, 'photo_uri': '/xdata/images/district/square150/57727.jpg?k=2253b5e42baba11340d2d91d0bf034939ab05c00d33e8a137ce5d3596bc33028&o=', 'roundtrip': 'GhBiZDI0MWIxNjVjOGEwMjBkIAIoATICZW46CG5ldyB5b3JrQABKAFAA', 'rtl': False, 'value': 'Times Square, New York, New York, United States'}, {'b_max_los_data': {'defaultLos': 45, 'extendedLos': 90, 'experiment': 'long_stays_web_extend_los_4', 'fullOn': True}, 'b_show_entire_homes_checkbox': False, 'cc1': 'us', 'cjk': False, 'dest_id': '2306', 'dest_type': 'district', 'label': 'Central New York City, New York, New York, United States', 'label1': 'Central New York City', 'label2': 'New York, New York, United States', 'labels': [{'text': 'Central New York City', 'precomposed': 'Central New York City', 'hl': 1, 'dest_type': 'district', 'dest_id': '2306'}, {'text': 'New York', 'precomposed': 'New York', 'hl': 0, 'dest_type': 'city', 'dest_id': '20088325'}, {'text': 'New York', 'precomposed': 'New York', 'hl': 0, 'dest_type': 'region', 'dest_id': '2469'}, {'text': 'United States', 'precomposed': 'United States', 'hl': 0, 'dest_type': 'country', 'dest_id': 'us'}], 'latitude': 40.75959, 'lc': 'en', 'longitude': -73.98491, 'nr_homes': 0, 'nr_hotels': 453, 'nr_hotels_25': 0, 'photo_uri': '/xdata/images/district/square150/58190.jpg?k=066d639c26bd3662c5249f6ce7352a84f947059064a3453305139b81ee04899a&o=', 'roundtrip': 'GhBiZDI0MWIxNjVjOGEwMjBkIAMoATICZW46CG5ldyB5b3JrQABKAFAA', 'rtl': False, 'value': 'Central New York City, New York, New York, United States'}, {'b_max_los_data': {'defaultLos': 45, 'extendedLos': 90, 'experiment': 'long_stays_web_extend_los_4', 'fullOn': True}, 'b_show_entire_homes_checkbox': False, 'cc1': 'us', 'cjk': False, 'dest_id': '973', 'dest_type': 'district', 'label': 'New York Central Park, New York, New York, United States', 'label1': 'New York Central Park', 'label2': 'New York, New York, United States', 'labels': [{'text': 'New York Central Park', 'precomposed': 'New York Central Park', 'hl': 1, 'dest_type': 'district', 'dest_id': '973'}, {'text': 'New York', 'precomposed': 'New York', 'hl': 0, 'dest_type': 'city', 'dest_id': '20088325'}, {'text': 'New York', 'precomposed': 'New York', 'hl': 0, 'dest_type': 'region', 'dest_id': '2469'}, {'text': 'United States', 'precomposed': 'United States', 'hl': 0, 'dest_type': 'country', 'dest_id': 'us'}], 'latitude': 40.78202, 'lc': 'en', 'longitude': -73.96583, 'nr_homes': 0, 'nr_hotels': 60, 'nr_hotels_25': 0, 'photo_uri': '/xdata/images/district/square150/58116.jpg?k=92f3bf48fbd03690a8b90607a15a90d85a56fd1734244bae00f304082d56a57d&o=', 'roundtrip': 'GhBiZDI0MWIxNjVjOGEwMjBkIAQoATICZW46CG5ldyB5b3JrQABKAFAA', 'rtl': False, 'value': 'New York Central Park, New York, New York, United States'}]}\n"
          ]
        },
        {
          "output_type": "execute_result",
          "data": {
            "text/plain": [
              "'20088325'"
            ],
            "application/vnd.google.colaboratory.intrinsic+json": {
              "type": "string"
            }
          },
          "metadata": {},
          "execution_count": 9
        }
      ],
      "source": [
        "getDestId(\"new york\")\n",
        "# getHotels(\"Residence Inn\", \"410 North\", \"Chicago\")\n",
        "# getHotels(\"TreePark\", \"\", \"Banjarmasin\")"
      ]
    },
    {
      "cell_type": "code",
      "execution_count": null,
      "metadata": {
        "colab": {
          "base_uri": "https://localhost:8080/",
          "height": 274
        },
        "id": "puvYAlmCt3xb",
        "outputId": "9564851b-f891-4ce9-d341-673dc5248e67"
      },
      "outputs": [
        {
          "ename": "KeyError",
          "evalue": "0",
          "output_type": "error",
          "traceback": [
            "\u001b[0;31m---------------------------------------------------------------------------\u001b[0m",
            "\u001b[0;31mKeyError\u001b[0m                                  Traceback (most recent call last)",
            "\u001b[0;32m<ipython-input-9-05c138191349>\u001b[0m in \u001b[0;36m<cell line: 0>\u001b[0;34m()\u001b[0m\n\u001b[0;32m----> 1\u001b[0;31m \u001b[0mnew_address\u001b[0m\u001b[0;34m,\u001b[0m \u001b[0mcategories\u001b[0m \u001b[0;34m=\u001b[0m \u001b[0mget_additional_info\u001b[0m\u001b[0;34m(\u001b[0m\u001b[0mhotels\u001b[0m\u001b[0;34m[\u001b[0m\u001b[0;36m0\u001b[0m\u001b[0;34m]\u001b[0m\u001b[0;34m[\u001b[0m\u001b[0;34m'url'\u001b[0m\u001b[0;34m]\u001b[0m\u001b[0;34m)\u001b[0m\u001b[0;34m\u001b[0m\u001b[0;34m\u001b[0m\u001b[0m\n\u001b[0m",
            "\u001b[0;32m/usr/local/lib/python3.11/dist-packages/bs4/element.py\u001b[0m in \u001b[0;36m__getitem__\u001b[0;34m(self, key)\u001b[0m\n\u001b[1;32m   2212\u001b[0m         \"\"\"tag[key] returns the value of the 'key' attribute for the Tag,\n\u001b[1;32m   2213\u001b[0m         and throws an exception if it's not there.\"\"\"\n\u001b[0;32m-> 2214\u001b[0;31m         \u001b[0;32mreturn\u001b[0m \u001b[0mself\u001b[0m\u001b[0;34m.\u001b[0m\u001b[0mattrs\u001b[0m\u001b[0;34m[\u001b[0m\u001b[0mkey\u001b[0m\u001b[0;34m]\u001b[0m\u001b[0;34m\u001b[0m\u001b[0;34m\u001b[0m\u001b[0m\n\u001b[0m\u001b[1;32m   2215\u001b[0m \u001b[0;34m\u001b[0m\u001b[0m\n\u001b[1;32m   2216\u001b[0m     \u001b[0;32mdef\u001b[0m \u001b[0m__iter__\u001b[0m\u001b[0;34m(\u001b[0m\u001b[0mself\u001b[0m\u001b[0;34m)\u001b[0m \u001b[0;34m->\u001b[0m \u001b[0mIterator\u001b[0m\u001b[0;34m[\u001b[0m\u001b[0mPageElement\u001b[0m\u001b[0;34m]\u001b[0m\u001b[0;34m:\u001b[0m\u001b[0;34m\u001b[0m\u001b[0;34m\u001b[0m\u001b[0m\n",
            "\u001b[0;31mKeyError\u001b[0m: 0"
          ]
        }
      ],
      "source": [
        "new_address, categories = get_additional_info(hotels[0]['url'])"
      ]
    },
    {
      "cell_type": "code",
      "execution_count": null,
      "metadata": {
        "id": "tfDqMl9HuVdx"
      },
      "outputs": [],
      "source": [
        "await get_reviews(\"residence-inn-chicago-downtown-river-north\")"
      ]
    }
  ],
  "metadata": {
    "colab": {
      "provenance": [],
      "authorship_tag": "ABX9TyNm13SlKSmeviYXBv3Cl3Bz",
      "include_colab_link": true
    },
    "kernelspec": {
      "display_name": "Python 3",
      "name": "python3"
    },
    "language_info": {
      "name": "python"
    }
  },
  "nbformat": 4,
  "nbformat_minor": 0
}