{
  "nbformat": 4,
  "nbformat_minor": 0,
  "metadata": {
    "colab": {
      "provenance": [],
      "authorship_tag": "ABX9TyNssRPE8GYKd+AT/cBrXD8w",
      "include_colab_link": true
    },
    "kernelspec": {
      "name": "python3",
      "display_name": "Python 3"
    },
    "language_info": {
      "name": "python"
    }
  },
  "cells": [
    {
      "cell_type": "markdown",
      "metadata": {
        "id": "view-in-github",
        "colab_type": "text"
      },
      "source": [
        "<a href=\"https://colab.research.google.com/github/amien1410/colab-notebooks/blob/main/Proxies_Random.ipynb\" target=\"_parent\"><img src=\"https://colab.research.google.com/assets/colab-badge.svg\" alt=\"Open In Colab\"/></a>"
      ]
    },
    {
      "cell_type": "code",
      "execution_count": null,
      "metadata": {
        "colab": {
          "base_uri": "https://localhost:8080/"
        },
        "id": "JBJTRhYcOfar",
        "outputId": "bcab127d-ce66-4bbe-ddf9-69fe0a6fadbc"
      },
      "outputs": [
        {
          "output_type": "stream",
          "name": "stdout",
          "text": [
            "#1: 189.240.60.168\n",
            "\n",
            "#2: 189.240.60.168\n",
            "\n",
            "#3: 189.240.60.168\n",
            "\n",
            "#4: 189.240.60.168\n",
            "\n",
            "#5: 189.240.60.168\n",
            "\n",
            "#6: 189.240.60.168\n",
            "\n",
            "#7: 189.240.60.168\n",
            "\n",
            "#8: 189.240.60.168\n",
            "\n",
            "#9: 189.240.60.168\n",
            "\n",
            "#10: 189.240.60.168\n",
            "\n",
            "Proxy 3.10.207.94:8000 deleted.\n",
            "Proxy 40.71.46.210:8214 deleted.\n"
          ]
        }
      ],
      "source": [
        "# !pip install fake_useragent\n",
        "\n",
        "from urllib.request import Request, urlopen\n",
        "from bs4 import BeautifulSoup\n",
        "from fake_useragent import UserAgent\n",
        "import random\n",
        "\n",
        "ua = UserAgent() # From here we generate a random user agent\n",
        "proxies = [] # Will contain proxies [ip, port]\n",
        "\n",
        "# Main function\n",
        "def main():\n",
        "  # Retrieve latest proxies\n",
        "  proxies_req = Request('https://www.sslproxies.org/')\n",
        "  proxies_req.add_header('User-Agent', ua.random)\n",
        "  proxies_doc = urlopen(proxies_req).read().decode('utf8')\n",
        "\n",
        "  soup = BeautifulSoup(proxies_doc, 'html.parser')\n",
        "  proxies_table = soup.find('table', class_='table')\n",
        "  # print(proxies_table)\n",
        "\n",
        "  # Save proxies in the array\n",
        "  for row in proxies_table.tbody.find_all('tr'):\n",
        "    proxies.append({\n",
        "      'ip':   row.find_all('td')[0].string,\n",
        "      'port': row.find_all('td')[1].string\n",
        "    })\n",
        "\n",
        "  # Choose a random proxy\n",
        "  proxy_index = random_proxy()\n",
        "  proxy = proxies[proxy_index]\n",
        "\n",
        "  for n in range(1, 100):\n",
        "    req = Request('http://icanhazip.com')\n",
        "    req.set_proxy(proxy['ip'] + ':' + proxy['port'], 'http')\n",
        "\n",
        "    # Every 10 requests, generate a new proxy\n",
        "    if n % 10 == 0:\n",
        "      proxy_index = random_proxy()\n",
        "      proxy = proxies[proxy_index]\n",
        "\n",
        "    # Make the call\n",
        "    try:\n",
        "      my_ip = urlopen(req).read().decode('utf8')\n",
        "      print('#' + str(n) + ': ' + my_ip)\n",
        "    except: # If error, delete this proxy and find another one\n",
        "      del proxies[proxy_index]\n",
        "      print('Proxy ' + proxy['ip'] + ':' + proxy['port'] + ' deleted.')\n",
        "      proxy_index = random_proxy()\n",
        "      proxy = proxies[proxy_index]\n",
        "\n",
        "# Retrieve a random index proxy (we need the index to delete it if not working)\n",
        "def random_proxy():\n",
        "  return random.randint(0, len(proxies) - 1)\n",
        "\n",
        "if __name__ == '__main__':\n",
        "  main()"
      ]
    }
  ]
}