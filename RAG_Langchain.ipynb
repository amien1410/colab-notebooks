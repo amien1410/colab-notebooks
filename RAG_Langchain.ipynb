{
  "nbformat": 4,
  "nbformat_minor": 0,
  "metadata": {
    "colab": {
      "provenance": [],
      "authorship_tag": "ABX9TyOJ5ADEv00UgZsqV4mFuoRA",
      "include_colab_link": true
    },
    "kernelspec": {
      "name": "python3",
      "display_name": "Python 3"
    },
    "language_info": {
      "name": "python"
    }
  },
  "cells": [
    {
      "cell_type": "markdown",
      "metadata": {
        "id": "view-in-github",
        "colab_type": "text"
      },
      "source": [
        "<a href=\"https://colab.research.google.com/github/amien1410/colab-notebooks/blob/main/RAG_Langchain.ipynb\" target=\"_parent\"><img src=\"https://colab.research.google.com/assets/colab-badge.svg\" alt=\"Open In Colab\"/></a>"
      ]
    },
    {
      "cell_type": "code",
      "execution_count": 1,
      "metadata": {
        "colab": {
          "base_uri": "https://localhost:8080/"
        },
        "id": "UVWS7vSTIQOj",
        "outputId": "b273e7a2-89e2-47a1-e156-79feea338d70"
      },
      "outputs": [
        {
          "output_type": "stream",
          "name": "stdout",
          "text": [
            "\u001b[33mWARNING: Ignoring invalid distribution ~angchain (/usr/local/lib/python3.11/dist-packages)\u001b[0m\u001b[33m\n",
            "\u001b[0m\u001b[33mWARNING: Ignoring invalid distribution ~angchain (/usr/local/lib/python3.11/dist-packages)\u001b[0m\u001b[33m\n",
            "\u001b[0mRequirement already satisfied: numpy==1.24.4 in /usr/local/lib/python3.11/dist-packages (1.24.4)\n",
            "\u001b[33mWARNING: Ignoring invalid distribution ~angchain (/usr/local/lib/python3.11/dist-packages)\u001b[0m\u001b[33m\n",
            "\u001b[0m\u001b[33mWARNING: Ignoring invalid distribution ~angchain (/usr/local/lib/python3.11/dist-packages)\u001b[0m\u001b[33m\n",
            "\u001b[0m\u001b[33mWARNING: Ignoring invalid distribution ~angchain (/usr/local/lib/python3.11/dist-packages)\u001b[0m\u001b[33m\n",
            "\u001b[0mCollecting kdbai_client\n",
            "  Using cached kdbai_client-1.6.1-py3-none-any.whl.metadata (3.2 kB)\n",
            "Collecting langchain\n",
            "  Using cached langchain-0.3.25-py3-none-any.whl.metadata (7.8 kB)\n",
            "Collecting langchain_openai\n",
            "  Using cached langchain_openai-0.3.19-py3-none-any.whl.metadata (2.3 kB)\n",
            "Collecting langchain-huggingface\n",
            "  Using cached langchain_huggingface-0.2.0-py3-none-any.whl.metadata (941 bytes)\n",
            "Using cached kdbai_client-1.6.1-py3-none-any.whl (34 kB)\n",
            "Using cached langchain-0.3.25-py3-none-any.whl (1.0 MB)\n",
            "Using cached langchain_openai-0.3.19-py3-none-any.whl (64 kB)\n",
            "Using cached langchain_huggingface-0.2.0-py3-none-any.whl (27 kB)\n",
            "Installing collected packages: langchain_openai, langchain-huggingface, langchain, kdbai_client\n",
            "  Attempting uninstall: langchain_openai\n",
            "\u001b[33m    WARNING: Ignoring invalid distribution ~angchain (/usr/local/lib/python3.11/dist-packages)\u001b[0m\u001b[33m\n",
            "\u001b[0m    Found existing installation: langchain-openai 0.3.19\n",
            "    Uninstalling langchain-openai-0.3.19:\n",
            "      Successfully uninstalled langchain-openai-0.3.19\n",
            "  Attempting uninstall: langchain-huggingface\n",
            "    Found existing installation: langchain-huggingface 0.2.0\n",
            "    Uninstalling langchain-huggingface-0.2.0:\n",
            "      Successfully uninstalled langchain-huggingface-0.2.0\n",
            "  Attempting uninstall: kdbai_client\n",
            "    Found existing installation: kdbai-client 1.6.1\n",
            "    Uninstalling kdbai-client-1.6.1:\n",
            "      Successfully uninstalled kdbai-client-1.6.1\n",
            "\u001b[33mWARNING: Ignoring invalid distribution ~angchain (/usr/local/lib/python3.11/dist-packages)\u001b[0m\u001b[33m\n",
            "\u001b[0m\u001b[33mWARNING: Ignoring invalid distribution ~angchain (/usr/local/lib/python3.11/dist-packages)\u001b[0m\u001b[33m\n",
            "\u001b[0mSuccessfully installed kdbai_client-1.6.1 langchain langchain-huggingface-0.2.0 langchain_openai-0.3.19\n",
            "\u001b[33mWARNING: Ignoring invalid distribution ~angchain (/usr/local/lib/python3.11/dist-packages)\u001b[0m\u001b[33m\n",
            "\u001b[0m\u001b[33mWARNING: Ignoring invalid distribution ~angchain (/usr/local/lib/python3.11/dist-packages)\u001b[0m\u001b[33m\n",
            "\u001b[0mProcessing /content/langchain/libs/community\n",
            "  Installing build dependencies ... \u001b[?25l\u001b[?25hdone\n",
            "  Getting requirements to build wheel ... \u001b[?25l\u001b[?25hdone\n",
            "  Preparing metadata (pyproject.toml) ... \u001b[?25l\u001b[?25hdone\n",
            "Building wheels for collected packages: langchain-community\n",
            "  Building wheel for langchain-community (pyproject.toml) ... \u001b[?25l\u001b[?25hdone\n",
            "  Created wheel for langchain-community: filename=langchain_community-0.3.2-py3-none-any.whl size=2383186 sha256=3e139c3dc8bb8e8b22d60a1a9e7578c6956c33e5b0f46a5d55c6b3e3a81198ca\n",
            "  Stored in directory: /tmp/pip-ephem-wheel-cache-vxwdkow9/wheels/96/9e/c5/aa4147bbd75d826ddd1ede0763114b6a8546e6dee61136cb28\n",
            "Successfully built langchain-community\n",
            "Installing collected packages: langchain-community\n",
            "  Attempting uninstall: langchain-community\n",
            "    Found existing installation: langchain-community 0.3.2\n",
            "    Uninstalling langchain-community-0.3.2:\n",
            "      Successfully uninstalled langchain-community-0.3.2\n",
            "Successfully installed langchain-community-0.3.2\n"
          ]
        }
      ],
      "source": [
        "# import packages\n",
        "# Reinstall numpy and other packages to resolve version conflicts\n",
        "!pip install numpy==1.24.4\n",
        "!pip install kdbai_client langchain langchain_openai langchain-huggingface --force-reinstall --no-deps\n",
        "\n",
        "import os\n",
        "\n",
        "if not os.path.exists('langchain'):\n",
        "    !git clone -b KDBAI_v1.4 https://github.com/KxSystems/langchain.git\n",
        "\n",
        "if os.path.exists('langchain/libs/community'):\n",
        "    os.chdir('langchain/libs/community')\n",
        "    !pip install . --force-reinstall --no-deps\n",
        "else:\n",
        "    print(\"Error: 'langchain/libs/community' directory not found. Git clone might have failed.\")"
      ]
    },
    {
      "cell_type": "code",
      "source": [
        "# download State of the Union speech data\n",
        "import os\n",
        "\n",
        "if os.path.exists(\"./data/state_of_the_union.txt\") == False:\n",
        "    !mkdir ./data\n",
        "    !wget -P ./data https://raw.githubusercontent.com/KxSystems/kdbai-samples/main/retrieval_augmented_generation/data/state_of_the_union.txt"
      ],
      "metadata": {
        "id": "Oxv60YGyIyzR"
      },
      "execution_count": 2,
      "outputs": []
    },
    {
      "cell_type": "code",
      "source": [
        "# vector DB\n",
        "from getpass import getpass\n",
        "import kdbai_client as kdbai\n",
        "import time\n",
        "\n",
        "# langchain packages\n",
        "from langchain.chains import RetrievalQA\n",
        "from langchain_openai import ChatOpenAI\n",
        "from langchain.document_loaders import TextLoader\n",
        "from langchain.text_splitter import RecursiveCharacterTextSplitter\n",
        "from langchain_openai import OpenAIEmbeddings\n",
        "from langchain_community.vectorstores import KDBAI\n",
        "from langchain import HuggingFaceHub\n",
        "from langchain_openai import OpenAI\n",
        "from langchain.chains.question_answering import load_qa_chain\n",
        "from langchain_huggingface import HuggingFaceEndpoint"
      ],
      "metadata": {
        "id": "WGDDiHAqJEd_"
      },
      "execution_count": 3,
      "outputs": []
    },
    {
      "cell_type": "code",
      "source": [
        "os.environ[\"HUGGINGFACEHUB_API_TOKEN\"] = (\n",
        "    os.environ[\"HUGGINGFACEHUB_API_TOKEN\"]\n",
        "    if \"HUGGINGFACEHUB_API_TOKEN\" in os.environ\n",
        "    else getpass(\"Hugging Face API Token: \")\n",
        ")"
      ],
      "metadata": {
        "id": "U9vHVqLWJyva"
      },
      "execution_count": null,
      "outputs": []
    },
    {
      "cell_type": "code",
      "source": [
        "# Load the documents we want to prompt an LLM about\n",
        "doc = TextLoader(\"data/state_of_the_union.txt\").load()"
      ],
      "metadata": {
        "id": "A1CIwtghJ-YW"
      },
      "execution_count": null,
      "outputs": []
    },
    {
      "cell_type": "code",
      "source": [
        "# Chunk the documents into 500 character chunks using langchain's text splitter \"RucursiveCharacterTextSplitter\"\n",
        "text_splitter = RecursiveCharacterTextSplitter(chunk_size=500, chunk_overlap=0)\n",
        "\n",
        "# split_documents produces a list of all the chunks created, printing out first chunk for example\n",
        "pages = [p.page_content for p in text_splitter.split_documents(doc)]\n",
        "\n",
        "pages[0]"
      ],
      "metadata": {
        "colab": {
          "base_uri": "https://localhost:8080/",
          "height": 109
        },
        "id": "5eDjNgEEKIK2",
        "outputId": "45e4a16e-3375-48d8-b301-142248e76d7e"
      },
      "execution_count": 6,
      "outputs": [
        {
          "output_type": "execute_result",
          "data": {
            "text/plain": [
              "'Madam Speaker, Madam Vice President, our First Lady and Second Gentleman. Members of Congress and the Cabinet. Justices of the Supreme Court. My fellow Americans.  \\n\\nLast year COVID-19 kept us apart. This year we are finally together again. \\n\\nTonight, we meet as Democrats Republicans and Independents. But most importantly as Americans. \\n\\nWith a duty to one another to the American people to the Constitution. \\n\\nAnd with an unwavering resolve that freedom will always triumph over tyranny.'"
            ],
            "application/vnd.google.colaboratory.intrinsic+json": {
              "type": "string"
            }
          },
          "metadata": {},
          "execution_count": 6
        }
      ]
    }
  ]
}