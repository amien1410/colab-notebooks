{
  "nbformat": 4,
  "nbformat_minor": 0,
  "metadata": {
    "colab": {
      "provenance": [],
      "authorship_tag": "ABX9TyO7u241J3WMCy5GhU2HYVHK",
      "include_colab_link": true
    },
    "kernelspec": {
      "name": "python3",
      "display_name": "Python 3"
    },
    "language_info": {
      "name": "python"
    }
  },
  "cells": [
    {
      "cell_type": "markdown",
      "metadata": {
        "id": "view-in-github",
        "colab_type": "text"
      },
      "source": [
        "<a href=\"https://colab.research.google.com/github/amien1410/colab-notebooks/blob/main/Commoncrawl_Scraper.ipynb\" target=\"_parent\"><img src=\"https://colab.research.google.com/assets/colab-badge.svg\" alt=\"Open In Colab\"/></a>"
      ]
    },
    {
      "cell_type": "code",
      "execution_count": 4,
      "metadata": {
        "colab": {
          "base_uri": "https://localhost:8080/"
        },
        "id": "HzyJ2HXf1JEB",
        "outputId": "7825d6dd-2b30-4806-e6a5-6d3f4221fa3b"
      },
      "outputs": [
        {
          "output_type": "execute_result",
          "data": {
            "text/plain": [
              "['https://index.commoncrawl.org/CC-MAIN-2025-21-index',\n",
              " 'https://index.commoncrawl.org/CC-MAIN-2025-18-index',\n",
              " 'https://index.commoncrawl.org/CC-MAIN-2025-13-index',\n",
              " 'https://index.commoncrawl.org/CC-MAIN-2025-08-index',\n",
              " 'https://index.commoncrawl.org/CC-MAIN-2025-05-index',\n",
              " 'https://index.commoncrawl.org/CC-MAIN-2024-51-index',\n",
              " 'https://index.commoncrawl.org/CC-MAIN-2024-46-index',\n",
              " 'https://index.commoncrawl.org/CC-MAIN-2024-42-index',\n",
              " 'https://index.commoncrawl.org/CC-MAIN-2024-38-index',\n",
              " 'https://index.commoncrawl.org/CC-MAIN-2024-33-index',\n",
              " 'https://index.commoncrawl.org/CC-MAIN-2024-30-index',\n",
              " 'https://index.commoncrawl.org/CC-MAIN-2024-26-index',\n",
              " 'https://index.commoncrawl.org/CC-MAIN-2024-22-index',\n",
              " 'https://index.commoncrawl.org/CC-MAIN-2024-18-index',\n",
              " 'https://index.commoncrawl.org/CC-MAIN-2024-10-index',\n",
              " 'https://index.commoncrawl.org/CC-MAIN-2023-50-index',\n",
              " 'https://index.commoncrawl.org/CC-MAIN-2023-40-index',\n",
              " 'https://index.commoncrawl.org/CC-MAIN-2023-23-index',\n",
              " 'https://index.commoncrawl.org/CC-MAIN-2023-14-index',\n",
              " 'https://index.commoncrawl.org/CC-MAIN-2023-06-index',\n",
              " 'https://index.commoncrawl.org/CC-MAIN-2022-49-index',\n",
              " 'https://index.commoncrawl.org/CC-MAIN-2022-40-index',\n",
              " 'https://index.commoncrawl.org/CC-MAIN-2022-33-index',\n",
              " 'https://index.commoncrawl.org/CC-MAIN-2022-27-index',\n",
              " 'https://index.commoncrawl.org/CC-MAIN-2022-21-index',\n",
              " 'https://index.commoncrawl.org/CC-MAIN-2022-05-index',\n",
              " 'https://index.commoncrawl.org/CC-MAIN-2021-49-index',\n",
              " 'https://index.commoncrawl.org/CC-MAIN-2021-43-index',\n",
              " 'https://index.commoncrawl.org/CC-MAIN-2021-39-index',\n",
              " 'https://index.commoncrawl.org/CC-MAIN-2021-31-index',\n",
              " 'https://index.commoncrawl.org/CC-MAIN-2021-25-index',\n",
              " 'https://index.commoncrawl.org/CC-MAIN-2021-21-index',\n",
              " 'https://index.commoncrawl.org/CC-MAIN-2021-17-index',\n",
              " 'https://index.commoncrawl.org/CC-MAIN-2021-10-index',\n",
              " 'https://index.commoncrawl.org/CC-MAIN-2021-04-index',\n",
              " 'https://index.commoncrawl.org/CC-MAIN-2020-50-index',\n",
              " 'https://index.commoncrawl.org/CC-MAIN-2020-45-index',\n",
              " 'https://index.commoncrawl.org/CC-MAIN-2020-40-index',\n",
              " 'https://index.commoncrawl.org/CC-MAIN-2020-34-index',\n",
              " 'https://index.commoncrawl.org/CC-MAIN-2020-29-index',\n",
              " 'https://index.commoncrawl.org/CC-MAIN-2020-24-index',\n",
              " 'https://index.commoncrawl.org/CC-MAIN-2020-16-index',\n",
              " 'https://index.commoncrawl.org/CC-MAIN-2020-10-index',\n",
              " 'https://index.commoncrawl.org/CC-MAIN-2020-05-index',\n",
              " 'https://index.commoncrawl.org/CC-MAIN-2019-51-index',\n",
              " 'https://index.commoncrawl.org/CC-MAIN-2019-47-index',\n",
              " 'https://index.commoncrawl.org/CC-MAIN-2019-43-index',\n",
              " 'https://index.commoncrawl.org/CC-MAIN-2019-39-index',\n",
              " 'https://index.commoncrawl.org/CC-MAIN-2019-35-index',\n",
              " 'https://index.commoncrawl.org/CC-MAIN-2019-30-index',\n",
              " 'https://index.commoncrawl.org/CC-MAIN-2019-26-index',\n",
              " 'https://index.commoncrawl.org/CC-MAIN-2019-22-index',\n",
              " 'https://index.commoncrawl.org/CC-MAIN-2019-18-index',\n",
              " 'https://index.commoncrawl.org/CC-MAIN-2019-13-index',\n",
              " 'https://index.commoncrawl.org/CC-MAIN-2019-09-index',\n",
              " 'https://index.commoncrawl.org/CC-MAIN-2019-04-index',\n",
              " 'https://index.commoncrawl.org/CC-MAIN-2018-51-index',\n",
              " 'https://index.commoncrawl.org/CC-MAIN-2018-47-index',\n",
              " 'https://index.commoncrawl.org/CC-MAIN-2018-43-index',\n",
              " 'https://index.commoncrawl.org/CC-MAIN-2018-39-index',\n",
              " 'https://index.commoncrawl.org/CC-MAIN-2018-34-index',\n",
              " 'https://index.commoncrawl.org/CC-MAIN-2018-30-index',\n",
              " 'https://index.commoncrawl.org/CC-MAIN-2018-26-index',\n",
              " 'https://index.commoncrawl.org/CC-MAIN-2018-22-index',\n",
              " 'https://index.commoncrawl.org/CC-MAIN-2018-17-index',\n",
              " 'https://index.commoncrawl.org/CC-MAIN-2018-13-index',\n",
              " 'https://index.commoncrawl.org/CC-MAIN-2018-09-index',\n",
              " 'https://index.commoncrawl.org/CC-MAIN-2018-05-index',\n",
              " 'https://index.commoncrawl.org/CC-MAIN-2017-51-index',\n",
              " 'https://index.commoncrawl.org/CC-MAIN-2017-47-index',\n",
              " 'https://index.commoncrawl.org/CC-MAIN-2017-43-index',\n",
              " 'https://index.commoncrawl.org/CC-MAIN-2017-39-index',\n",
              " 'https://index.commoncrawl.org/CC-MAIN-2017-34-index',\n",
              " 'https://index.commoncrawl.org/CC-MAIN-2017-30-index',\n",
              " 'https://index.commoncrawl.org/CC-MAIN-2017-26-index',\n",
              " 'https://index.commoncrawl.org/CC-MAIN-2017-22-index',\n",
              " 'https://index.commoncrawl.org/CC-MAIN-2017-17-index',\n",
              " 'https://index.commoncrawl.org/CC-MAIN-2017-13-index',\n",
              " 'https://index.commoncrawl.org/CC-MAIN-2017-09-index',\n",
              " 'https://index.commoncrawl.org/CC-MAIN-2017-04-index',\n",
              " 'https://index.commoncrawl.org/CC-MAIN-2016-50-index',\n",
              " 'https://index.commoncrawl.org/CC-MAIN-2016-44-index',\n",
              " 'https://index.commoncrawl.org/CC-MAIN-2016-40-index',\n",
              " 'https://index.commoncrawl.org/CC-MAIN-2016-36-index',\n",
              " 'https://index.commoncrawl.org/CC-MAIN-2016-30-index',\n",
              " 'https://index.commoncrawl.org/CC-MAIN-2016-26-index',\n",
              " 'https://index.commoncrawl.org/CC-MAIN-2016-22-index',\n",
              " 'https://index.commoncrawl.org/CC-MAIN-2016-18-index',\n",
              " 'https://index.commoncrawl.org/CC-MAIN-2016-07-index',\n",
              " 'https://index.commoncrawl.org/CC-MAIN-2015-48-index',\n",
              " 'https://index.commoncrawl.org/CC-MAIN-2015-40-index',\n",
              " 'https://index.commoncrawl.org/CC-MAIN-2015-35-index',\n",
              " 'https://index.commoncrawl.org/CC-MAIN-2015-32-index',\n",
              " 'https://index.commoncrawl.org/CC-MAIN-2015-27-index',\n",
              " 'https://index.commoncrawl.org/CC-MAIN-2015-22-index',\n",
              " 'https://index.commoncrawl.org/CC-MAIN-2015-18-index',\n",
              " 'https://index.commoncrawl.org/CC-MAIN-2015-14-index',\n",
              " 'https://index.commoncrawl.org/CC-MAIN-2015-11-index',\n",
              " 'https://index.commoncrawl.org/CC-MAIN-2015-06-index',\n",
              " 'https://index.commoncrawl.org/CC-MAIN-2014-52-index',\n",
              " 'https://index.commoncrawl.org/CC-MAIN-2014-49-index',\n",
              " 'https://index.commoncrawl.org/CC-MAIN-2014-42-index',\n",
              " 'https://index.commoncrawl.org/CC-MAIN-2014-41-index',\n",
              " 'https://index.commoncrawl.org/CC-MAIN-2014-35-index',\n",
              " 'https://index.commoncrawl.org/CC-MAIN-2014-23-index',\n",
              " 'https://index.commoncrawl.org/CC-MAIN-2014-15-index',\n",
              " 'https://index.commoncrawl.org/CC-MAIN-2014-10-index',\n",
              " 'https://index.commoncrawl.org/CC-MAIN-2013-48-index',\n",
              " 'https://index.commoncrawl.org/CC-MAIN-2013-20-index',\n",
              " 'https://index.commoncrawl.org/CC-MAIN-2012-index',\n",
              " 'https://index.commoncrawl.org/CC-MAIN-2009-2010-index',\n",
              " 'https://index.commoncrawl.org/CC-MAIN-2008-2009-index']"
            ]
          },
          "metadata": {},
          "execution_count": 4
        }
      ],
      "source": [
        "import requests\n",
        "import json\n",
        "\n",
        "request_url = 'http://index.commoncrawl.org/collinfo.json'\n",
        "response = requests.get(url=request_url)\n",
        "response_json = json.loads(response.text)\n",
        "\n",
        "api_urls = []\n",
        "for api_url in response_json:\n",
        "  api_urls.append(api_url[\"cdx-api\"])\n",
        "\n",
        "api_urls"
      ]
    },
    {
      "cell_type": "code",
      "source": [
        "import logging\n",
        "\n",
        "domain = \"google.com\"\n",
        "urls = []\n",
        "page = 1\n",
        "num_of_api_urls = 1\n",
        "\n",
        "if num_of_api_urls > len(api_urls):\n",
        "  raise Exception(\"Total number of api urls is less than number to check \")\n",
        "\n",
        "for i in range(num_of_api_urls):\n",
        "  try:\n",
        "     while True:\n",
        "        request_url = api_urls[i] + f'?url={domain}/*&output=json&fl=url&page={str(page)}'\n",
        "        logging.info(f'GET {request_url}')\n",
        "        response = requests.get(url=request_url)\n",
        "        if response.status_code == 200:\n",
        "           for item in response.text.split('\\n'):\n",
        "              try:\n",
        "                 item_json = json.loads(item)\n",
        "                 urls.append(str(item_json[\"url\"]))\n",
        "              except json.JSONDecodeError:\n",
        "                 logging.warning(\"JSON Error: Probably trying to decode empty item\")\n",
        "           page += 1\n",
        "        else:\n",
        "           break\n",
        "  except requests.exceptions.Timeout:\n",
        "     logging.error(\"requests.exceptions.Timeout: Timeout\")\n",
        "  except requests.exceptions.TooManyRedirects:\n",
        "     logging.error(\"requests.exceptions.TooManyRedirects: Too many redirects. Try a different URL.\")\n",
        "  except requests.exceptions.RequestException:\n",
        "     logging.error(\"requests.exceptions.RequestException\")\n",
        "  page = 1\n",
        "\n",
        "urls"
      ],
      "metadata": {
        "colab": {
          "base_uri": "https://localhost:8080/"
        },
        "id": "7PrnYrYd2Qkb",
        "outputId": "e3b7ab41-92d0-44dc-9634-d2357ac6e4c0"
      },
      "execution_count": 5,
      "outputs": [
        {
          "output_type": "execute_result",
          "data": {
            "text/plain": [
              "[]"
            ]
          },
          "metadata": {},
          "execution_count": 5
        }
      ]
    }
  ]
}